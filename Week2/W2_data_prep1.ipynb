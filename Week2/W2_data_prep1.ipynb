{
 "cells": [
  {
   "cell_type": "markdown",
   "id": "european-halloween",
   "metadata": {},
   "source": [
    "# Week 2 - Data Prep 1\n",
    "After this week's lesson you should be able to:\n",
    "- Checking a columns data types and converting types\n",
    "- Rename a dataframe column \n",
    "- Handle missing data: \n",
    "    - Filter out missing data\n",
    "    - Replace values \n",
    "\n",
    "This week's lessons are adapted from:\n",
    "- [PPD599: Advanced Urban Analytics](https://github.com/gboeing/ppd599/tree/main/syllabus)\n",
    "- [Geo-Python Lesson 5](https://geo-python-site.readthedocs.io/en/latest/notebooks/L5/processing-data-with-pandas.html)"
   ]
  },
  {
   "cell_type": "code",
   "execution_count": 50,
   "id": "agreed-ridge",
   "metadata": {},
   "outputs": [],
   "source": [
    "# We are going to start importing the libraries we need\n",
    "# all in one cell. \n",
    "# It is a good practice to keep all the imports in one cell so that\n",
    "# we can easily see what libraries we are using in the notebook.\n",
    "\n",
    "import pandas as pd\n",
    "\n",
    "# If you don't have numpy installed, you can install it via pip\n",
    "# !pip install numpy in a code cell\n",
    "import numpy as np"
   ]
  },
  {
   "cell_type": "markdown",
   "id": "collected-control",
   "metadata": {},
   "source": [
    "# 1. Data cleaning\n",
    "As you might have already seen, when we work with data, the initial dataset is not always in a shape where we can use it as is. \n",
    "\n",
    "Sometimes column names are misspelled or unclear, there may be missing values, or the format of each column is incorrect. Moreoever you may also have noticed that often we can extract information from columns that might make them easier to work with. All these steps can be considered part of a data cleaning or data wrangling process, where we get the dataset ready to be used more effectively for our analysis purposes. \n",
    "\n",
    "\n"
   ]
  },
  {
   "cell_type": "markdown",
   "id": "smart-coordinator",
   "metadata": {},
   "source": [
    "## 1.1 Getting the data\n",
    "Let's say we want to compare the relationship between: \n",
    "1. the **total number of students in a general ed public school** \n",
    "2. the **money spent on new school construction and improvements in that school**. \n",
    "\n",
    "### School Construction Authority\n",
    "\n",
    "First, make sure you have the `Active_Projects_Under_Construction.csv` in your folder where this notebook is. It's from [Active Projects Under Construction](https://data.cityofnewyork.us/Housing-Development/Active-Projects-Under-Construction/8586-3zfm) from NYC's open data portal, but I've modified it a little.\n",
    "\n",
    "This is a dataset of new school projects (Capacity) and Capital Improvement Projects (CIP) currently under Construction, created by the School Construction Authority. \n",
    "\n",
    "\n"
   ]
  },
  {
   "cell_type": "code",
   "execution_count": 51,
   "id": "fifth-shepherd",
   "metadata": {},
   "outputs": [],
   "source": [
    "## Here we are going to read a csv directly from the web\n",
    "## We are going to use the read_csv() function from the pandas library\n",
    "## \n",
    "\n",
    "projects_under_const = pd.read_csv('Active_Projects_Under_Construction.csv')"
   ]
  },
  {
   "cell_type": "markdown",
   "id": "illegal-steps",
   "metadata": {},
   "source": [
    "Also, go ahead and download the data dictionary `SCA Active Projects in Construction Data Dictionary.xlsx`. Data dictionaries often have explanations for what each column name represents and other useful information about the data. \n",
    "\n",
    "\n",
    "If you open up the data dictionary, does it correspond to the \"Columns in this Dataset\" section in the NYC OpenData's page on this dataset? No, right? We have to be careful about these inconsistencies, even in official portals."
   ]
  },
  {
   "cell_type": "markdown",
   "id": "cognitive-orlando",
   "metadata": {},
   "source": [
    "Taking a look at the first five rows we can already see there is a lot of missing data in this dataset. "
   ]
  },
  {
   "cell_type": "code",
   "execution_count": 52,
   "id": "sought-burlington",
   "metadata": {},
   "outputs": [
    {
     "data": {
      "text/html": [
       "<div>\n",
       "<style scoped>\n",
       "    .dataframe tbody tr th:only-of-type {\n",
       "        vertical-align: middle;\n",
       "    }\n",
       "\n",
       "    .dataframe tbody tr th {\n",
       "        vertical-align: top;\n",
       "    }\n",
       "\n",
       "    .dataframe thead th {\n",
       "        text-align: right;\n",
       "    }\n",
       "</style>\n",
       "<table border=\"1\" class=\"dataframe\">\n",
       "  <thead>\n",
       "    <tr style=\"text-align: right;\">\n",
       "      <th></th>\n",
       "      <th>School Name</th>\n",
       "      <th>BoroughCode</th>\n",
       "      <th>Geographical District</th>\n",
       "      <th>Project Description</th>\n",
       "      <th>Construction Award</th>\n",
       "      <th>Project type</th>\n",
       "      <th>Building ID</th>\n",
       "      <th>Building Address</th>\n",
       "      <th>City</th>\n",
       "      <th>Postcode</th>\n",
       "      <th>...</th>\n",
       "      <th>Longitude</th>\n",
       "      <th>Community Board</th>\n",
       "      <th>Council District</th>\n",
       "      <th>Census Tract</th>\n",
       "      <th>BIN</th>\n",
       "      <th>BBL</th>\n",
       "      <th>NTA</th>\n",
       "      <th>Location 1</th>\n",
       "      <th>Data As Of</th>\n",
       "      <th>data_year</th>\n",
       "    </tr>\n",
       "  </thead>\n",
       "  <tbody>\n",
       "    <tr>\n",
       "      <th>0</th>\n",
       "      <td>NaN</td>\n",
       "      <td>M</td>\n",
       "      <td>2</td>\n",
       "      <td>NaN</td>\n",
       "      <td>0.0</td>\n",
       "      <td>CAP</td>\n",
       "      <td>M777</td>\n",
       "      <td>227 WEST 27TH STREET</td>\n",
       "      <td>Manhattan</td>\n",
       "      <td>NaN</td>\n",
       "      <td>...</td>\n",
       "      <td>NaN</td>\n",
       "      <td>NaN</td>\n",
       "      <td>NaN</td>\n",
       "      <td>NaN</td>\n",
       "      <td>NaN</td>\n",
       "      <td>NaN</td>\n",
       "      <td>NaN</td>\n",
       "      <td>NaN</td>\n",
       "      <td>NaN</td>\n",
       "      <td>NaN</td>\n",
       "    </tr>\n",
       "    <tr>\n",
       "      <th>1</th>\n",
       "      <td>BAYSIDE HIGH SCHOOL - QUEENS</td>\n",
       "      <td>Q</td>\n",
       "      <td>26</td>\n",
       "      <td>FY19 RESO A AUDITORIUM UPGRADE</td>\n",
       "      <td>1261000.0</td>\n",
       "      <td>CIP</td>\n",
       "      <td>Q405</td>\n",
       "      <td>32-24 CORPORAL KENNEDY STREET</td>\n",
       "      <td>Queens</td>\n",
       "      <td>10301.0</td>\n",
       "      <td>...</td>\n",
       "      <td>NaN</td>\n",
       "      <td>NaN</td>\n",
       "      <td>NaN</td>\n",
       "      <td>NaN</td>\n",
       "      <td>NaN</td>\n",
       "      <td>NaN</td>\n",
       "      <td>NaN</td>\n",
       "      <td>NaN</td>\n",
       "      <td>1/6/22</td>\n",
       "      <td>2022.0</td>\n",
       "    </tr>\n",
       "    <tr>\n",
       "      <th>2</th>\n",
       "      <td>P.S. @ PARCEL F - QUEENS</td>\n",
       "      <td>Q</td>\n",
       "      <td>30</td>\n",
       "      <td>Demo</td>\n",
       "      <td>0.0</td>\n",
       "      <td>CAP</td>\n",
       "      <td>NaN</td>\n",
       "      <td>2ND STREET BETWEEN 56TH AND 57TH AVENUE</td>\n",
       "      <td>Queens</td>\n",
       "      <td>11101.0</td>\n",
       "      <td>...</td>\n",
       "      <td>NaN</td>\n",
       "      <td>NaN</td>\n",
       "      <td>NaN</td>\n",
       "      <td>NaN</td>\n",
       "      <td>NaN</td>\n",
       "      <td>NaN</td>\n",
       "      <td>NaN</td>\n",
       "      <td>NaN</td>\n",
       "      <td>10/30/18</td>\n",
       "      <td>2018.0</td>\n",
       "    </tr>\n",
       "    <tr>\n",
       "      <th>3</th>\n",
       "      <td>3K CENTER @ 3893 DYRE AVENUE - BRONX</td>\n",
       "      <td>X</td>\n",
       "      <td>11</td>\n",
       "      <td>Lease</td>\n",
       "      <td>6262000.0</td>\n",
       "      <td>CAP</td>\n",
       "      <td>X501</td>\n",
       "      <td>3893 DYRE AVEUNE</td>\n",
       "      <td>Bronx</td>\n",
       "      <td>NaN</td>\n",
       "      <td>...</td>\n",
       "      <td>NaN</td>\n",
       "      <td>NaN</td>\n",
       "      <td>NaN</td>\n",
       "      <td>NaN</td>\n",
       "      <td>NaN</td>\n",
       "      <td>NaN</td>\n",
       "      <td>NaN</td>\n",
       "      <td>NaN</td>\n",
       "      <td>8/4/22</td>\n",
       "      <td>2022.0</td>\n",
       "    </tr>\n",
       "    <tr>\n",
       "      <th>4</th>\n",
       "      <td>P.S. 129 - QUEENS</td>\n",
       "      <td>Q</td>\n",
       "      <td>25</td>\n",
       "      <td>Addition</td>\n",
       "      <td>0.0</td>\n",
       "      <td>CAP</td>\n",
       "      <td>Q129</td>\n",
       "      <td>128-02 7TH AVENUE</td>\n",
       "      <td>Queens</td>\n",
       "      <td>11356.0</td>\n",
       "      <td>...</td>\n",
       "      <td>-73.839771</td>\n",
       "      <td>7.0</td>\n",
       "      <td>19.0</td>\n",
       "      <td>945.0</td>\n",
       "      <td>4096774.0</td>\n",
       "      <td>4.039760e+09</td>\n",
       "      <td>Whitestone</td>\n",
       "      <td>(40.790638, -73.839771)</td>\n",
       "      <td>2/6/19</td>\n",
       "      <td>2019.0</td>\n",
       "    </tr>\n",
       "  </tbody>\n",
       "</table>\n",
       "<p>5 rows × 22 columns</p>\n",
       "</div>"
      ],
      "text/plain": [
       "                            School Name BoroughCode  Geographical District  \\\n",
       "0                                   NaN           M                      2   \n",
       "1          BAYSIDE HIGH SCHOOL - QUEENS           Q                     26   \n",
       "2              P.S. @ PARCEL F - QUEENS           Q                     30   \n",
       "3  3K CENTER @ 3893 DYRE AVENUE - BRONX           X                     11   \n",
       "4                     P.S. 129 - QUEENS           Q                     25   \n",
       "\n",
       "              Project Description  Construction Award Project type  \\\n",
       "0                             NaN                 0.0          CAP   \n",
       "1  FY19 RESO A AUDITORIUM UPGRADE           1261000.0          CIP   \n",
       "2                            Demo                 0.0          CAP   \n",
       "3                           Lease           6262000.0          CAP   \n",
       "4                        Addition                 0.0          CAP   \n",
       "\n",
       "  Building ID                         Building Address       City  Postcode  \\\n",
       "0        M777                     227 WEST 27TH STREET  Manhattan       NaN   \n",
       "1        Q405            32-24 CORPORAL KENNEDY STREET     Queens   10301.0   \n",
       "2         NaN  2ND STREET BETWEEN 56TH AND 57TH AVENUE     Queens   11101.0   \n",
       "3        X501                         3893 DYRE AVEUNE      Bronx       NaN   \n",
       "4        Q129                        128-02 7TH AVENUE     Queens   11356.0   \n",
       "\n",
       "   ...  Longitude  Community Board  Council District  Census Tract        BIN  \\\n",
       "0  ...        NaN              NaN               NaN           NaN        NaN   \n",
       "1  ...        NaN              NaN               NaN           NaN        NaN   \n",
       "2  ...        NaN              NaN               NaN           NaN        NaN   \n",
       "3  ...        NaN              NaN               NaN           NaN        NaN   \n",
       "4  ... -73.839771              7.0              19.0         945.0  4096774.0   \n",
       "\n",
       "            BBL         NTA               Location 1 Data As Of data_year  \n",
       "0           NaN         NaN                      NaN        NaN       NaN  \n",
       "1           NaN         NaN                      NaN     1/6/22    2022.0  \n",
       "2           NaN         NaN                      NaN   10/30/18    2018.0  \n",
       "3           NaN         NaN                      NaN     8/4/22    2022.0  \n",
       "4  4.039760e+09  Whitestone  (40.790638, -73.839771)     2/6/19    2019.0  \n",
       "\n",
       "[5 rows x 22 columns]"
      ]
     },
     "execution_count": 52,
     "metadata": {},
     "output_type": "execute_result"
    }
   ],
   "source": [
    "projects_under_const.head()"
   ]
  },
  {
   "cell_type": "markdown",
   "id": "external-convert",
   "metadata": {},
   "source": [
    "### Class size dataset\n",
    "Also download the `2021_-_2022_Average_Class_Size_by_School.csv` [2021 - 2022 Average Class Size by School](https://data.cityofnewyork.us/Education/2021-2022-Average-Class-Size-by-School/sgr7-hhwp) dataset, along with it's attachments. (Here, only `2021-2022 Average Class Size By School DD.xlsx` is the data dictionary, the other is the dataset as an excel spreadsheet). \n"
   ]
  },
  {
   "cell_type": "code",
   "execution_count": 53,
   "id": "german-fault",
   "metadata": {},
   "outputs": [],
   "source": [
    "class_size = pd.read_csv('2021_-_2022_Average_Class_Size_by_School.csv')"
   ]
  },
  {
   "cell_type": "code",
   "execution_count": 54,
   "id": "educated-canal",
   "metadata": {},
   "outputs": [
    {
     "data": {
      "text/html": [
       "<div>\n",
       "<style scoped>\n",
       "    .dataframe tbody tr th:only-of-type {\n",
       "        vertical-align: middle;\n",
       "    }\n",
       "\n",
       "    .dataframe tbody tr th {\n",
       "        vertical-align: top;\n",
       "    }\n",
       "\n",
       "    .dataframe thead th {\n",
       "        text-align: right;\n",
       "    }\n",
       "</style>\n",
       "<table border=\"1\" class=\"dataframe\">\n",
       "  <thead>\n",
       "    <tr style=\"text-align: right;\">\n",
       "      <th></th>\n",
       "      <th>DBN</th>\n",
       "      <th>School Name</th>\n",
       "      <th>Grade Level</th>\n",
       "      <th>Program Type</th>\n",
       "      <th>Number of Students</th>\n",
       "      <th>Number of Classes</th>\n",
       "      <th>Average Class Size</th>\n",
       "      <th>Minimum Class Size</th>\n",
       "      <th>Maximum Class Size</th>\n",
       "    </tr>\n",
       "  </thead>\n",
       "  <tbody>\n",
       "    <tr>\n",
       "      <th>0</th>\n",
       "      <td>01M015</td>\n",
       "      <td>PS 015 ROBERTO CLEMENTE</td>\n",
       "      <td>K</td>\n",
       "      <td>G&amp;T</td>\n",
       "      <td>13</td>\n",
       "      <td>1</td>\n",
       "      <td>13.0</td>\n",
       "      <td>&lt;15</td>\n",
       "      <td>&lt;15</td>\n",
       "    </tr>\n",
       "    <tr>\n",
       "      <th>1</th>\n",
       "      <td>01M015</td>\n",
       "      <td>PS 015 ROBERTO CLEMENTE</td>\n",
       "      <td>K</td>\n",
       "      <td>ICT</td>\n",
       "      <td>17</td>\n",
       "      <td>1</td>\n",
       "      <td>17.0</td>\n",
       "      <td>17</td>\n",
       "      <td>17</td>\n",
       "    </tr>\n",
       "    <tr>\n",
       "      <th>2</th>\n",
       "      <td>01M015</td>\n",
       "      <td>PS 015 ROBERTO CLEMENTE</td>\n",
       "      <td>1</td>\n",
       "      <td>G&amp;T</td>\n",
       "      <td>8</td>\n",
       "      <td>1</td>\n",
       "      <td>8.0</td>\n",
       "      <td>&lt;15</td>\n",
       "      <td>&lt;15</td>\n",
       "    </tr>\n",
       "    <tr>\n",
       "      <th>3</th>\n",
       "      <td>01M015</td>\n",
       "      <td>PS 015 ROBERTO CLEMENTE</td>\n",
       "      <td>1</td>\n",
       "      <td>ICT</td>\n",
       "      <td>18</td>\n",
       "      <td>1</td>\n",
       "      <td>18.0</td>\n",
       "      <td>18</td>\n",
       "      <td>18</td>\n",
       "    </tr>\n",
       "    <tr>\n",
       "      <th>4</th>\n",
       "      <td>01M015</td>\n",
       "      <td>PS 015 ROBERTO CLEMENTE</td>\n",
       "      <td>2</td>\n",
       "      <td>G&amp;T</td>\n",
       "      <td>8</td>\n",
       "      <td>1</td>\n",
       "      <td>8.0</td>\n",
       "      <td>&lt;15</td>\n",
       "      <td>&lt;15</td>\n",
       "    </tr>\n",
       "  </tbody>\n",
       "</table>\n",
       "</div>"
      ],
      "text/plain": [
       "      DBN              School Name Grade Level Program Type  \\\n",
       "0  01M015  PS 015 ROBERTO CLEMENTE           K          G&T   \n",
       "1  01M015  PS 015 ROBERTO CLEMENTE           K          ICT   \n",
       "2  01M015  PS 015 ROBERTO CLEMENTE           1          G&T   \n",
       "3  01M015  PS 015 ROBERTO CLEMENTE           1          ICT   \n",
       "4  01M015  PS 015 ROBERTO CLEMENTE           2          G&T   \n",
       "\n",
       "   Number of Students  Number of Classes  Average Class Size  \\\n",
       "0                  13                  1                13.0   \n",
       "1                  17                  1                17.0   \n",
       "2                   8                  1                 8.0   \n",
       "3                  18                  1                18.0   \n",
       "4                   8                  1                 8.0   \n",
       "\n",
       "  Minimum Class Size Maximum Class Size  \n",
       "0                <15                <15  \n",
       "1                 17                 17  \n",
       "2                <15                <15  \n",
       "3                 18                 18  \n",
       "4                <15                <15  "
      ]
     },
     "execution_count": 54,
     "metadata": {},
     "output_type": "execute_result"
    }
   ],
   "source": [
    "class_size.head()"
   ]
  },
  {
   "cell_type": "markdown",
   "id": "devoted-container",
   "metadata": {},
   "source": [
    "Here, most of the columns make sense to me. From the data dictionary, I can see that Program Type is coded as follows:\n",
    "\n",
    "- General Education (Gen Ed), \n",
    "- Integrated Co-Teaching (ICT), \n",
    "- Gifted and Talented (G&T), \n",
    "- Self-Contained (SC)\n",
    "- Accelerated (Acc)\"\n",
    "\n",
    "\n",
    "What does not make sense is the `Minimum Class Size` column, which seems to be the same as the maximum class size column in some cases. Therefore, I'll likely not use this column."
   ]
  },
  {
   "cell_type": "markdown",
   "id": "bigger-raleigh",
   "metadata": {},
   "source": [
    "## 1.2 Assessing Data Types\n",
    "One of the next things we'll check is the data type for each column to make sure that they are in the right format. "
   ]
  },
  {
   "cell_type": "code",
   "execution_count": 55,
   "id": "spectacular-amateur",
   "metadata": {},
   "outputs": [
    {
     "data": {
      "text/plain": [
       "DBN                    object\n",
       "School Name            object\n",
       "Grade Level            object\n",
       "Program Type           object\n",
       "Number of Students      int64\n",
       "Number of Classes       int64\n",
       "Average Class Size    float64\n",
       "Minimum Class Size     object\n",
       "Maximum Class Size     object\n",
       "dtype: object"
      ]
     },
     "execution_count": 55,
     "metadata": {},
     "output_type": "execute_result"
    }
   ],
   "source": [
    "class_size.dtypes"
   ]
  },
  {
   "cell_type": "markdown",
   "id": "extra-reliance",
   "metadata": {},
   "source": [
    "I would not necessarily change the data types for all columns (especially when there are a lot), **just the ones that you might potentially need**. \n",
    "\n",
    "Here, `Maximum Class Size` is an `object` format (I'm going to ignore `Minimum Class Size` for now), likely because the size is sometimes input as `<INT` and sometimes `INT`. \n",
    "\n"
   ]
  },
  {
   "cell_type": "markdown",
   "id": "b3946abc",
   "metadata": {},
   "source": [
    "## 1.3 Replacing Data\n",
    "\n",
    "We went over replacing data last week. There are actually a few ways to do this: \n",
    "- `df.replace(to_replace=old_value, value=new_value)`\n"
   ]
  },
  {
   "cell_type": "code",
   "execution_count": 56,
   "id": "a922242e",
   "metadata": {},
   "outputs": [
    {
     "data": {
      "text/plain": [
       "array(['K', '1', '2', '3', '4', '5', '6', '7', '8', 'K-8 SC'],\n",
       "      dtype=object)"
      ]
     },
     "execution_count": 56,
     "metadata": {},
     "output_type": "execute_result"
    }
   ],
   "source": [
    "class_size['Grade Level'].unique()"
   ]
  },
  {
   "cell_type": "code",
   "execution_count": 57,
   "id": "fcfd277d",
   "metadata": {},
   "outputs": [
    {
     "name": "stderr",
     "output_type": "stream",
     "text": [
      "C:\\Users\\desai\\AppData\\Local\\Temp\\ipykernel_33572\\3797425382.py:2: FutureWarning: A value is trying to be set on a copy of a DataFrame or Series through chained assignment using an inplace method.\n",
      "The behavior will change in pandas 3.0. This inplace method will never work because the intermediate object on which we are setting values always behaves as a copy.\n",
      "\n",
      "For example, when doing 'df[col].method(value, inplace=True)', try using 'df.method({col: value}, inplace=True)' or df[col] = df[col].method(value) instead, to perform the operation inplace on the original object.\n",
      "\n",
      "\n",
      "  class_size['Grade Level'].replace('K', '0', inplace=True)\n"
     ]
    }
   ],
   "source": [
    "## Warning: inplace=True will modify the original column!\n",
    "class_size['Grade Level'].replace('K', '0', inplace=True) "
   ]
  },
  {
   "cell_type": "code",
   "execution_count": 58,
   "id": "bd707285",
   "metadata": {},
   "outputs": [
    {
     "data": {
      "text/plain": [
       "array(['0', '1', '2', '3', '4', '5', '6', '7', '8', 'K-8 SC'],\n",
       "      dtype=object)"
      ]
     },
     "execution_count": 58,
     "metadata": {},
     "output_type": "execute_result"
    }
   ],
   "source": [
    "class_size['Grade Level'].unique()"
   ]
  },
  {
   "cell_type": "markdown",
   "id": "7a30315a",
   "metadata": {},
   "source": [
    "You can also replace multiple values at once"
   ]
  },
  {
   "cell_type": "code",
   "execution_count": 59,
   "id": "86afff2d",
   "metadata": {},
   "outputs": [
    {
     "name": "stderr",
     "output_type": "stream",
     "text": [
      "C:\\Users\\desai\\AppData\\Local\\Temp\\ipykernel_33572\\948763727.py:2: FutureWarning: A value is trying to be set on a copy of a DataFrame or Series through chained assignment using an inplace method.\n",
      "The behavior will change in pandas 3.0. This inplace method will never work because the intermediate object on which we are setting values always behaves as a copy.\n",
      "\n",
      "For example, when doing 'df[col].method(value, inplace=True)', try using 'df.method({col: value}, inplace=True)' or df[col] = df[col].method(value) instead, to perform the operation inplace on the original object.\n",
      "\n",
      "\n",
      "  class_size['Grade Level'].replace(['K','K-8 SC'], '0', inplace=True)\n"
     ]
    }
   ],
   "source": [
    "# We should probably not replace 'K-8 SC' with 0, but showing here for demonstration purposes\n",
    "class_size['Grade Level'].replace(['K','K-8 SC'], '0', inplace=True)"
   ]
  },
  {
   "cell_type": "code",
   "execution_count": 60,
   "id": "810c6088",
   "metadata": {},
   "outputs": [
    {
     "data": {
      "text/plain": [
       "array(['0', '1', '2', '3', '4', '5', '6', '7', '8'], dtype=object)"
      ]
     },
     "execution_count": 60,
     "metadata": {},
     "output_type": "execute_result"
    }
   ],
   "source": [
    "class_size['Grade Level'].unique()"
   ]
  },
  {
   "cell_type": "markdown",
   "id": "714574df",
   "metadata": {},
   "source": [
    "Note that we are not actually changing the original data! Just the version of the data that we have associated with this variable."
   ]
  },
  {
   "cell_type": "markdown",
   "id": "91290e22",
   "metadata": {},
   "source": [
    "We can also use \n",
    "* `df.loc[df['column_name'] == some_value, 'column_name'] = new_value`\n"
   ]
  },
  {
   "cell_type": "code",
   "execution_count": 61,
   "id": "4b4e2379",
   "metadata": {},
   "outputs": [],
   "source": [
    "class_size.loc[class_size['Grade Level'] == 'K','Grade Level'] = '0'    "
   ]
  },
  {
   "cell_type": "markdown",
   "id": "de3f8f22",
   "metadata": {},
   "source": [
    "For replacing null values, see below. "
   ]
  },
  {
   "cell_type": "markdown",
   "id": "virtual-gender",
   "metadata": {},
   "source": [
    "## 1.3 Changing data types\n",
    "Notice that we changed everything in \"Grade Level\" to numbers, but it's still showing up as an `object`.  Now let's try to change the data type for `Grade Level`. \n",
    "\n",
    "`.astype()` changes your column types for a particular column. \n"
   ]
  },
  {
   "cell_type": "code",
   "execution_count": 62,
   "id": "94705628",
   "metadata": {},
   "outputs": [
    {
     "data": {
      "text/plain": [
       "DBN                    object\n",
       "School Name            object\n",
       "Grade Level            object\n",
       "Program Type           object\n",
       "Number of Students      int64\n",
       "Number of Classes       int64\n",
       "Average Class Size    float64\n",
       "Minimum Class Size     object\n",
       "Maximum Class Size     object\n",
       "dtype: object"
      ]
     },
     "execution_count": 62,
     "metadata": {},
     "output_type": "execute_result"
    }
   ],
   "source": [
    "class_size.dtypes"
   ]
  },
  {
   "cell_type": "code",
   "execution_count": 63,
   "id": "narrow-garbage",
   "metadata": {},
   "outputs": [],
   "source": [
    "## What I've done here is replace the old `max_class_size_clean` column with \n",
    "## a version of it that is an int\n",
    "class_size['Grade Level'] = class_size['Grade Level'].astype(np.int64)"
   ]
  },
  {
   "cell_type": "code",
   "execution_count": 64,
   "id": "yellow-liquid",
   "metadata": {},
   "outputs": [
    {
     "data": {
      "text/plain": [
       "dtype('int64')"
      ]
     },
     "execution_count": 64,
     "metadata": {},
     "output_type": "execute_result"
    }
   ],
   "source": [
    "# Notice that `int` from above defaults to 64 bit integers. \n",
    "# Automatically this first showed as int32, I coerced the type into int64 by using numpy\n",
    "class_size['Grade Level'].dtype"
   ]
  },
  {
   "cell_type": "markdown",
   "id": "b2ab2482",
   "metadata": {},
   "source": [
    "## 1.5 Null values in pandas. \n",
    "\n",
    "There are two main ways to represent the absence of values in a cell in Pandas: \n",
    "- `None` means a missing entry, but it's not a numeric type. \n",
    "- `NaN` is used by Pandas for representing missing data in numeric columns.\n"
   ]
  },
  {
   "cell_type": "code",
   "execution_count": 65,
   "id": "c48e9cff",
   "metadata": {},
   "outputs": [
    {
     "data": {
      "text/html": [
       "<div>\n",
       "<style scoped>\n",
       "    .dataframe tbody tr th:only-of-type {\n",
       "        vertical-align: middle;\n",
       "    }\n",
       "\n",
       "    .dataframe tbody tr th {\n",
       "        vertical-align: top;\n",
       "    }\n",
       "\n",
       "    .dataframe thead th {\n",
       "        text-align: right;\n",
       "    }\n",
       "</style>\n",
       "<table border=\"1\" class=\"dataframe\">\n",
       "  <thead>\n",
       "    <tr style=\"text-align: right;\">\n",
       "      <th></th>\n",
       "      <th>School Name</th>\n",
       "      <th>BoroughCode</th>\n",
       "      <th>Geographical District</th>\n",
       "      <th>Project Description</th>\n",
       "      <th>Construction Award</th>\n",
       "      <th>Project type</th>\n",
       "      <th>Building ID</th>\n",
       "      <th>Building Address</th>\n",
       "      <th>City</th>\n",
       "      <th>Postcode</th>\n",
       "      <th>...</th>\n",
       "      <th>Longitude</th>\n",
       "      <th>Community Board</th>\n",
       "      <th>Council District</th>\n",
       "      <th>Census Tract</th>\n",
       "      <th>BIN</th>\n",
       "      <th>BBL</th>\n",
       "      <th>NTA</th>\n",
       "      <th>Location 1</th>\n",
       "      <th>Data As Of</th>\n",
       "      <th>data_year</th>\n",
       "    </tr>\n",
       "  </thead>\n",
       "  <tbody>\n",
       "    <tr>\n",
       "      <th>0</th>\n",
       "      <td>NaN</td>\n",
       "      <td>M</td>\n",
       "      <td>2</td>\n",
       "      <td>NaN</td>\n",
       "      <td>0.0</td>\n",
       "      <td>CAP</td>\n",
       "      <td>M777</td>\n",
       "      <td>227 WEST 27TH STREET</td>\n",
       "      <td>Manhattan</td>\n",
       "      <td>NaN</td>\n",
       "      <td>...</td>\n",
       "      <td>NaN</td>\n",
       "      <td>NaN</td>\n",
       "      <td>NaN</td>\n",
       "      <td>NaN</td>\n",
       "      <td>NaN</td>\n",
       "      <td>NaN</td>\n",
       "      <td>NaN</td>\n",
       "      <td>NaN</td>\n",
       "      <td>NaN</td>\n",
       "      <td>NaN</td>\n",
       "    </tr>\n",
       "    <tr>\n",
       "      <th>1</th>\n",
       "      <td>BAYSIDE HIGH SCHOOL - QUEENS</td>\n",
       "      <td>Q</td>\n",
       "      <td>26</td>\n",
       "      <td>FY19 RESO A AUDITORIUM UPGRADE</td>\n",
       "      <td>1261000.0</td>\n",
       "      <td>CIP</td>\n",
       "      <td>Q405</td>\n",
       "      <td>32-24 CORPORAL KENNEDY STREET</td>\n",
       "      <td>Queens</td>\n",
       "      <td>10301.0</td>\n",
       "      <td>...</td>\n",
       "      <td>NaN</td>\n",
       "      <td>NaN</td>\n",
       "      <td>NaN</td>\n",
       "      <td>NaN</td>\n",
       "      <td>NaN</td>\n",
       "      <td>NaN</td>\n",
       "      <td>NaN</td>\n",
       "      <td>NaN</td>\n",
       "      <td>1/6/22</td>\n",
       "      <td>2022.0</td>\n",
       "    </tr>\n",
       "    <tr>\n",
       "      <th>2</th>\n",
       "      <td>P.S. @ PARCEL F - QUEENS</td>\n",
       "      <td>Q</td>\n",
       "      <td>30</td>\n",
       "      <td>Demo</td>\n",
       "      <td>0.0</td>\n",
       "      <td>CAP</td>\n",
       "      <td>NaN</td>\n",
       "      <td>2ND STREET BETWEEN 56TH AND 57TH AVENUE</td>\n",
       "      <td>Queens</td>\n",
       "      <td>11101.0</td>\n",
       "      <td>...</td>\n",
       "      <td>NaN</td>\n",
       "      <td>NaN</td>\n",
       "      <td>NaN</td>\n",
       "      <td>NaN</td>\n",
       "      <td>NaN</td>\n",
       "      <td>NaN</td>\n",
       "      <td>NaN</td>\n",
       "      <td>NaN</td>\n",
       "      <td>10/30/18</td>\n",
       "      <td>2018.0</td>\n",
       "    </tr>\n",
       "    <tr>\n",
       "      <th>3</th>\n",
       "      <td>3K CENTER @ 3893 DYRE AVENUE - BRONX</td>\n",
       "      <td>X</td>\n",
       "      <td>11</td>\n",
       "      <td>Lease</td>\n",
       "      <td>6262000.0</td>\n",
       "      <td>CAP</td>\n",
       "      <td>X501</td>\n",
       "      <td>3893 DYRE AVEUNE</td>\n",
       "      <td>Bronx</td>\n",
       "      <td>NaN</td>\n",
       "      <td>...</td>\n",
       "      <td>NaN</td>\n",
       "      <td>NaN</td>\n",
       "      <td>NaN</td>\n",
       "      <td>NaN</td>\n",
       "      <td>NaN</td>\n",
       "      <td>NaN</td>\n",
       "      <td>NaN</td>\n",
       "      <td>NaN</td>\n",
       "      <td>8/4/22</td>\n",
       "      <td>2022.0</td>\n",
       "    </tr>\n",
       "    <tr>\n",
       "      <th>4</th>\n",
       "      <td>P.S. 129 - QUEENS</td>\n",
       "      <td>Q</td>\n",
       "      <td>25</td>\n",
       "      <td>Addition</td>\n",
       "      <td>0.0</td>\n",
       "      <td>CAP</td>\n",
       "      <td>Q129</td>\n",
       "      <td>128-02 7TH AVENUE</td>\n",
       "      <td>Queens</td>\n",
       "      <td>11356.0</td>\n",
       "      <td>...</td>\n",
       "      <td>-73.839771</td>\n",
       "      <td>7.0</td>\n",
       "      <td>19.0</td>\n",
       "      <td>945.0</td>\n",
       "      <td>4096774.0</td>\n",
       "      <td>4.039760e+09</td>\n",
       "      <td>Whitestone</td>\n",
       "      <td>(40.790638, -73.839771)</td>\n",
       "      <td>2/6/19</td>\n",
       "      <td>2019.0</td>\n",
       "    </tr>\n",
       "  </tbody>\n",
       "</table>\n",
       "<p>5 rows × 22 columns</p>\n",
       "</div>"
      ],
      "text/plain": [
       "                            School Name BoroughCode  Geographical District  \\\n",
       "0                                   NaN           M                      2   \n",
       "1          BAYSIDE HIGH SCHOOL - QUEENS           Q                     26   \n",
       "2              P.S. @ PARCEL F - QUEENS           Q                     30   \n",
       "3  3K CENTER @ 3893 DYRE AVENUE - BRONX           X                     11   \n",
       "4                     P.S. 129 - QUEENS           Q                     25   \n",
       "\n",
       "              Project Description  Construction Award Project type  \\\n",
       "0                             NaN                 0.0          CAP   \n",
       "1  FY19 RESO A AUDITORIUM UPGRADE           1261000.0          CIP   \n",
       "2                            Demo                 0.0          CAP   \n",
       "3                           Lease           6262000.0          CAP   \n",
       "4                        Addition                 0.0          CAP   \n",
       "\n",
       "  Building ID                         Building Address       City  Postcode  \\\n",
       "0        M777                     227 WEST 27TH STREET  Manhattan       NaN   \n",
       "1        Q405            32-24 CORPORAL KENNEDY STREET     Queens   10301.0   \n",
       "2         NaN  2ND STREET BETWEEN 56TH AND 57TH AVENUE     Queens   11101.0   \n",
       "3        X501                         3893 DYRE AVEUNE      Bronx       NaN   \n",
       "4        Q129                        128-02 7TH AVENUE     Queens   11356.0   \n",
       "\n",
       "   ...  Longitude  Community Board  Council District  Census Tract        BIN  \\\n",
       "0  ...        NaN              NaN               NaN           NaN        NaN   \n",
       "1  ...        NaN              NaN               NaN           NaN        NaN   \n",
       "2  ...        NaN              NaN               NaN           NaN        NaN   \n",
       "3  ...        NaN              NaN               NaN           NaN        NaN   \n",
       "4  ... -73.839771              7.0              19.0         945.0  4096774.0   \n",
       "\n",
       "            BBL         NTA               Location 1 Data As Of data_year  \n",
       "0           NaN         NaN                      NaN        NaN       NaN  \n",
       "1           NaN         NaN                      NaN     1/6/22    2022.0  \n",
       "2           NaN         NaN                      NaN   10/30/18    2018.0  \n",
       "3           NaN         NaN                      NaN     8/4/22    2022.0  \n",
       "4  4.039760e+09  Whitestone  (40.790638, -73.839771)     2/6/19    2019.0  \n",
       "\n",
       "[5 rows x 22 columns]"
      ]
     },
     "execution_count": 65,
     "metadata": {},
     "output_type": "execute_result"
    }
   ],
   "source": [
    "projects_under_const.head()"
   ]
  },
  {
   "cell_type": "markdown",
   "id": "orange-scheme",
   "metadata": {},
   "source": [
    "## 1.6 Handling missing data\n",
    "Now, let's say that our analysis depends knowing the year the data was created. There are a few ways of handling missing data. "
   ]
  },
  {
   "cell_type": "markdown",
   "id": "monthly-commissioner",
   "metadata": {},
   "source": [
    "### 1.6.1 Removing rows \n",
    "We can remove those rows with data missing from a column that we are planning to use in our analysis. "
   ]
  },
  {
   "cell_type": "code",
   "execution_count": 66,
   "id": "bfe12512",
   "metadata": {},
   "outputs": [
    {
     "data": {
      "text/html": [
       "<div>\n",
       "<style scoped>\n",
       "    .dataframe tbody tr th:only-of-type {\n",
       "        vertical-align: middle;\n",
       "    }\n",
       "\n",
       "    .dataframe tbody tr th {\n",
       "        vertical-align: top;\n",
       "    }\n",
       "\n",
       "    .dataframe thead th {\n",
       "        text-align: right;\n",
       "    }\n",
       "</style>\n",
       "<table border=\"1\" class=\"dataframe\">\n",
       "  <thead>\n",
       "    <tr style=\"text-align: right;\">\n",
       "      <th></th>\n",
       "      <th>School Name</th>\n",
       "      <th>BoroughCode</th>\n",
       "      <th>Geographical District</th>\n",
       "      <th>Project Description</th>\n",
       "      <th>Construction Award</th>\n",
       "      <th>Project type</th>\n",
       "      <th>Building ID</th>\n",
       "      <th>Building Address</th>\n",
       "      <th>City</th>\n",
       "      <th>Postcode</th>\n",
       "      <th>...</th>\n",
       "      <th>Longitude</th>\n",
       "      <th>Community Board</th>\n",
       "      <th>Council District</th>\n",
       "      <th>Census Tract</th>\n",
       "      <th>BIN</th>\n",
       "      <th>BBL</th>\n",
       "      <th>NTA</th>\n",
       "      <th>Location 1</th>\n",
       "      <th>Data As Of</th>\n",
       "      <th>data_year</th>\n",
       "    </tr>\n",
       "  </thead>\n",
       "  <tbody>\n",
       "    <tr>\n",
       "      <th>0</th>\n",
       "      <td>NaN</td>\n",
       "      <td>M</td>\n",
       "      <td>2</td>\n",
       "      <td>NaN</td>\n",
       "      <td>0.0</td>\n",
       "      <td>CAP</td>\n",
       "      <td>M777</td>\n",
       "      <td>227 WEST 27TH STREET</td>\n",
       "      <td>Manhattan</td>\n",
       "      <td>NaN</td>\n",
       "      <td>...</td>\n",
       "      <td>NaN</td>\n",
       "      <td>NaN</td>\n",
       "      <td>NaN</td>\n",
       "      <td>NaN</td>\n",
       "      <td>NaN</td>\n",
       "      <td>NaN</td>\n",
       "      <td>NaN</td>\n",
       "      <td>NaN</td>\n",
       "      <td>NaN</td>\n",
       "      <td>NaN</td>\n",
       "    </tr>\n",
       "  </tbody>\n",
       "</table>\n",
       "<p>1 rows × 22 columns</p>\n",
       "</div>"
      ],
      "text/plain": [
       "  School Name BoroughCode  Geographical District Project Description  \\\n",
       "0         NaN           M                      2                 NaN   \n",
       "\n",
       "   Construction Award Project type Building ID      Building Address  \\\n",
       "0                 0.0          CAP        M777  227 WEST 27TH STREET   \n",
       "\n",
       "        City  Postcode  ... Longitude  Community Board  Council District  \\\n",
       "0  Manhattan       NaN  ...       NaN              NaN               NaN   \n",
       "\n",
       "   Census Tract  BIN  BBL  NTA  Location 1 Data As Of data_year  \n",
       "0           NaN  NaN  NaN  NaN         NaN        NaN       NaN  \n",
       "\n",
       "[1 rows x 22 columns]"
      ]
     },
     "execution_count": 66,
     "metadata": {},
     "output_type": "execute_result"
    }
   ],
   "source": [
    "projects_under_const[projects_under_const['data_year'].isna()==True]"
   ]
  },
  {
   "cell_type": "code",
   "execution_count": 67,
   "id": "better-destruction",
   "metadata": {},
   "outputs": [],
   "source": [
    "# Here we are going to use the isna() function to check if the data_year column has a NaN\n",
    "# isna() returns a boolean (True or False) for each row\n",
    "# and we are going to use that boolean to filter the dataframe. \n",
    "# We are going to keep only the rows where the data_year column is not a NaN\n",
    "\n",
    "projects_under_const_new = projects_under_const[projects_under_const['data_year'].isna()==False]"
   ]
  },
  {
   "cell_type": "markdown",
   "id": "regular-belarus",
   "metadata": {},
   "source": [
    "### 1.6.2 Replacing missing data\n",
    "We can also replace the missing data with certain values: \n",
    "- We can replace the data with the mean of the non-NaN column values, for numerical values. (For instance, if our columns were something like \"adult heights\", then replacing the NaN with the mean values in the columns would allow us to leave the sample mean unchanged, which might be good for regression purposes). \n",
    "- We can also replace with the median (if you think there are outliers in the sample that might be skewing the mean)\n",
    "- Replacing with the mode (most frequent value) would make more sense if we think that there's some default value \n",
    "\n",
    "**What would you do here?**"
   ]
  },
  {
   "cell_type": "code",
   "execution_count": 68,
   "id": "b5cd0c06",
   "metadata": {},
   "outputs": [
    {
     "name": "stdout",
     "output_type": "stream",
     "text": [
      "count    9000.000000\n",
      "mean     2015.535333\n",
      "std        23.465827\n",
      "min      1900.000000\n",
      "25%      2019.000000\n",
      "50%      2021.000000\n",
      "75%      2022.000000\n",
      "max      2022.000000\n",
      "Name: data_year, dtype: float64\n"
     ]
    },
    {
     "data": {
      "text/html": [
       "<div>\n",
       "<style scoped>\n",
       "    .dataframe tbody tr th:only-of-type {\n",
       "        vertical-align: middle;\n",
       "    }\n",
       "\n",
       "    .dataframe tbody tr th {\n",
       "        vertical-align: top;\n",
       "    }\n",
       "\n",
       "    .dataframe thead th {\n",
       "        text-align: right;\n",
       "    }\n",
       "</style>\n",
       "<table border=\"1\" class=\"dataframe\">\n",
       "  <thead>\n",
       "    <tr style=\"text-align: right;\">\n",
       "      <th></th>\n",
       "      <th>School Name</th>\n",
       "      <th>BoroughCode</th>\n",
       "      <th>Geographical District</th>\n",
       "      <th>Project Description</th>\n",
       "      <th>Construction Award</th>\n",
       "      <th>Project type</th>\n",
       "      <th>Building ID</th>\n",
       "      <th>Building Address</th>\n",
       "      <th>City</th>\n",
       "      <th>Postcode</th>\n",
       "      <th>...</th>\n",
       "      <th>Longitude</th>\n",
       "      <th>Community Board</th>\n",
       "      <th>Council District</th>\n",
       "      <th>Census Tract</th>\n",
       "      <th>BIN</th>\n",
       "      <th>BBL</th>\n",
       "      <th>NTA</th>\n",
       "      <th>Location 1</th>\n",
       "      <th>Data As Of</th>\n",
       "      <th>data_year</th>\n",
       "    </tr>\n",
       "  </thead>\n",
       "  <tbody>\n",
       "    <tr>\n",
       "      <th>0</th>\n",
       "      <td>NaN</td>\n",
       "      <td>M</td>\n",
       "      <td>2</td>\n",
       "      <td>NaN</td>\n",
       "      <td>0.0</td>\n",
       "      <td>CAP</td>\n",
       "      <td>M777</td>\n",
       "      <td>227 WEST 27TH STREET</td>\n",
       "      <td>Manhattan</td>\n",
       "      <td>NaN</td>\n",
       "      <td>...</td>\n",
       "      <td>NaN</td>\n",
       "      <td>NaN</td>\n",
       "      <td>NaN</td>\n",
       "      <td>NaN</td>\n",
       "      <td>NaN</td>\n",
       "      <td>NaN</td>\n",
       "      <td>NaN</td>\n",
       "      <td>NaN</td>\n",
       "      <td>NaN</td>\n",
       "      <td>NaN</td>\n",
       "    </tr>\n",
       "  </tbody>\n",
       "</table>\n",
       "<p>1 rows × 22 columns</p>\n",
       "</div>"
      ],
      "text/plain": [
       "  School Name BoroughCode  Geographical District Project Description  \\\n",
       "0         NaN           M                      2                 NaN   \n",
       "\n",
       "   Construction Award Project type Building ID      Building Address  \\\n",
       "0                 0.0          CAP        M777  227 WEST 27TH STREET   \n",
       "\n",
       "        City  Postcode  ... Longitude  Community Board  Council District  \\\n",
       "0  Manhattan       NaN  ...       NaN              NaN               NaN   \n",
       "\n",
       "   Census Tract  BIN  BBL  NTA  Location 1 Data As Of data_year  \n",
       "0           NaN  NaN  NaN  NaN         NaN        NaN       NaN  \n",
       "\n",
       "[1 rows x 22 columns]"
      ]
     },
     "execution_count": 68,
     "metadata": {},
     "output_type": "execute_result"
    }
   ],
   "source": [
    "#Looking at the dataset, it might be better to set the year as the median/mean, because the mode is\n",
    "#some distance away from mean (2022 v. 2015). But since there is only one row missing the 'data_year' value,\n",
    "#this decision probably doesn't matter too much.\n",
    "print(projects_under_const['data_year'].describe())\n",
    "\n",
    "projects_under_const[projects_under_const['data_year'].isna()]"
   ]
  },
  {
   "cell_type": "code",
   "execution_count": 69,
   "id": "beautiful-ontario",
   "metadata": {},
   "outputs": [],
   "source": [
    "# This gets the mode of the data_year column\n",
    "mode_year = projects_under_const['data_year'].mode()"
   ]
  },
  {
   "cell_type": "code",
   "execution_count": 70,
   "id": "extra-paste",
   "metadata": {},
   "outputs": [
    {
     "data": {
      "text/plain": [
       "0    2022.0\n",
       "Name: data_year, dtype: float64"
      ]
     },
     "execution_count": 70,
     "metadata": {},
     "output_type": "execute_result"
    }
   ],
   "source": [
    "mode_year"
   ]
  },
  {
   "cell_type": "code",
   "execution_count": 71,
   "id": "bright-column",
   "metadata": {},
   "outputs": [
    {
     "data": {
      "text/plain": [
       "0       2022.0\n",
       "1       2022.0\n",
       "2       2018.0\n",
       "3       2022.0\n",
       "4       2019.0\n",
       "         ...  \n",
       "8996    2022.0\n",
       "8997    2022.0\n",
       "8998    2022.0\n",
       "8999    2022.0\n",
       "9000    2022.0\n",
       "Name: data_year, Length: 9001, dtype: float64"
      ]
     },
     "execution_count": 71,
     "metadata": {},
     "output_type": "execute_result"
    }
   ],
   "source": [
    "# This fills the NaNs with the mode using the fillna() function\n",
    "# fillna() is a method that fills in missing values with a value of your choice\n",
    "projects_under_const['data_year'].fillna(mode_year)\n"
   ]
  },
  {
   "cell_type": "code",
   "execution_count": 48,
   "id": "southwest-blocking",
   "metadata": {},
   "outputs": [],
   "source": [
    "# Now write over the old data_year column with the new one\n",
    "projects_under_const['data_year'] = projects_under_const['data_year'].fillna(mode_year)"
   ]
  },
  {
   "cell_type": "markdown",
   "id": "simple-freeware",
   "metadata": {},
   "source": [
    "# In-Class Exercise \n",
    "Using the `toy_transit.csv` dataset in this repo, identify and address the  missing data issues. "
   ]
  },
  {
   "cell_type": "code",
   "execution_count": 73,
   "id": "permanent-spotlight",
   "metadata": {},
   "outputs": [],
   "source": [
    "## insert your code here\n",
    "transit_data =pd.read_csv(\"toy_transit_dataset.csv\")"
   ]
  },
  {
   "cell_type": "code",
   "execution_count": 90,
   "id": "0a4efb51",
   "metadata": {},
   "outputs": [
    {
     "name": "stdout",
     "output_type": "stream",
     "text": [
      "Bus Route ID       object\n",
      "Departure Time     object\n",
      "Arrival Station    object\n",
      "Passenger Count    object\n",
      "Driver Name        object\n",
      "dtype: object\n",
      "  Bus Route ID Departure Time  Arrival Station Passenger Count Driver Name\n",
      "0          101           8:00     Central Stn.              45    John Doe\n",
      "1          102           9:30    East Terminal         MISSING  Jane Smith\n",
      "2          103              -         West Hub              30     MISSING\n",
      "3         101A           8:15  Central Station              50    John Doe\n",
      "4          104          10:00      North Plaza              42    J. Brown\n",
      "   Bus Route ID Departure Time Arrival Station Passenger Count Driver Name\n",
      "7           101           8:05     Central St.              47    John Doe\n",
      "8           NaN            NaN             NaN             NaN         NaN\n",
      "9           NaN            NaN             NaN             NaN         NaN\n",
      "10          NaN            NaN             NaN             NaN         NaN\n",
      "11          NaN            NaN             NaN             NaN         NaN\n"
     ]
    }
   ],
   "source": [
    "#types\n",
    "print(transit_data.dtypes)\n",
    "\n",
    "#examining the first few columns\n",
    "print(transit_data.head())\n",
    "\n",
    "#examining the last few columns\n",
    "print(transit_data.tail())\n",
    "\n",
    "#I also realized that this dataset is very small (12 rows * 5 columns)"
   ]
  },
  {
   "cell_type": "code",
   "execution_count": 87,
   "id": "33a26411",
   "metadata": {},
   "outputs": [
    {
     "data": {
      "text/plain": [
       "60"
      ]
     },
     "execution_count": 87,
     "metadata": {},
     "output_type": "execute_result"
    }
   ],
   "source": [
    "transit_data.size"
   ]
  },
  {
   "cell_type": "code",
   "execution_count": 92,
   "id": "415b2c6f",
   "metadata": {},
   "outputs": [
    {
     "data": {
      "text/html": [
       "<div>\n",
       "<style scoped>\n",
       "    .dataframe tbody tr th:only-of-type {\n",
       "        vertical-align: middle;\n",
       "    }\n",
       "\n",
       "    .dataframe tbody tr th {\n",
       "        vertical-align: top;\n",
       "    }\n",
       "\n",
       "    .dataframe thead th {\n",
       "        text-align: right;\n",
       "    }\n",
       "</style>\n",
       "<table border=\"1\" class=\"dataframe\">\n",
       "  <thead>\n",
       "    <tr style=\"text-align: right;\">\n",
       "      <th></th>\n",
       "      <th>Bus Route ID</th>\n",
       "      <th>Departure Time</th>\n",
       "      <th>Arrival Station</th>\n",
       "      <th>Passenger Count</th>\n",
       "      <th>Driver Name</th>\n",
       "    </tr>\n",
       "  </thead>\n",
       "  <tbody>\n",
       "    <tr>\n",
       "      <th>8</th>\n",
       "      <td>NaN</td>\n",
       "      <td>NaN</td>\n",
       "      <td>NaN</td>\n",
       "      <td>NaN</td>\n",
       "      <td>NaN</td>\n",
       "    </tr>\n",
       "    <tr>\n",
       "      <th>9</th>\n",
       "      <td>NaN</td>\n",
       "      <td>NaN</td>\n",
       "      <td>NaN</td>\n",
       "      <td>NaN</td>\n",
       "      <td>NaN</td>\n",
       "    </tr>\n",
       "    <tr>\n",
       "      <th>10</th>\n",
       "      <td>NaN</td>\n",
       "      <td>NaN</td>\n",
       "      <td>NaN</td>\n",
       "      <td>NaN</td>\n",
       "      <td>NaN</td>\n",
       "    </tr>\n",
       "    <tr>\n",
       "      <th>11</th>\n",
       "      <td>NaN</td>\n",
       "      <td>NaN</td>\n",
       "      <td>NaN</td>\n",
       "      <td>NaN</td>\n",
       "      <td>NaN</td>\n",
       "    </tr>\n",
       "  </tbody>\n",
       "</table>\n",
       "</div>"
      ],
      "text/plain": [
       "   Bus Route ID Departure Time Arrival Station Passenger Count Driver Name\n",
       "8           NaN            NaN             NaN             NaN         NaN\n",
       "9           NaN            NaN             NaN             NaN         NaN\n",
       "10          NaN            NaN             NaN             NaN         NaN\n",
       "11          NaN            NaN             NaN             NaN         NaN"
      ]
     },
     "execution_count": 92,
     "metadata": {},
     "output_type": "execute_result"
    }
   ],
   "source": [
    "#there is NaN values in all columns, and the datatype is not correct\n",
    "\n",
    "#first examining bus route ID column for null values\n",
    "transit_data[transit_data['Bus Route ID'].isna()]"
   ]
  },
  {
   "cell_type": "code",
   "execution_count": 95,
   "id": "080dac45",
   "metadata": {},
   "outputs": [
    {
     "data": {
      "text/html": [
       "<div>\n",
       "<style scoped>\n",
       "    .dataframe tbody tr th:only-of-type {\n",
       "        vertical-align: middle;\n",
       "    }\n",
       "\n",
       "    .dataframe tbody tr th {\n",
       "        vertical-align: top;\n",
       "    }\n",
       "\n",
       "    .dataframe thead th {\n",
       "        text-align: right;\n",
       "    }\n",
       "</style>\n",
       "<table border=\"1\" class=\"dataframe\">\n",
       "  <thead>\n",
       "    <tr style=\"text-align: right;\">\n",
       "      <th></th>\n",
       "      <th>Bus Route ID</th>\n",
       "      <th>Departure Time</th>\n",
       "      <th>Arrival Station</th>\n",
       "      <th>Passenger Count</th>\n",
       "      <th>Driver Name</th>\n",
       "    </tr>\n",
       "  </thead>\n",
       "  <tbody>\n",
       "    <tr>\n",
       "      <th>0</th>\n",
       "      <td>101</td>\n",
       "      <td>8:00</td>\n",
       "      <td>Central Stn.</td>\n",
       "      <td>45</td>\n",
       "      <td>John Doe</td>\n",
       "    </tr>\n",
       "    <tr>\n",
       "      <th>1</th>\n",
       "      <td>102</td>\n",
       "      <td>9:30</td>\n",
       "      <td>East Terminal</td>\n",
       "      <td>MISSING</td>\n",
       "      <td>Jane Smith</td>\n",
       "    </tr>\n",
       "    <tr>\n",
       "      <th>2</th>\n",
       "      <td>103</td>\n",
       "      <td>-</td>\n",
       "      <td>West Hub</td>\n",
       "      <td>30</td>\n",
       "      <td>MISSING</td>\n",
       "    </tr>\n",
       "    <tr>\n",
       "      <th>3</th>\n",
       "      <td>101A</td>\n",
       "      <td>8:15</td>\n",
       "      <td>Central Station</td>\n",
       "      <td>50</td>\n",
       "      <td>John Doe</td>\n",
       "    </tr>\n",
       "    <tr>\n",
       "      <th>4</th>\n",
       "      <td>104</td>\n",
       "      <td>10:00</td>\n",
       "      <td>North Plaza</td>\n",
       "      <td>42</td>\n",
       "      <td>J. Brown</td>\n",
       "    </tr>\n",
       "    <tr>\n",
       "      <th>5</th>\n",
       "      <td>102</td>\n",
       "      <td>MISSING</td>\n",
       "      <td>East Term.</td>\n",
       "      <td>55</td>\n",
       "      <td>Jane Smith</td>\n",
       "    </tr>\n",
       "    <tr>\n",
       "      <th>6</th>\n",
       "      <td>103</td>\n",
       "      <td>7:50</td>\n",
       "      <td>West Hub</td>\n",
       "      <td>35</td>\n",
       "      <td>Alex Johnson</td>\n",
       "    </tr>\n",
       "    <tr>\n",
       "      <th>7</th>\n",
       "      <td>101</td>\n",
       "      <td>8:05</td>\n",
       "      <td>Central St.</td>\n",
       "      <td>47</td>\n",
       "      <td>John Doe</td>\n",
       "    </tr>\n",
       "  </tbody>\n",
       "</table>\n",
       "</div>"
      ],
      "text/plain": [
       "  Bus Route ID Departure Time  Arrival Station Passenger Count   Driver Name\n",
       "0          101           8:00     Central Stn.              45      John Doe\n",
       "1          102           9:30    East Terminal         MISSING    Jane Smith\n",
       "2          103              -         West Hub              30       MISSING\n",
       "3         101A           8:15  Central Station              50      John Doe\n",
       "4          104          10:00      North Plaza              42      J. Brown\n",
       "5          102        MISSING       East Term.              55    Jane Smith\n",
       "6          103           7:50         West Hub              35  Alex Johnson\n",
       "7          101           8:05      Central St.              47      John Doe"
      ]
     },
     "execution_count": 95,
     "metadata": {},
     "output_type": "execute_result"
    }
   ],
   "source": [
    "#these seem like noise (no data in any of the columns for these rows), so I remove them\n",
    "transit_data_clean = transit_data[~transit_data['Bus Route ID'].isna()]\n",
    "transit_data_clean"
   ]
  },
  {
   "cell_type": "code",
   "execution_count": 120,
   "id": "cd107648",
   "metadata": {},
   "outputs": [
    {
     "name": "stderr",
     "output_type": "stream",
     "text": [
      "C:\\Users\\desai\\AppData\\Local\\Temp\\ipykernel_33572\\2106543730.py:5: UserWarning: Could not infer format, so each element will be parsed individually, falling back to `dateutil`. To ensure parsing is consistent and as-expected, please specify a format.\n",
      "  transit_data_clean['Departure Time'] =pd.to_datetime(transit_data_clean['Departure Time'], errors='coerce').dt.strftime('%H:%M')\n",
      "C:\\Users\\desai\\AppData\\Local\\Temp\\ipykernel_33572\\2106543730.py:5: SettingWithCopyWarning: \n",
      "A value is trying to be set on a copy of a slice from a DataFrame.\n",
      "Try using .loc[row_indexer,col_indexer] = value instead\n",
      "\n",
      "See the caveats in the documentation: https://pandas.pydata.org/pandas-docs/stable/user_guide/indexing.html#returning-a-view-versus-a-copy\n",
      "  transit_data_clean['Departure Time'] =pd.to_datetime(transit_data_clean['Departure Time'], errors='coerce').dt.strftime('%H:%M')\n"
     ]
    },
    {
     "data": {
      "text/html": [
       "<div>\n",
       "<style scoped>\n",
       "    .dataframe tbody tr th:only-of-type {\n",
       "        vertical-align: middle;\n",
       "    }\n",
       "\n",
       "    .dataframe tbody tr th {\n",
       "        vertical-align: top;\n",
       "    }\n",
       "\n",
       "    .dataframe thead th {\n",
       "        text-align: right;\n",
       "    }\n",
       "</style>\n",
       "<table border=\"1\" class=\"dataframe\">\n",
       "  <thead>\n",
       "    <tr style=\"text-align: right;\">\n",
       "      <th></th>\n",
       "      <th>Bus Route ID</th>\n",
       "      <th>Departure Time</th>\n",
       "      <th>Arrival Station</th>\n",
       "      <th>Passenger Count</th>\n",
       "      <th>Driver Name</th>\n",
       "    </tr>\n",
       "  </thead>\n",
       "  <tbody>\n",
       "    <tr>\n",
       "      <th>0</th>\n",
       "      <td>101</td>\n",
       "      <td>08:00</td>\n",
       "      <td>Central Stn.</td>\n",
       "      <td>45</td>\n",
       "      <td>John Doe</td>\n",
       "    </tr>\n",
       "    <tr>\n",
       "      <th>1</th>\n",
       "      <td>102</td>\n",
       "      <td>09:30</td>\n",
       "      <td>East Terminal</td>\n",
       "      <td>MISSING</td>\n",
       "      <td>Jane Smith</td>\n",
       "    </tr>\n",
       "    <tr>\n",
       "      <th>2</th>\n",
       "      <td>103</td>\n",
       "      <td>NaN</td>\n",
       "      <td>West Hub</td>\n",
       "      <td>30</td>\n",
       "      <td>MISSING</td>\n",
       "    </tr>\n",
       "    <tr>\n",
       "      <th>3</th>\n",
       "      <td>101A</td>\n",
       "      <td>08:15</td>\n",
       "      <td>Central Station</td>\n",
       "      <td>50</td>\n",
       "      <td>John Doe</td>\n",
       "    </tr>\n",
       "    <tr>\n",
       "      <th>4</th>\n",
       "      <td>104</td>\n",
       "      <td>10:00</td>\n",
       "      <td>North Plaza</td>\n",
       "      <td>42</td>\n",
       "      <td>J. Brown</td>\n",
       "    </tr>\n",
       "    <tr>\n",
       "      <th>5</th>\n",
       "      <td>102</td>\n",
       "      <td>NaN</td>\n",
       "      <td>East Term.</td>\n",
       "      <td>55</td>\n",
       "      <td>Jane Smith</td>\n",
       "    </tr>\n",
       "    <tr>\n",
       "      <th>6</th>\n",
       "      <td>103</td>\n",
       "      <td>07:50</td>\n",
       "      <td>West Hub</td>\n",
       "      <td>35</td>\n",
       "      <td>Alex Johnson</td>\n",
       "    </tr>\n",
       "    <tr>\n",
       "      <th>7</th>\n",
       "      <td>101</td>\n",
       "      <td>08:05</td>\n",
       "      <td>Central St.</td>\n",
       "      <td>47</td>\n",
       "      <td>John Doe</td>\n",
       "    </tr>\n",
       "  </tbody>\n",
       "</table>\n",
       "</div>"
      ],
      "text/plain": [
       "  Bus Route ID Departure Time  Arrival Station Passenger Count   Driver Name\n",
       "0          101          08:00     Central Stn.              45      John Doe\n",
       "1          102          09:30    East Terminal         MISSING    Jane Smith\n",
       "2          103            NaN         West Hub              30       MISSING\n",
       "3         101A          08:15  Central Station              50      John Doe\n",
       "4          104          10:00      North Plaza              42      J. Brown\n",
       "5          102            NaN       East Term.              55    Jane Smith\n",
       "6          103          07:50         West Hub              35  Alex Johnson\n",
       "7          101          08:05      Central St.              47      John Doe"
      ]
     },
     "execution_count": 120,
     "metadata": {},
     "output_type": "execute_result"
    }
   ],
   "source": [
    "#now I clean departure time, I first tried to parse it to datetime, but that includes dates (which I don't want)\n",
    "#then I tried to just get the time, but that automatically sets the type as string when put back into pandas\n",
    "#I think that's ok.\n",
    "#I left the missing data as is, because I think it's probably not accurate to set the time as something else\n",
    "transit_data_clean['Departure Time'] =pd.to_datetime(transit_data_clean['Departure Time'], errors='coerce').dt.strftime('%H:%M')\n",
    "\n",
    "transit_data_clean"
   ]
  },
  {
   "cell_type": "code",
   "execution_count": 150,
   "id": "17df8268",
   "metadata": {},
   "outputs": [
    {
     "name": "stderr",
     "output_type": "stream",
     "text": [
      "C:\\Users\\desai\\AppData\\Local\\Temp\\ipykernel_33572\\4257615202.py:5: SettingWithCopyWarning: \n",
      "A value is trying to be set on a copy of a slice from a DataFrame.\n",
      "Try using .loc[row_indexer,col_indexer] = value instead\n",
      "\n",
      "See the caveats in the documentation: https://pandas.pydata.org/pandas-docs/stable/user_guide/indexing.html#returning-a-view-versus-a-copy\n",
      "  transit_data_clean['Passenger Count']=pd.to_numeric(transit_data_clean['Passenger Count'], errors='coerce').astype(pd.Int64Dtype())\n",
      "C:\\Users\\desai\\AppData\\Local\\Temp\\ipykernel_33572\\4257615202.py:9: FutureWarning: A value is trying to be set on a copy of a DataFrame or Series through chained assignment using an inplace method.\n",
      "The behavior will change in pandas 3.0. This inplace method will never work because the intermediate object on which we are setting values always behaves as a copy.\n",
      "\n",
      "For example, when doing 'df[col].method(value, inplace=True)', try using 'df.method({col: value}, inplace=True)' or df[col] = df[col].method(value) instead, to perform the operation inplace on the original object.\n",
      "\n",
      "\n",
      "  transit_data_clean['Passenger Count'].replace(pd.NA, round(transit_data_clean['Passenger Count'].mean()), inplace=True)\n",
      "C:\\Users\\desai\\AppData\\Local\\Temp\\ipykernel_33572\\4257615202.py:9: SettingWithCopyWarning: \n",
      "A value is trying to be set on a copy of a slice from a DataFrame\n",
      "\n",
      "See the caveats in the documentation: https://pandas.pydata.org/pandas-docs/stable/user_guide/indexing.html#returning-a-view-versus-a-copy\n",
      "  transit_data_clean['Passenger Count'].replace(pd.NA, round(transit_data_clean['Passenger Count'].mean()), inplace=True)\n"
     ]
    },
    {
     "data": {
      "text/html": [
       "<div>\n",
       "<style scoped>\n",
       "    .dataframe tbody tr th:only-of-type {\n",
       "        vertical-align: middle;\n",
       "    }\n",
       "\n",
       "    .dataframe tbody tr th {\n",
       "        vertical-align: top;\n",
       "    }\n",
       "\n",
       "    .dataframe thead th {\n",
       "        text-align: right;\n",
       "    }\n",
       "</style>\n",
       "<table border=\"1\" class=\"dataframe\">\n",
       "  <thead>\n",
       "    <tr style=\"text-align: right;\">\n",
       "      <th></th>\n",
       "      <th>Bus Route ID</th>\n",
       "      <th>Departure Time</th>\n",
       "      <th>Arrival Station</th>\n",
       "      <th>Passenger Count</th>\n",
       "      <th>Driver Name</th>\n",
       "    </tr>\n",
       "  </thead>\n",
       "  <tbody>\n",
       "    <tr>\n",
       "      <th>0</th>\n",
       "      <td>101</td>\n",
       "      <td>08:00</td>\n",
       "      <td>Central Stn.</td>\n",
       "      <td>45</td>\n",
       "      <td>John Doe</td>\n",
       "    </tr>\n",
       "    <tr>\n",
       "      <th>1</th>\n",
       "      <td>102</td>\n",
       "      <td>09:30</td>\n",
       "      <td>East Terminal</td>\n",
       "      <td>43</td>\n",
       "      <td>Jane Smith</td>\n",
       "    </tr>\n",
       "    <tr>\n",
       "      <th>2</th>\n",
       "      <td>103</td>\n",
       "      <td>NaN</td>\n",
       "      <td>West Hub</td>\n",
       "      <td>30</td>\n",
       "      <td>MISSING</td>\n",
       "    </tr>\n",
       "    <tr>\n",
       "      <th>3</th>\n",
       "      <td>101A</td>\n",
       "      <td>08:15</td>\n",
       "      <td>Central Station</td>\n",
       "      <td>50</td>\n",
       "      <td>John Doe</td>\n",
       "    </tr>\n",
       "    <tr>\n",
       "      <th>4</th>\n",
       "      <td>104</td>\n",
       "      <td>10:00</td>\n",
       "      <td>North Plaza</td>\n",
       "      <td>42</td>\n",
       "      <td>J. Brown</td>\n",
       "    </tr>\n",
       "    <tr>\n",
       "      <th>5</th>\n",
       "      <td>102</td>\n",
       "      <td>NaN</td>\n",
       "      <td>East Term.</td>\n",
       "      <td>55</td>\n",
       "      <td>Jane Smith</td>\n",
       "    </tr>\n",
       "    <tr>\n",
       "      <th>6</th>\n",
       "      <td>103</td>\n",
       "      <td>07:50</td>\n",
       "      <td>West Hub</td>\n",
       "      <td>35</td>\n",
       "      <td>Alex Johnson</td>\n",
       "    </tr>\n",
       "    <tr>\n",
       "      <th>7</th>\n",
       "      <td>101</td>\n",
       "      <td>08:05</td>\n",
       "      <td>Central St.</td>\n",
       "      <td>47</td>\n",
       "      <td>John Doe</td>\n",
       "    </tr>\n",
       "  </tbody>\n",
       "</table>\n",
       "</div>"
      ],
      "text/plain": [
       "  Bus Route ID Departure Time  Arrival Station  Passenger Count   Driver Name\n",
       "0          101          08:00     Central Stn.               45      John Doe\n",
       "1          102          09:30    East Terminal               43    Jane Smith\n",
       "2          103            NaN         West Hub               30       MISSING\n",
       "3         101A          08:15  Central Station               50      John Doe\n",
       "4          104          10:00      North Plaza               42      J. Brown\n",
       "5          102            NaN       East Term.               55    Jane Smith\n",
       "6          103          07:50         West Hub               35  Alex Johnson\n",
       "7          101          08:05      Central St.               47      John Doe"
      ]
     },
     "execution_count": 150,
     "metadata": {},
     "output_type": "execute_result"
    }
   ],
   "source": [
    "#passenger count replace missing with NaN\n",
    "# transit_data_clean['Passenger Count'].replace('NaN', 'MISSING', inplace=True) this causes problems later when converting to int\n",
    "\n",
    "#then convert type to int\n",
    "transit_data_clean['Passenger Count']=pd.to_numeric(transit_data_clean['Passenger Count'], errors='coerce').astype(pd.Int64Dtype())\n",
    "\n",
    "#replace missing value with mean (the mean doesn't account for missing value, which is good)\n",
    "#we round because passengers are people, which are integers\n",
    "transit_data_clean['Passenger Count'].replace(pd.NA, round(transit_data_clean['Passenger Count'].mean()), inplace=True)\n",
    "\n",
    "transit_data_clean"
   ]
  },
  {
   "cell_type": "code",
   "execution_count": 170,
   "id": "06813d52",
   "metadata": {},
   "outputs": [
    {
     "name": "stderr",
     "output_type": "stream",
     "text": [
      "C:\\Users\\desai\\AppData\\Local\\Temp\\ipykernel_33572\\944002490.py:5: SettingWithCopyWarning: \n",
      "A value is trying to be set on a copy of a slice from a DataFrame\n",
      "\n",
      "See the caveats in the documentation: https://pandas.pydata.org/pandas-docs/stable/user_guide/indexing.html#returning-a-view-versus-a-copy\n",
      "  transit_data_clean['Driver Name'].replace(\"MISSING\", replacement_name, inplace=True)\n"
     ]
    }
   ],
   "source": [
    "#lastly, Driver Name\n",
    "#this data is probably not too important, so we set it to the mode\n",
    "replacement_name =transit_data_clean['Driver Name'].mode()[0]\n",
    "\n",
    "transit_data_clean['Driver Name'].replace(\"MISSING\", replacement_name, inplace=True)\n"
   ]
  },
  {
   "cell_type": "code",
   "execution_count": 172,
   "id": "104fb511",
   "metadata": {},
   "outputs": [
    {
     "data": {
      "text/html": [
       "<div>\n",
       "<style scoped>\n",
       "    .dataframe tbody tr th:only-of-type {\n",
       "        vertical-align: middle;\n",
       "    }\n",
       "\n",
       "    .dataframe tbody tr th {\n",
       "        vertical-align: top;\n",
       "    }\n",
       "\n",
       "    .dataframe thead th {\n",
       "        text-align: right;\n",
       "    }\n",
       "</style>\n",
       "<table border=\"1\" class=\"dataframe\">\n",
       "  <thead>\n",
       "    <tr style=\"text-align: right;\">\n",
       "      <th></th>\n",
       "      <th>Bus Route ID</th>\n",
       "      <th>Departure Time</th>\n",
       "      <th>Arrival Station</th>\n",
       "      <th>Passenger Count</th>\n",
       "      <th>Driver Name</th>\n",
       "    </tr>\n",
       "  </thead>\n",
       "  <tbody>\n",
       "    <tr>\n",
       "      <th>0</th>\n",
       "      <td>101</td>\n",
       "      <td>08:00</td>\n",
       "      <td>Central Stn.</td>\n",
       "      <td>45</td>\n",
       "      <td>John Doe</td>\n",
       "    </tr>\n",
       "    <tr>\n",
       "      <th>1</th>\n",
       "      <td>102</td>\n",
       "      <td>09:30</td>\n",
       "      <td>East Terminal</td>\n",
       "      <td>43</td>\n",
       "      <td>Jane Smith</td>\n",
       "    </tr>\n",
       "    <tr>\n",
       "      <th>2</th>\n",
       "      <td>103</td>\n",
       "      <td>NaN</td>\n",
       "      <td>West Hub</td>\n",
       "      <td>30</td>\n",
       "      <td>John Doe</td>\n",
       "    </tr>\n",
       "    <tr>\n",
       "      <th>3</th>\n",
       "      <td>101A</td>\n",
       "      <td>08:15</td>\n",
       "      <td>Central Station</td>\n",
       "      <td>50</td>\n",
       "      <td>John Doe</td>\n",
       "    </tr>\n",
       "    <tr>\n",
       "      <th>4</th>\n",
       "      <td>104</td>\n",
       "      <td>10:00</td>\n",
       "      <td>North Plaza</td>\n",
       "      <td>42</td>\n",
       "      <td>J. Brown</td>\n",
       "    </tr>\n",
       "    <tr>\n",
       "      <th>5</th>\n",
       "      <td>102</td>\n",
       "      <td>NaN</td>\n",
       "      <td>East Term.</td>\n",
       "      <td>55</td>\n",
       "      <td>Jane Smith</td>\n",
       "    </tr>\n",
       "    <tr>\n",
       "      <th>6</th>\n",
       "      <td>103</td>\n",
       "      <td>07:50</td>\n",
       "      <td>West Hub</td>\n",
       "      <td>35</td>\n",
       "      <td>Alex Johnson</td>\n",
       "    </tr>\n",
       "    <tr>\n",
       "      <th>7</th>\n",
       "      <td>101</td>\n",
       "      <td>08:05</td>\n",
       "      <td>Central St.</td>\n",
       "      <td>47</td>\n",
       "      <td>John Doe</td>\n",
       "    </tr>\n",
       "  </tbody>\n",
       "</table>\n",
       "</div>"
      ],
      "text/plain": [
       "  Bus Route ID Departure Time  Arrival Station  Passenger Count   Driver Name\n",
       "0          101          08:00     Central Stn.               45      John Doe\n",
       "1          102          09:30    East Terminal               43    Jane Smith\n",
       "2          103            NaN         West Hub               30      John Doe\n",
       "3         101A          08:15  Central Station               50      John Doe\n",
       "4          104          10:00      North Plaza               42      J. Brown\n",
       "5          102            NaN       East Term.               55    Jane Smith\n",
       "6          103          07:50         West Hub               35  Alex Johnson\n",
       "7          101          08:05      Central St.               47      John Doe"
      ]
     },
     "execution_count": 172,
     "metadata": {},
     "output_type": "execute_result"
    }
   ],
   "source": [
    "transit_data_clean"
   ]
  },
  {
   "cell_type": "markdown",
   "id": "ae336678",
   "metadata": {},
   "source": [
    "# Miniconda (optional)\n",
    "Some of you may have noticed that Anaconda takes up 3GB. If this is an issue on your computer, and if you have time right now: \n",
    "\n",
    "1) Follow [these instructions](https://docs.conda.io/projects/miniconda/en/latest/miniconda-install.html) to download Miniconda, which is a more lightweight Python environment. I think it's about 400 MB. \n",
    "2) Once you download miniconda, from your terminal, type \n",
    "`conda list`. \n",
    "If you get a list of installed packages, you've got conda installed. \n",
    "3) Now use the `gds_py_smaller.yml` file (make sure it's in the same directory as your current working directory!) and type\n",
    "\n",
    " `conda env create -f gds_py_smaller.yml`"
   ]
  },
  {
   "cell_type": "code",
   "execution_count": null,
   "id": "db3d4b58",
   "metadata": {},
   "outputs": [],
   "source": [
    "#I installed miniforge (which is for Mamba)"
   ]
  }
 ],
 "metadata": {
  "kernelspec": {
   "display_name": "Python 3",
   "language": "python",
   "name": "python3"
  },
  "language_info": {
   "codemirror_mode": {
    "name": "ipython",
    "version": 3
   },
   "file_extension": ".py",
   "mimetype": "text/x-python",
   "name": "python",
   "nbconvert_exporter": "python",
   "pygments_lexer": "ipython3",
   "version": "3.9.18"
  },
  "vscode": {
   "interpreter": {
    "hash": "cc571d7ca67236538d190807671ab3198970b7d67f23d825ad141ff90f68066a"
   }
  }
 },
 "nbformat": 4,
 "nbformat_minor": 5
}
