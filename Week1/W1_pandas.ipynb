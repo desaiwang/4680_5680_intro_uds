{
   "cells": [
      {
         "cell_type": "markdown",
         "id": "announced-title",
         "metadata": {},
         "source": [
            "# A note about accessing the course files through Github\n",
            "\n",
            "All of the lectures notes will be posted on the [class Github repo](https://github.com/iamwfx/4680_5680_intro_uds). \n",
            "\n",
            "We are (probably) not going over git and Github during class. If you're familiar with git/Github, feel free to clone the repo to get the new lecture materials for each class. Otherwise, I recommend you do the following: \n",
            "- Create class folder and name it `Intro_UDS`\n",
            "- For each week, create a folder called `Week1`, `Week2`, etc. \n",
            "- To download the materials (Juputer notebook, data files, etc.), navigate to the file you want to download and select `Raw` above the view of the file. \n",
            "- Save this \"raw\" file in your class folder and **make sure it is in the proper file format**. For instance, if the file is `.ipynb` make sure you save the downloaded file as `.ipynb` (your computer might try to default to `.txt`.)"
         ]
      },
      {
         "cell_type": "markdown",
         "id": "charitable-tucson",
         "metadata": {},
         "source": [
            "# Learning goals\n",
            "After this week's lesson you should be able to:\n",
            "- Explain what a Pandas Series is and how to select, filter, and replace values in the series \n",
            "- Read and explore tabular data in Python using a Pandas DataFrame\n",
            "- Read and write datasets\n",
            "\n",
            "This week's lessons are adapted from:\n",
            "- [Geo-Python Lesson 5](https://geo-python-site.readthedocs.io/en/latest/lessons/L5/overview.html)\n",
            "- [Practical Data Sciece on Pandas DataFrames](https://www.practicaldatascience.org/html/30_pandas_dataframes.html)\n",
            "\n",
            "# Grading\n",
            "As a reminder, your in-class exercises will be graded on completion."
         ]
      },
      {
         "cell_type": "markdown",
         "id": "af47e632",
         "metadata": {},
         "source": [
            "# Installing Pandas\n",
            "- First we'll need to install the `pandas` library if you are still using the `gds_py_reduced.yml` file that Jacob shared with you earlier today. \n",
            "- You can either do this in the Anaconda Navigator or \n",
            "- In your jupyter notebook, type \n",
            "```\n",
            "    `!pip install pandas` \n",
            "```"
         ]
      },
      {
         "cell_type": "code",
         "execution_count": 6,
         "id": "0c1e07d5",
         "metadata": {},
         "outputs": [
            {
               "name": "stdout",
               "output_type": "stream",
               "text": [
                  "Requirement already satisfied: pandas in c:\\users\\desai\\miniforge3\\envs\\crp4680\\lib\\site-packages (2.2.0)\n",
                  "Requirement already satisfied: numpy<2,>=1.22.4 in c:\\users\\desai\\miniforge3\\envs\\crp4680\\lib\\site-packages (from pandas) (1.23.4)\n",
                  "Requirement already satisfied: python-dateutil>=2.8.2 in c:\\users\\desai\\miniforge3\\envs\\crp4680\\lib\\site-packages (from pandas) (2.8.2)\n",
                  "Requirement already satisfied: pytz>=2020.1 in c:\\users\\desai\\miniforge3\\envs\\crp4680\\lib\\site-packages (from pandas) (2023.3.post1)\n",
                  "Requirement already satisfied: tzdata>=2022.7 in c:\\users\\desai\\miniforge3\\envs\\crp4680\\lib\\site-packages (from pandas) (2023.4)\n",
                  "Requirement already satisfied: six>=1.5 in c:\\users\\desai\\miniforge3\\envs\\crp4680\\lib\\site-packages (from python-dateutil>=2.8.2->pandas) (1.16.0)\n"
               ]
            }
         ],
         "source": [
            "# The ! in front of pip is a special Jupyter Notebook command that allows you to run terminal commands from the notebook.\n",
            "!pip install pandas"
         ]
      },
      {
         "cell_type": "code",
         "execution_count": 7,
         "id": "adequate-dublin",
         "metadata": {},
         "outputs": [],
         "source": [
            "### Let's first import the pandas library\n",
            "### We will use the alias pd for pandas to make it easier to type. \n",
            "import pandas as pd "
         ]
      },
      {
         "cell_type": "markdown",
         "id": "covered-diana",
         "metadata": {},
         "source": [
            "# 0. What is Pandas? \n",
            "\n",
            "[Pandas](http://pandas.pydata.org/) is a widely used Python library for data analysis. \n",
            "\n",
            "### Easy-to-use data structures\n",
            "In pandas, the data is typically stored in a data structure called a\n",
            "DataFrame that looks like a typical table with rows and columns (+\n",
            "indices and column names), where columns can contain data of different\n",
            "data types. Thus, it is similar in some sense to how data is stored in\n",
            "Excel or in R, which also uses a concept of a dataframe. In fact, Wes\n",
            "McKinney first [developed pandas as an alternative for\n",
            "R](https://blog.quantopian.com/meet-quantopians-newest-advisor-wes-mckinney/)\n",
            "to deal with different complex data structures.\n",
            "\n",
            "### Summary of the pandas data structure\n",
            "The below is a picture of how data is structured in a dataframe. You can see it is tabular structure with rows, columns, and a (row) index, which is in many ways similar to what you might be familiar with from a Excel or Google Spreadsheets. Using this structure, we can use operations like arithmetic, columns and rows selection, columns and rows addition etc.\n",
            "\n",
            "![Alt text](img/creating_dataframe1.png)\n",
            "\n",
            "### Combines functionalities from many Python modules\n",
            "\n",
            "pandas takes advantage of the [NumPy](http://www.numpy.org/) module\n",
            "under the hood, which is mostly written in C. This makes it a fast and\n",
            "powerful library that can efficiently handle even very large datasets.\n",
            "pandas offers an easier and more intuitive syntax to do data analysis\n",
            "and manipulation using either Numpy functionalities in the background or dedicated functionalities written explicitly for pandas.\n",
            "\n",
            " However, pandas is much more than an easier-to-use Numpy as it also combines many functionalities from other Python libraries such as [matplotlib (plotting)](https://matplotlib.org/) and [scipy(mathematics, science, engineering)](https://www.scipy.org/). Thus, you can use many of the features included in those packages without importing them at all.\n",
            "\n",
            "### Supports data read/write from multiple formats\n",
            "One of the most useful features of pandas is its ability to read data\n",
            "from numerous different data formats directly. For example, pandas\n",
            "supports reading and writing data from/to:\n",
            "\n",
            "-   CSV\n",
            "-   JSON\n",
            "-   HTML\n",
            "-   MS Excel\n",
            "-   HDF5\n",
            "-   Stata\n",
            "-   SAS\n",
            "-   Python Pickle format\n",
            "-   SQL (Postgresql, MySQL, Oracle, MariaDB, etc.)\n",
            "\n",
            "You can view the full list of supported data formats from the [pandas\n",
            "docs](https://pandas.pydata.org/docs/user_guide/io.html).\n"
         ]
      },
      {
         "cell_type": "markdown",
         "id": "overall-cathedral",
         "metadata": {},
         "source": [
            "# 1. DataFrames\n",
            "Pandas DataFrames are tabular (as in table) data consisting of a collection of Series in which each column is a Pandas series. It is the central data structure used in most analysis using the Pandas library. "
         ]
      },
      {
         "cell_type": "markdown",
         "id": "formed-lemon",
         "metadata": {},
         "source": [
            "First, let's read in our data using the pandas function `.read_csv()`. \n",
            "\n",
            "One of the nifty things about reading data in pandas is that it's designed to read many different types data sources, from files, to QL databases, and URLs. Here are a few to know about: \n",
            "- `pd.read_csv`: Read in a comma-separated-value file\n",
            "- `pd.read_excel`: Read in an Excel (`.xls` and `.xlsx`) spreadsheet\n",
            "- `pd.read_stata`: Read Stata (`.dta`) datasets\n",
            "- `pd.read_hdf`: Read HDF (`.hdf`) datasets\n",
            "- `pd.read_sql`: Read from a SQL database\n",
            "- `pd.read_html`: Read from the `html` tags of an HTML file\n",
            "\n",
            "Similarly, you can write a dataframe to many formats: (`df` here is the name of a dataframe)\n",
            "- `df.to_csv`: Write to a comma-separated-value file\n",
            "- `df.to_excel`: Write to an Excel (.xls and .xlsx) spreadsheet\n",
            "- `df.to_stata`: Write to a stata (.dta) dataset\n",
            "- `df.to_hdf`: Write to an HDF (.hdf) dataset\n",
            "- `df.to_sql`: Write to a SQL database\n",
            "- `df.to_html`: Write to an HTML table. \n",
            "\n",
            "\n",
            "Check out the [Pandas documentation on input/output](https://pandas.pydata.org/docs/reference/io.html) to see all the possible functions for reading data. "
         ]
      },
      {
         "cell_type": "markdown",
         "id": "indie-monte",
         "metadata": {},
         "source": [
            "## 1.1 Reading a file\n",
            "Download the `msa_by_pop.csv` in this week's folder. We are first going to read this CSV as DataFrame into Pandas.\n",
            "\n",
            "The function `.read_csv()` takes a file path as a string (read: text). If you have saved `msa_by_pop.csv` in the same folder as this notebook, then all you will need to input as your path is `msa_by_pop.csv`. \n",
            "\n",
            "(If you had saved your CSV within a sub-directory called `Data`, then to access this data file you'd need to input `Data/msa_by_pop.csv`)"
         ]
      },
      {
         "cell_type": "code",
         "execution_count": 8,
         "id": "frequent-jamaica",
         "metadata": {},
         "outputs": [],
         "source": [
            "msa_by_pop = pd.read_csv('msa_by_pop.csv')\n"
         ]
      },
      {
         "cell_type": "code",
         "execution_count": 9,
         "id": "89b03f11",
         "metadata": {},
         "outputs": [
            {
               "data": {
                  "text/html": [
                     "<div>\n",
                     "<style scoped>\n",
                     "    .dataframe tbody tr th:only-of-type {\n",
                     "        vertical-align: middle;\n",
                     "    }\n",
                     "\n",
                     "    .dataframe tbody tr th {\n",
                     "        vertical-align: top;\n",
                     "    }\n",
                     "\n",
                     "    .dataframe thead th {\n",
                     "        text-align: right;\n",
                     "    }\n",
                     "</style>\n",
                     "<table border=\"1\" class=\"dataframe\">\n",
                     "  <thead>\n",
                     "    <tr style=\"text-align: right;\">\n",
                     "      <th></th>\n",
                     "      <th>Rank</th>\n",
                     "      <th>MSA</th>\n",
                     "      <th>population_2020</th>\n",
                     "    </tr>\n",
                     "  </thead>\n",
                     "  <tbody>\n",
                     "    <tr>\n",
                     "      <th>0</th>\n",
                     "      <td>1</td>\n",
                     "      <td>New York-Newark-Jersey City, NY-NJ-CT-PA MSA</td>\n",
                     "      <td>20140470</td>\n",
                     "    </tr>\n",
                     "    <tr>\n",
                     "      <th>1</th>\n",
                     "      <td>2</td>\n",
                     "      <td>Los Angeles-Long Beach-Anaheim, CA MSA</td>\n",
                     "      <td>13200998</td>\n",
                     "    </tr>\n",
                     "    <tr>\n",
                     "      <th>2</th>\n",
                     "      <td>3</td>\n",
                     "      <td>Chicago-Naperville-Elgin, IL-IN-WI MSA</td>\n",
                     "      <td>9618502</td>\n",
                     "    </tr>\n",
                     "    <tr>\n",
                     "      <th>3</th>\n",
                     "      <td>4</td>\n",
                     "      <td>Dallas-Fort Worth-Arlington, TX MSA</td>\n",
                     "      <td>7637387</td>\n",
                     "    </tr>\n",
                     "    <tr>\n",
                     "      <th>4</th>\n",
                     "      <td>5</td>\n",
                     "      <td>Houston-The Woodlands-Sugar Land, TX MSA</td>\n",
                     "      <td>7122240</td>\n",
                     "    </tr>\n",
                     "    <tr>\n",
                     "      <th>...</th>\n",
                     "      <td>...</td>\n",
                     "      <td>...</td>\n",
                     "      <td>...</td>\n",
                     "    </tr>\n",
                     "    <tr>\n",
                     "      <th>379</th>\n",
                     "      <td>380</td>\n",
                     "      <td>Danville, IL MSA</td>\n",
                     "      <td>74188</td>\n",
                     "    </tr>\n",
                     "    <tr>\n",
                     "      <th>380</th>\n",
                     "      <td>381</td>\n",
                     "      <td>Lewiston, ID-WA MSA</td>\n",
                     "      <td>64375</td>\n",
                     "    </tr>\n",
                     "    <tr>\n",
                     "      <th>381</th>\n",
                     "      <td>382</td>\n",
                     "      <td>Walla Walla, WA MSA</td>\n",
                     "      <td>62584</td>\n",
                     "    </tr>\n",
                     "    <tr>\n",
                     "      <th>382</th>\n",
                     "      <td>383</td>\n",
                     "      <td>Enid, OK MSA</td>\n",
                     "      <td>62846</td>\n",
                     "    </tr>\n",
                     "    <tr>\n",
                     "      <th>383</th>\n",
                     "      <td>384</td>\n",
                     "      <td>Carson City, NV MSA</td>\n",
                     "      <td>58639</td>\n",
                     "    </tr>\n",
                     "  </tbody>\n",
                     "</table>\n",
                     "<p>384 rows × 3 columns</p>\n",
                     "</div>"
                  ],
                  "text/plain": [
                     "     Rank                                           MSA  population_2020\n",
                     "0       1  New York-Newark-Jersey City, NY-NJ-CT-PA MSA         20140470\n",
                     "1       2        Los Angeles-Long Beach-Anaheim, CA MSA         13200998\n",
                     "2       3        Chicago-Naperville-Elgin, IL-IN-WI MSA          9618502\n",
                     "3       4           Dallas-Fort Worth-Arlington, TX MSA          7637387\n",
                     "4       5      Houston-The Woodlands-Sugar Land, TX MSA          7122240\n",
                     "..    ...                                           ...              ...\n",
                     "379   380                              Danville, IL MSA            74188\n",
                     "380   381                           Lewiston, ID-WA MSA            64375\n",
                     "381   382                           Walla Walla, WA MSA            62584\n",
                     "382   383                                  Enid, OK MSA            62846\n",
                     "383   384                           Carson City, NV MSA            58639\n",
                     "\n",
                     "[384 rows x 3 columns]"
                  ]
               },
               "execution_count": 9,
               "metadata": {},
               "output_type": "execute_result"
            }
         ],
         "source": [
            "msa_by_pop"
         ]
      },
      {
         "cell_type": "markdown",
         "id": "21d12194",
         "metadata": {},
         "source": [
            "## 1.2 File Paths\n",
            "`'msa_by_pop.csv'` is our file path. A file path is a string that tells the computer where to find a file. The file path above is a relative path, meaning it is relative to the location of this notebook. If you move this notebook to a different folder, the relative path will no longer work. An absolute path is a path that is not relative to the location of the notebook. An absolute path will work no matter where the notebook is located"
         ]
      },
      {
         "cell_type": "code",
         "execution_count": 10,
         "id": "07854f9c",
         "metadata": {},
         "outputs": [],
         "source": [
            "# # For my computer, I can also read in the same dataset by using the absolute path.\n",
            "# msa_by_pop = pd.read_csv('/Users/wenfeixu/Documents/GITHUB/4680_5680_intro_uds/Week1/msa_by_pop.csv')\n"
         ]
      },
      {
         "cell_type": "code",
         "execution_count": 11,
         "id": "be58aae6",
         "metadata": {},
         "outputs": [
            {
               "data": {
                  "text/html": [
                     "<div>\n",
                     "<style scoped>\n",
                     "    .dataframe tbody tr th:only-of-type {\n",
                     "        vertical-align: middle;\n",
                     "    }\n",
                     "\n",
                     "    .dataframe tbody tr th {\n",
                     "        vertical-align: top;\n",
                     "    }\n",
                     "\n",
                     "    .dataframe thead th {\n",
                     "        text-align: right;\n",
                     "    }\n",
                     "</style>\n",
                     "<table border=\"1\" class=\"dataframe\">\n",
                     "  <thead>\n",
                     "    <tr style=\"text-align: right;\">\n",
                     "      <th></th>\n",
                     "      <th>Rank</th>\n",
                     "      <th>MSA</th>\n",
                     "      <th>population_2020</th>\n",
                     "    </tr>\n",
                     "  </thead>\n",
                     "  <tbody>\n",
                     "    <tr>\n",
                     "      <th>0</th>\n",
                     "      <td>1</td>\n",
                     "      <td>New York-Newark-Jersey City, NY-NJ-CT-PA MSA</td>\n",
                     "      <td>20140470</td>\n",
                     "    </tr>\n",
                     "    <tr>\n",
                     "      <th>1</th>\n",
                     "      <td>2</td>\n",
                     "      <td>Los Angeles-Long Beach-Anaheim, CA MSA</td>\n",
                     "      <td>13200998</td>\n",
                     "    </tr>\n",
                     "    <tr>\n",
                     "      <th>2</th>\n",
                     "      <td>3</td>\n",
                     "      <td>Chicago-Naperville-Elgin, IL-IN-WI MSA</td>\n",
                     "      <td>9618502</td>\n",
                     "    </tr>\n",
                     "    <tr>\n",
                     "      <th>3</th>\n",
                     "      <td>4</td>\n",
                     "      <td>Dallas-Fort Worth-Arlington, TX MSA</td>\n",
                     "      <td>7637387</td>\n",
                     "    </tr>\n",
                     "    <tr>\n",
                     "      <th>4</th>\n",
                     "      <td>5</td>\n",
                     "      <td>Houston-The Woodlands-Sugar Land, TX MSA</td>\n",
                     "      <td>7122240</td>\n",
                     "    </tr>\n",
                     "    <tr>\n",
                     "      <th>...</th>\n",
                     "      <td>...</td>\n",
                     "      <td>...</td>\n",
                     "      <td>...</td>\n",
                     "    </tr>\n",
                     "    <tr>\n",
                     "      <th>379</th>\n",
                     "      <td>380</td>\n",
                     "      <td>Danville, IL MSA</td>\n",
                     "      <td>74188</td>\n",
                     "    </tr>\n",
                     "    <tr>\n",
                     "      <th>380</th>\n",
                     "      <td>381</td>\n",
                     "      <td>Lewiston, ID-WA MSA</td>\n",
                     "      <td>64375</td>\n",
                     "    </tr>\n",
                     "    <tr>\n",
                     "      <th>381</th>\n",
                     "      <td>382</td>\n",
                     "      <td>Walla Walla, WA MSA</td>\n",
                     "      <td>62584</td>\n",
                     "    </tr>\n",
                     "    <tr>\n",
                     "      <th>382</th>\n",
                     "      <td>383</td>\n",
                     "      <td>Enid, OK MSA</td>\n",
                     "      <td>62846</td>\n",
                     "    </tr>\n",
                     "    <tr>\n",
                     "      <th>383</th>\n",
                     "      <td>384</td>\n",
                     "      <td>Carson City, NV MSA</td>\n",
                     "      <td>58639</td>\n",
                     "    </tr>\n",
                     "  </tbody>\n",
                     "</table>\n",
                     "<p>384 rows × 3 columns</p>\n",
                     "</div>"
                  ],
                  "text/plain": [
                     "     Rank                                           MSA  population_2020\n",
                     "0       1  New York-Newark-Jersey City, NY-NJ-CT-PA MSA         20140470\n",
                     "1       2        Los Angeles-Long Beach-Anaheim, CA MSA         13200998\n",
                     "2       3        Chicago-Naperville-Elgin, IL-IN-WI MSA          9618502\n",
                     "3       4           Dallas-Fort Worth-Arlington, TX MSA          7637387\n",
                     "4       5      Houston-The Woodlands-Sugar Land, TX MSA          7122240\n",
                     "..    ...                                           ...              ...\n",
                     "379   380                              Danville, IL MSA            74188\n",
                     "380   381                           Lewiston, ID-WA MSA            64375\n",
                     "381   382                           Walla Walla, WA MSA            62584\n",
                     "382   383                                  Enid, OK MSA            62846\n",
                     "383   384                           Carson City, NV MSA            58639\n",
                     "\n",
                     "[384 rows x 3 columns]"
                  ]
               },
               "execution_count": 11,
               "metadata": {},
               "output_type": "execute_result"
            }
         ],
         "source": [
            "msa_by_pop"
         ]
      },
      {
         "cell_type": "markdown",
         "id": "impressive-tactics",
         "metadata": {},
         "source": [
            "## 1.3 Exploring our data\n",
            "You can see here that (in addition to the formatting of tabular data in Jupyter) the main difference between this and a series is that we have multiple columns with column labels. So the dataframe structure consists of: \n",
            "- An index, with index labels (here the labels are just `0`,`1`,...,`383`)\n",
            "- Columns, with column labels (here `MSA`, `population_2020`,`perc_change`)\n",
            "- And the data, which are the values in each row. "
         ]
      },
      {
         "cell_type": "markdown",
         "id": "optimum-affect",
         "metadata": {},
         "source": [
            "We can use `.index` to get all the index values in the dataframe. "
         ]
      },
      {
         "cell_type": "code",
         "execution_count": 12,
         "id": "mathematical-balance",
         "metadata": {},
         "outputs": [
            {
               "data": {
                  "text/plain": [
                     "RangeIndex(start=0, stop=384, step=1)"
                  ]
               },
               "execution_count": 12,
               "metadata": {},
               "output_type": "execute_result"
            }
         ],
         "source": [
            "msa_by_pop.index\n",
            "## Ok, here it's just the RangeIndex, which is the default index for pandas dataframes. \n",
            "## Pandas isn't printing the entire index, but we can see that it starts at 0 and ends at 384."
         ]
      },
      {
         "cell_type": "markdown",
         "id": "029b5ae0",
         "metadata": {},
         "source": [
            "Now, in addition to `.index` we can also see all the columns in our DataFrame: "
         ]
      },
      {
         "cell_type": "code",
         "execution_count": 13,
         "id": "positive-wagner",
         "metadata": {},
         "outputs": [
            {
               "data": {
                  "text/plain": [
                     "Index(['Rank', 'MSA', 'population_2020'], dtype='object')"
                  ]
               },
               "execution_count": 13,
               "metadata": {},
               "output_type": "execute_result"
            }
         ],
         "source": [
            "msa_by_pop.columns"
         ]
      },
      {
         "cell_type": "markdown",
         "id": "perceived-rachel",
         "metadata": {},
         "source": [
            "Now, to see the datatypes for each column, we use `.dtypes`"
         ]
      },
      {
         "cell_type": "code",
         "execution_count": 14,
         "id": "large-morocco",
         "metadata": {},
         "outputs": [
            {
               "data": {
                  "text/plain": [
                     "Rank                int64\n",
                     "MSA                object\n",
                     "population_2020     int64\n",
                     "dtype: object"
                  ]
               },
               "execution_count": 14,
               "metadata": {},
               "output_type": "execute_result"
            }
         ],
         "source": [
            "msa_by_pop.dtypes"
         ]
      },
      {
         "cell_type": "markdown",
         "id": "standard-juvenile",
         "metadata": {},
         "source": [
            "One common function used to explore the data is called `.head()` that reveals the first 5 rows of the Dataframe. "
         ]
      },
      {
         "cell_type": "code",
         "execution_count": 15,
         "id": "green-object",
         "metadata": {},
         "outputs": [
            {
               "data": {
                  "text/html": [
                     "<div>\n",
                     "<style scoped>\n",
                     "    .dataframe tbody tr th:only-of-type {\n",
                     "        vertical-align: middle;\n",
                     "    }\n",
                     "\n",
                     "    .dataframe tbody tr th {\n",
                     "        vertical-align: top;\n",
                     "    }\n",
                     "\n",
                     "    .dataframe thead th {\n",
                     "        text-align: right;\n",
                     "    }\n",
                     "</style>\n",
                     "<table border=\"1\" class=\"dataframe\">\n",
                     "  <thead>\n",
                     "    <tr style=\"text-align: right;\">\n",
                     "      <th></th>\n",
                     "      <th>Rank</th>\n",
                     "      <th>MSA</th>\n",
                     "      <th>population_2020</th>\n",
                     "    </tr>\n",
                     "  </thead>\n",
                     "  <tbody>\n",
                     "    <tr>\n",
                     "      <th>0</th>\n",
                     "      <td>1</td>\n",
                     "      <td>New York-Newark-Jersey City, NY-NJ-CT-PA MSA</td>\n",
                     "      <td>20140470</td>\n",
                     "    </tr>\n",
                     "    <tr>\n",
                     "      <th>1</th>\n",
                     "      <td>2</td>\n",
                     "      <td>Los Angeles-Long Beach-Anaheim, CA MSA</td>\n",
                     "      <td>13200998</td>\n",
                     "    </tr>\n",
                     "    <tr>\n",
                     "      <th>2</th>\n",
                     "      <td>3</td>\n",
                     "      <td>Chicago-Naperville-Elgin, IL-IN-WI MSA</td>\n",
                     "      <td>9618502</td>\n",
                     "    </tr>\n",
                     "    <tr>\n",
                     "      <th>3</th>\n",
                     "      <td>4</td>\n",
                     "      <td>Dallas-Fort Worth-Arlington, TX MSA</td>\n",
                     "      <td>7637387</td>\n",
                     "    </tr>\n",
                     "    <tr>\n",
                     "      <th>4</th>\n",
                     "      <td>5</td>\n",
                     "      <td>Houston-The Woodlands-Sugar Land, TX MSA</td>\n",
                     "      <td>7122240</td>\n",
                     "    </tr>\n",
                     "  </tbody>\n",
                     "</table>\n",
                     "</div>"
                  ],
                  "text/plain": [
                     "   Rank                                           MSA  population_2020\n",
                     "0     1  New York-Newark-Jersey City, NY-NJ-CT-PA MSA         20140470\n",
                     "1     2        Los Angeles-Long Beach-Anaheim, CA MSA         13200998\n",
                     "2     3        Chicago-Naperville-Elgin, IL-IN-WI MSA          9618502\n",
                     "3     4           Dallas-Fort Worth-Arlington, TX MSA          7637387\n",
                     "4     5      Houston-The Woodlands-Sugar Land, TX MSA          7122240"
                  ]
               },
               "execution_count": 15,
               "metadata": {},
               "output_type": "execute_result"
            }
         ],
         "source": [
            "msa_by_pop.head()"
         ]
      },
      {
         "cell_type": "markdown",
         "id": "handled-blackjack",
         "metadata": {},
         "source": [
            "If you start to type `msa_by_pop.head(` without finishing the parens you can see the inputs required of the function: \n",
            "\n",
            "\n",
            "<img src=\"img/func_arg.png\" alt=\"drawing\" width=\"400\" style=\"display: block; margin: 0 auto\"/>\n",
            "\n",
            "\n",
            "This shows us that that `.head()` by default show 5 rows, but you can also optionally adjust this by specifying another integer. For instance: "
         ]
      },
      {
         "cell_type": "code",
         "execution_count": 16,
         "id": "dynamic-finland",
         "metadata": {},
         "outputs": [
            {
               "data": {
                  "text/html": [
                     "<div>\n",
                     "<style scoped>\n",
                     "    .dataframe tbody tr th:only-of-type {\n",
                     "        vertical-align: middle;\n",
                     "    }\n",
                     "\n",
                     "    .dataframe tbody tr th {\n",
                     "        vertical-align: top;\n",
                     "    }\n",
                     "\n",
                     "    .dataframe thead th {\n",
                     "        text-align: right;\n",
                     "    }\n",
                     "</style>\n",
                     "<table border=\"1\" class=\"dataframe\">\n",
                     "  <thead>\n",
                     "    <tr style=\"text-align: right;\">\n",
                     "      <th></th>\n",
                     "      <th>Rank</th>\n",
                     "      <th>MSA</th>\n",
                     "      <th>population_2020</th>\n",
                     "    </tr>\n",
                     "  </thead>\n",
                     "  <tbody>\n",
                     "    <tr>\n",
                     "      <th>0</th>\n",
                     "      <td>1</td>\n",
                     "      <td>New York-Newark-Jersey City, NY-NJ-CT-PA MSA</td>\n",
                     "      <td>20140470</td>\n",
                     "    </tr>\n",
                     "    <tr>\n",
                     "      <th>1</th>\n",
                     "      <td>2</td>\n",
                     "      <td>Los Angeles-Long Beach-Anaheim, CA MSA</td>\n",
                     "      <td>13200998</td>\n",
                     "    </tr>\n",
                     "    <tr>\n",
                     "      <th>2</th>\n",
                     "      <td>3</td>\n",
                     "      <td>Chicago-Naperville-Elgin, IL-IN-WI MSA</td>\n",
                     "      <td>9618502</td>\n",
                     "    </tr>\n",
                     "    <tr>\n",
                     "      <th>3</th>\n",
                     "      <td>4</td>\n",
                     "      <td>Dallas-Fort Worth-Arlington, TX MSA</td>\n",
                     "      <td>7637387</td>\n",
                     "    </tr>\n",
                     "    <tr>\n",
                     "      <th>4</th>\n",
                     "      <td>5</td>\n",
                     "      <td>Houston-The Woodlands-Sugar Land, TX MSA</td>\n",
                     "      <td>7122240</td>\n",
                     "    </tr>\n",
                     "    <tr>\n",
                     "      <th>5</th>\n",
                     "      <td>6</td>\n",
                     "      <td>Washington-Arlington-Alexandria, DC-VA-MD-WV MSA</td>\n",
                     "      <td>6385162</td>\n",
                     "    </tr>\n",
                     "    <tr>\n",
                     "      <th>6</th>\n",
                     "      <td>7</td>\n",
                     "      <td>Philadelphia-Camden-Wilmington, PA-NJ-DE-MD MSA</td>\n",
                     "      <td>6245051</td>\n",
                     "    </tr>\n",
                     "    <tr>\n",
                     "      <th>7</th>\n",
                     "      <td>8</td>\n",
                     "      <td>Atlanta-Sandy Springs-Alpharetta, GA MSA</td>\n",
                     "      <td>6089815</td>\n",
                     "    </tr>\n",
                     "    <tr>\n",
                     "      <th>8</th>\n",
                     "      <td>9</td>\n",
                     "      <td>Miami-Fort Lauderdale-Pompano Beach, FL MSA</td>\n",
                     "      <td>6138333</td>\n",
                     "    </tr>\n",
                     "    <tr>\n",
                     "      <th>9</th>\n",
                     "      <td>10</td>\n",
                     "      <td>Phoenix-Mesa-Chandler, AZ MSA</td>\n",
                     "      <td>4845832</td>\n",
                     "    </tr>\n",
                     "  </tbody>\n",
                     "</table>\n",
                     "</div>"
                  ],
                  "text/plain": [
                     "   Rank                                               MSA  population_2020\n",
                     "0     1      New York-Newark-Jersey City, NY-NJ-CT-PA MSA         20140470\n",
                     "1     2            Los Angeles-Long Beach-Anaheim, CA MSA         13200998\n",
                     "2     3            Chicago-Naperville-Elgin, IL-IN-WI MSA          9618502\n",
                     "3     4               Dallas-Fort Worth-Arlington, TX MSA          7637387\n",
                     "4     5          Houston-The Woodlands-Sugar Land, TX MSA          7122240\n",
                     "5     6  Washington-Arlington-Alexandria, DC-VA-MD-WV MSA          6385162\n",
                     "6     7   Philadelphia-Camden-Wilmington, PA-NJ-DE-MD MSA          6245051\n",
                     "7     8          Atlanta-Sandy Springs-Alpharetta, GA MSA          6089815\n",
                     "8     9       Miami-Fort Lauderdale-Pompano Beach, FL MSA          6138333\n",
                     "9    10                     Phoenix-Mesa-Chandler, AZ MSA          4845832"
                  ]
               },
               "execution_count": 16,
               "metadata": {},
               "output_type": "execute_result"
            }
         ],
         "source": [
            "## This gives us the first 10 rows\n",
            "msa_by_pop.head(10)"
         ]
      },
      {
         "cell_type": "markdown",
         "id": "shaped-companion",
         "metadata": {},
         "source": [
            "`.sample()` gives us a random selection of rows. "
         ]
      },
      {
         "cell_type": "code",
         "execution_count": 17,
         "id": "atmospheric-education",
         "metadata": {},
         "outputs": [
            {
               "data": {
                  "text/html": [
                     "<div>\n",
                     "<style scoped>\n",
                     "    .dataframe tbody tr th:only-of-type {\n",
                     "        vertical-align: middle;\n",
                     "    }\n",
                     "\n",
                     "    .dataframe tbody tr th {\n",
                     "        vertical-align: top;\n",
                     "    }\n",
                     "\n",
                     "    .dataframe thead th {\n",
                     "        text-align: right;\n",
                     "    }\n",
                     "</style>\n",
                     "<table border=\"1\" class=\"dataframe\">\n",
                     "  <thead>\n",
                     "    <tr style=\"text-align: right;\">\n",
                     "      <th></th>\n",
                     "      <th>Rank</th>\n",
                     "      <th>MSA</th>\n",
                     "      <th>population_2020</th>\n",
                     "    </tr>\n",
                     "  </thead>\n",
                     "  <tbody>\n",
                     "    <tr>\n",
                     "      <th>137</th>\n",
                     "      <td>138</td>\n",
                     "      <td>Peoria, IL MSA</td>\n",
                     "      <td>402391</td>\n",
                     "    </tr>\n",
                     "    <tr>\n",
                     "      <th>253</th>\n",
                     "      <td>254</td>\n",
                     "      <td>Bloomington, IL MSA</td>\n",
                     "      <td>170954</td>\n",
                     "    </tr>\n",
                     "    <tr>\n",
                     "      <th>123</th>\n",
                     "      <td>124</td>\n",
                     "      <td>Salinas, CA MSA</td>\n",
                     "      <td>439035</td>\n",
                     "    </tr>\n",
                     "    <tr>\n",
                     "      <th>270</th>\n",
                     "      <td>271</td>\n",
                     "      <td>Elizabethtown-Fort Knox, KY MSA</td>\n",
                     "      <td>155572</td>\n",
                     "    </tr>\n",
                     "    <tr>\n",
                     "      <th>88</th>\n",
                     "      <td>89</td>\n",
                     "      <td>Madison, WI MSA</td>\n",
                     "      <td>680796</td>\n",
                     "    </tr>\n",
                     "    <tr>\n",
                     "      <th>176</th>\n",
                     "      <td>177</td>\n",
                     "      <td>Waco, TX MSA</td>\n",
                     "      <td>277547</td>\n",
                     "    </tr>\n",
                     "    <tr>\n",
                     "      <th>30</th>\n",
                     "      <td>31</td>\n",
                     "      <td>Kansas City, MO-KS MSA</td>\n",
                     "      <td>2192035</td>\n",
                     "    </tr>\n",
                     "    <tr>\n",
                     "      <th>93</th>\n",
                     "      <td>94</td>\n",
                     "      <td>Toledo, OH MSA</td>\n",
                     "      <td>646604</td>\n",
                     "    </tr>\n",
                     "    <tr>\n",
                     "      <th>234</th>\n",
                     "      <td>235</td>\n",
                     "      <td>Kingston, NY MSA</td>\n",
                     "      <td>181851</td>\n",
                     "    </tr>\n",
                     "    <tr>\n",
                     "      <th>223</th>\n",
                     "      <td>224</td>\n",
                     "      <td>Bend, OR MSA</td>\n",
                     "      <td>198253</td>\n",
                     "    </tr>\n",
                     "  </tbody>\n",
                     "</table>\n",
                     "</div>"
                  ],
                  "text/plain": [
                     "     Rank                              MSA  population_2020\n",
                     "137   138                   Peoria, IL MSA           402391\n",
                     "253   254              Bloomington, IL MSA           170954\n",
                     "123   124                  Salinas, CA MSA           439035\n",
                     "270   271  Elizabethtown-Fort Knox, KY MSA           155572\n",
                     "88     89                  Madison, WI MSA           680796\n",
                     "176   177                     Waco, TX MSA           277547\n",
                     "30     31           Kansas City, MO-KS MSA          2192035\n",
                     "93     94                   Toledo, OH MSA           646604\n",
                     "234   235                 Kingston, NY MSA           181851\n",
                     "223   224                     Bend, OR MSA           198253"
                  ]
               },
               "execution_count": 17,
               "metadata": {},
               "output_type": "execute_result"
            }
         ],
         "source": [
            "msa_by_pop.sample(10)"
         ]
      },
      {
         "cell_type": "markdown",
         "id": "liberal-shopping",
         "metadata": {},
         "source": [
            "The function `.shape` gives us the number of `(rows,columns)` in our dataframe: "
         ]
      },
      {
         "cell_type": "code",
         "execution_count": 18,
         "id": "generous-medicare",
         "metadata": {},
         "outputs": [
            {
               "data": {
                  "text/plain": [
                     "(384, 3)"
                  ]
               },
               "execution_count": 18,
               "metadata": {},
               "output_type": "execute_result"
            }
         ],
         "source": [
            "msa_by_pop.shape"
         ]
      },
      {
         "cell_type": "markdown",
         "id": "passing-cornell",
         "metadata": {},
         "source": [
            "The function `.len()` measures the length of a selection. Applying this to the DataFrame gives you the number of rows: "
         ]
      },
      {
         "cell_type": "code",
         "execution_count": 19,
         "id": "dramatic-garage",
         "metadata": {},
         "outputs": [
            {
               "data": {
                  "text/plain": [
                     "384"
                  ]
               },
               "execution_count": 19,
               "metadata": {},
               "output_type": "execute_result"
            }
         ],
         "source": [
            "len(msa_by_pop)"
         ]
      },
      {
         "cell_type": "markdown",
         "id": "abstract-ancient",
         "metadata": {},
         "source": [
            "Applying it to the columns gives us the number of columns we have"
         ]
      },
      {
         "cell_type": "code",
         "execution_count": 20,
         "id": "powerful-islam",
         "metadata": {},
         "outputs": [
            {
               "data": {
                  "text/plain": [
                     "3"
                  ]
               },
               "execution_count": 20,
               "metadata": {},
               "output_type": "execute_result"
            }
         ],
         "source": [
            "len(msa_by_pop.columns)"
         ]
      },
      {
         "cell_type": "markdown",
         "id": "discrete-child",
         "metadata": {},
         "source": [
            "`.describe()` provides some basic descriptive statistics for our dataframe: "
         ]
      },
      {
         "cell_type": "code",
         "execution_count": 21,
         "id": "simplified-tract",
         "metadata": {},
         "outputs": [
            {
               "data": {
                  "text/html": [
                     "<div>\n",
                     "<style scoped>\n",
                     "    .dataframe tbody tr th:only-of-type {\n",
                     "        vertical-align: middle;\n",
                     "    }\n",
                     "\n",
                     "    .dataframe tbody tr th {\n",
                     "        vertical-align: top;\n",
                     "    }\n",
                     "\n",
                     "    .dataframe thead th {\n",
                     "        text-align: right;\n",
                     "    }\n",
                     "</style>\n",
                     "<table border=\"1\" class=\"dataframe\">\n",
                     "  <thead>\n",
                     "    <tr style=\"text-align: right;\">\n",
                     "      <th></th>\n",
                     "      <th>Rank</th>\n",
                     "      <th>population_2020</th>\n",
                     "    </tr>\n",
                     "  </thead>\n",
                     "  <tbody>\n",
                     "    <tr>\n",
                     "      <th>count</th>\n",
                     "      <td>384.000000</td>\n",
                     "      <td>3.840000e+02</td>\n",
                     "    </tr>\n",
                     "    <tr>\n",
                     "      <th>mean</th>\n",
                     "      <td>192.500000</td>\n",
                     "      <td>7.450639e+05</td>\n",
                     "    </tr>\n",
                     "    <tr>\n",
                     "      <th>std</th>\n",
                     "      <td>110.995495</td>\n",
                     "      <td>1.670046e+06</td>\n",
                     "    </tr>\n",
                     "    <tr>\n",
                     "      <th>min</th>\n",
                     "      <td>1.000000</td>\n",
                     "      <td>5.863900e+04</td>\n",
                     "    </tr>\n",
                     "    <tr>\n",
                     "      <th>25%</th>\n",
                     "      <td>96.750000</td>\n",
                     "      <td>1.474762e+05</td>\n",
                     "    </tr>\n",
                     "    <tr>\n",
                     "      <th>50%</th>\n",
                     "      <td>192.500000</td>\n",
                     "      <td>2.484905e+05</td>\n",
                     "    </tr>\n",
                     "    <tr>\n",
                     "      <th>75%</th>\n",
                     "      <td>288.250000</td>\n",
                     "      <td>5.956365e+05</td>\n",
                     "    </tr>\n",
                     "    <tr>\n",
                     "      <th>max</th>\n",
                     "      <td>384.000000</td>\n",
                     "      <td>2.014047e+07</td>\n",
                     "    </tr>\n",
                     "  </tbody>\n",
                     "</table>\n",
                     "</div>"
                  ],
                  "text/plain": [
                     "             Rank  population_2020\n",
                     "count  384.000000     3.840000e+02\n",
                     "mean   192.500000     7.450639e+05\n",
                     "std    110.995495     1.670046e+06\n",
                     "min      1.000000     5.863900e+04\n",
                     "25%     96.750000     1.474762e+05\n",
                     "50%    192.500000     2.484905e+05\n",
                     "75%    288.250000     5.956365e+05\n",
                     "max    384.000000     2.014047e+07"
                  ]
               },
               "execution_count": 21,
               "metadata": {},
               "output_type": "execute_result"
            }
         ],
         "source": [
            "msa_by_pop.describe()"
         ]
      },
      {
         "cell_type": "markdown",
         "id": "authentic-charity",
         "metadata": {},
         "source": [
            "`.sort-values()` sorts your DataFrame by a certain column. If you column is numeric, it will sort the values from smallest to largest. If your column is a string, it will sort alphabetically.\n",
            "\n",
            "The index values will be sorted along with the rows. "
         ]
      },
      {
         "cell_type": "code",
         "execution_count": 22,
         "id": "regular-sphere",
         "metadata": {},
         "outputs": [
            {
               "data": {
                  "text/html": [
                     "<div>\n",
                     "<style scoped>\n",
                     "    .dataframe tbody tr th:only-of-type {\n",
                     "        vertical-align: middle;\n",
                     "    }\n",
                     "\n",
                     "    .dataframe tbody tr th {\n",
                     "        vertical-align: top;\n",
                     "    }\n",
                     "\n",
                     "    .dataframe thead th {\n",
                     "        text-align: right;\n",
                     "    }\n",
                     "</style>\n",
                     "<table border=\"1\" class=\"dataframe\">\n",
                     "  <thead>\n",
                     "    <tr style=\"text-align: right;\">\n",
                     "      <th></th>\n",
                     "      <th>Rank</th>\n",
                     "      <th>MSA</th>\n",
                     "      <th>population_2020</th>\n",
                     "    </tr>\n",
                     "  </thead>\n",
                     "  <tbody>\n",
                     "    <tr>\n",
                     "      <th>383</th>\n",
                     "      <td>384</td>\n",
                     "      <td>Carson City, NV MSA</td>\n",
                     "      <td>58639</td>\n",
                     "    </tr>\n",
                     "    <tr>\n",
                     "      <th>381</th>\n",
                     "      <td>382</td>\n",
                     "      <td>Walla Walla, WA MSA</td>\n",
                     "      <td>62584</td>\n",
                     "    </tr>\n",
                     "    <tr>\n",
                     "      <th>382</th>\n",
                     "      <td>383</td>\n",
                     "      <td>Enid, OK MSA</td>\n",
                     "      <td>62846</td>\n",
                     "    </tr>\n",
                     "    <tr>\n",
                     "      <th>380</th>\n",
                     "      <td>381</td>\n",
                     "      <td>Lewiston, ID-WA MSA</td>\n",
                     "      <td>64375</td>\n",
                     "    </tr>\n",
                     "    <tr>\n",
                     "      <th>379</th>\n",
                     "      <td>380</td>\n",
                     "      <td>Danville, IL MSA</td>\n",
                     "      <td>74188</td>\n",
                     "    </tr>\n",
                     "    <tr>\n",
                     "      <th>...</th>\n",
                     "      <td>...</td>\n",
                     "      <td>...</td>\n",
                     "      <td>...</td>\n",
                     "    </tr>\n",
                     "    <tr>\n",
                     "      <th>4</th>\n",
                     "      <td>5</td>\n",
                     "      <td>Houston-The Woodlands-Sugar Land, TX MSA</td>\n",
                     "      <td>7122240</td>\n",
                     "    </tr>\n",
                     "    <tr>\n",
                     "      <th>3</th>\n",
                     "      <td>4</td>\n",
                     "      <td>Dallas-Fort Worth-Arlington, TX MSA</td>\n",
                     "      <td>7637387</td>\n",
                     "    </tr>\n",
                     "    <tr>\n",
                     "      <th>2</th>\n",
                     "      <td>3</td>\n",
                     "      <td>Chicago-Naperville-Elgin, IL-IN-WI MSA</td>\n",
                     "      <td>9618502</td>\n",
                     "    </tr>\n",
                     "    <tr>\n",
                     "      <th>1</th>\n",
                     "      <td>2</td>\n",
                     "      <td>Los Angeles-Long Beach-Anaheim, CA MSA</td>\n",
                     "      <td>13200998</td>\n",
                     "    </tr>\n",
                     "    <tr>\n",
                     "      <th>0</th>\n",
                     "      <td>1</td>\n",
                     "      <td>New York-Newark-Jersey City, NY-NJ-CT-PA MSA</td>\n",
                     "      <td>20140470</td>\n",
                     "    </tr>\n",
                     "  </tbody>\n",
                     "</table>\n",
                     "<p>384 rows × 3 columns</p>\n",
                     "</div>"
                  ],
                  "text/plain": [
                     "     Rank                                           MSA  population_2020\n",
                     "383   384                           Carson City, NV MSA            58639\n",
                     "381   382                           Walla Walla, WA MSA            62584\n",
                     "382   383                                  Enid, OK MSA            62846\n",
                     "380   381                           Lewiston, ID-WA MSA            64375\n",
                     "379   380                              Danville, IL MSA            74188\n",
                     "..    ...                                           ...              ...\n",
                     "4       5      Houston-The Woodlands-Sugar Land, TX MSA          7122240\n",
                     "3       4           Dallas-Fort Worth-Arlington, TX MSA          7637387\n",
                     "2       3        Chicago-Naperville-Elgin, IL-IN-WI MSA          9618502\n",
                     "1       2        Los Angeles-Long Beach-Anaheim, CA MSA         13200998\n",
                     "0       1  New York-Newark-Jersey City, NY-NJ-CT-PA MSA         20140470\n",
                     "\n",
                     "[384 rows x 3 columns]"
                  ]
               },
               "execution_count": 22,
               "metadata": {},
               "output_type": "execute_result"
            }
         ],
         "source": [
            "# This sorts the dataframe by the population_2021_est column, from smallest to largest\n",
            "# Note that the original dataframe is not changed \n",
            "# but that the index values now reflect the sorted order. \n",
            "msa_by_pop.sort_values('population_2020')"
         ]
      },
      {
         "cell_type": "markdown",
         "id": "golden-connection",
         "metadata": {},
         "source": [
            "Adding the `ascending=False` input in your function will sort from largest to smallest or end of alphabet to beginning, depending on your column data type. "
         ]
      },
      {
         "cell_type": "code",
         "execution_count": 23,
         "id": "elder-douglas",
         "metadata": {},
         "outputs": [
            {
               "data": {
                  "text/html": [
                     "<div>\n",
                     "<style scoped>\n",
                     "    .dataframe tbody tr th:only-of-type {\n",
                     "        vertical-align: middle;\n",
                     "    }\n",
                     "\n",
                     "    .dataframe tbody tr th {\n",
                     "        vertical-align: top;\n",
                     "    }\n",
                     "\n",
                     "    .dataframe thead th {\n",
                     "        text-align: right;\n",
                     "    }\n",
                     "</style>\n",
                     "<table border=\"1\" class=\"dataframe\">\n",
                     "  <thead>\n",
                     "    <tr style=\"text-align: right;\">\n",
                     "      <th></th>\n",
                     "      <th>Rank</th>\n",
                     "      <th>MSA</th>\n",
                     "      <th>population_2020</th>\n",
                     "    </tr>\n",
                     "  </thead>\n",
                     "  <tbody>\n",
                     "    <tr>\n",
                     "      <th>0</th>\n",
                     "      <td>1</td>\n",
                     "      <td>New York-Newark-Jersey City, NY-NJ-CT-PA MSA</td>\n",
                     "      <td>20140470</td>\n",
                     "    </tr>\n",
                     "    <tr>\n",
                     "      <th>1</th>\n",
                     "      <td>2</td>\n",
                     "      <td>Los Angeles-Long Beach-Anaheim, CA MSA</td>\n",
                     "      <td>13200998</td>\n",
                     "    </tr>\n",
                     "    <tr>\n",
                     "      <th>2</th>\n",
                     "      <td>3</td>\n",
                     "      <td>Chicago-Naperville-Elgin, IL-IN-WI MSA</td>\n",
                     "      <td>9618502</td>\n",
                     "    </tr>\n",
                     "    <tr>\n",
                     "      <th>3</th>\n",
                     "      <td>4</td>\n",
                     "      <td>Dallas-Fort Worth-Arlington, TX MSA</td>\n",
                     "      <td>7637387</td>\n",
                     "    </tr>\n",
                     "    <tr>\n",
                     "      <th>4</th>\n",
                     "      <td>5</td>\n",
                     "      <td>Houston-The Woodlands-Sugar Land, TX MSA</td>\n",
                     "      <td>7122240</td>\n",
                     "    </tr>\n",
                     "    <tr>\n",
                     "      <th>...</th>\n",
                     "      <td>...</td>\n",
                     "      <td>...</td>\n",
                     "      <td>...</td>\n",
                     "    </tr>\n",
                     "    <tr>\n",
                     "      <th>379</th>\n",
                     "      <td>380</td>\n",
                     "      <td>Danville, IL MSA</td>\n",
                     "      <td>74188</td>\n",
                     "    </tr>\n",
                     "    <tr>\n",
                     "      <th>380</th>\n",
                     "      <td>381</td>\n",
                     "      <td>Lewiston, ID-WA MSA</td>\n",
                     "      <td>64375</td>\n",
                     "    </tr>\n",
                     "    <tr>\n",
                     "      <th>382</th>\n",
                     "      <td>383</td>\n",
                     "      <td>Enid, OK MSA</td>\n",
                     "      <td>62846</td>\n",
                     "    </tr>\n",
                     "    <tr>\n",
                     "      <th>381</th>\n",
                     "      <td>382</td>\n",
                     "      <td>Walla Walla, WA MSA</td>\n",
                     "      <td>62584</td>\n",
                     "    </tr>\n",
                     "    <tr>\n",
                     "      <th>383</th>\n",
                     "      <td>384</td>\n",
                     "      <td>Carson City, NV MSA</td>\n",
                     "      <td>58639</td>\n",
                     "    </tr>\n",
                     "  </tbody>\n",
                     "</table>\n",
                     "<p>384 rows × 3 columns</p>\n",
                     "</div>"
                  ],
                  "text/plain": [
                     "     Rank                                           MSA  population_2020\n",
                     "0       1  New York-Newark-Jersey City, NY-NJ-CT-PA MSA         20140470\n",
                     "1       2        Los Angeles-Long Beach-Anaheim, CA MSA         13200998\n",
                     "2       3        Chicago-Naperville-Elgin, IL-IN-WI MSA          9618502\n",
                     "3       4           Dallas-Fort Worth-Arlington, TX MSA          7637387\n",
                     "4       5      Houston-The Woodlands-Sugar Land, TX MSA          7122240\n",
                     "..    ...                                           ...              ...\n",
                     "379   380                              Danville, IL MSA            74188\n",
                     "380   381                           Lewiston, ID-WA MSA            64375\n",
                     "382   383                                  Enid, OK MSA            62846\n",
                     "381   382                           Walla Walla, WA MSA            62584\n",
                     "383   384                           Carson City, NV MSA            58639\n",
                     "\n",
                     "[384 rows x 3 columns]"
                  ]
               },
               "execution_count": 23,
               "metadata": {},
               "output_type": "execute_result"
            }
         ],
         "source": [
            "msa_by_pop.sort_values('population_2020',ascending=False)"
         ]
      },
      {
         "cell_type": "markdown",
         "id": "graphic-blues",
         "metadata": {},
         "source": [
            "## 2.4 Selecting columns and rows\n",
            "Since we have column and row indexes, we can select subsets of the dataframe using the .loc method.\n",
            "Let's select the row with index value 0, and all columns"
         ]
      },
      {
         "cell_type": "code",
         "execution_count": 24,
         "id": "862c1026",
         "metadata": {},
         "outputs": [
            {
               "data": {
                  "text/plain": [
                     "Rank                                                          1\n",
                     "MSA                New York-Newark-Jersey City, NY-NJ-CT-PA MSA\n",
                     "population_2020                                        20140470\n",
                     "Name: 0, dtype: object"
                  ]
               },
               "execution_count": 24,
               "metadata": {},
               "output_type": "execute_result"
            }
         ],
         "source": [
            "msa_by_pop.loc[0,:]"
         ]
      },
      {
         "cell_type": "markdown",
         "id": "choice-taiwan",
         "metadata": {},
         "source": [
            "For `.iloc` we can select rows and columns now by their position."
         ]
      },
      {
         "cell_type": "code",
         "execution_count": 25,
         "id": "dated-nickel",
         "metadata": {},
         "outputs": [
            {
               "data": {
                  "text/html": [
                     "<div>\n",
                     "<style scoped>\n",
                     "    .dataframe tbody tr th:only-of-type {\n",
                     "        vertical-align: middle;\n",
                     "    }\n",
                     "\n",
                     "    .dataframe tbody tr th {\n",
                     "        vertical-align: top;\n",
                     "    }\n",
                     "\n",
                     "    .dataframe thead th {\n",
                     "        text-align: right;\n",
                     "    }\n",
                     "</style>\n",
                     "<table border=\"1\" class=\"dataframe\">\n",
                     "  <thead>\n",
                     "    <tr style=\"text-align: right;\">\n",
                     "      <th></th>\n",
                     "      <th>Rank</th>\n",
                     "      <th>MSA</th>\n",
                     "      <th>population_2020</th>\n",
                     "    </tr>\n",
                     "  </thead>\n",
                     "  <tbody>\n",
                     "    <tr>\n",
                     "      <th>0</th>\n",
                     "      <td>1</td>\n",
                     "      <td>New York-Newark-Jersey City, NY-NJ-CT-PA MSA</td>\n",
                     "      <td>20140470</td>\n",
                     "    </tr>\n",
                     "    <tr>\n",
                     "      <th>1</th>\n",
                     "      <td>2</td>\n",
                     "      <td>Los Angeles-Long Beach-Anaheim, CA MSA</td>\n",
                     "      <td>13200998</td>\n",
                     "    </tr>\n",
                     "    <tr>\n",
                     "      <th>2</th>\n",
                     "      <td>3</td>\n",
                     "      <td>Chicago-Naperville-Elgin, IL-IN-WI MSA</td>\n",
                     "      <td>9618502</td>\n",
                     "    </tr>\n",
                     "    <tr>\n",
                     "      <th>3</th>\n",
                     "      <td>4</td>\n",
                     "      <td>Dallas-Fort Worth-Arlington, TX MSA</td>\n",
                     "      <td>7637387</td>\n",
                     "    </tr>\n",
                     "    <tr>\n",
                     "      <th>4</th>\n",
                     "      <td>5</td>\n",
                     "      <td>Houston-The Woodlands-Sugar Land, TX MSA</td>\n",
                     "      <td>7122240</td>\n",
                     "    </tr>\n",
                     "  </tbody>\n",
                     "</table>\n",
                     "</div>"
                  ],
                  "text/plain": [
                     "   Rank                                           MSA  population_2020\n",
                     "0     1  New York-Newark-Jersey City, NY-NJ-CT-PA MSA         20140470\n",
                     "1     2        Los Angeles-Long Beach-Anaheim, CA MSA         13200998\n",
                     "2     3        Chicago-Naperville-Elgin, IL-IN-WI MSA          9618502\n",
                     "3     4           Dallas-Fort Worth-Arlington, TX MSA          7637387\n",
                     "4     5      Houston-The Woodlands-Sugar Land, TX MSA          7122240"
                  ]
               },
               "execution_count": 25,
               "metadata": {},
               "output_type": "execute_result"
            }
         ],
         "source": [
            "# Remember integer ranges are exclusive of the last value!\n",
            "msa_by_pop.iloc[0:5,0:3]"
         ]
      },
      {
         "cell_type": "markdown",
         "id": "chemical-keeping",
         "metadata": {},
         "source": [
            "Similarly, using `.loc` we can select rows and columns by their names. "
         ]
      },
      {
         "cell_type": "code",
         "execution_count": 26,
         "id": "aerial-storage",
         "metadata": {},
         "outputs": [
            {
               "data": {
                  "text/html": [
                     "<div>\n",
                     "<style scoped>\n",
                     "    .dataframe tbody tr th:only-of-type {\n",
                     "        vertical-align: middle;\n",
                     "    }\n",
                     "\n",
                     "    .dataframe tbody tr th {\n",
                     "        vertical-align: top;\n",
                     "    }\n",
                     "\n",
                     "    .dataframe thead th {\n",
                     "        text-align: right;\n",
                     "    }\n",
                     "</style>\n",
                     "<table border=\"1\" class=\"dataframe\">\n",
                     "  <thead>\n",
                     "    <tr style=\"text-align: right;\">\n",
                     "      <th></th>\n",
                     "      <th>Rank</th>\n",
                     "      <th>MSA</th>\n",
                     "      <th>population_2020</th>\n",
                     "    </tr>\n",
                     "  </thead>\n",
                     "  <tbody>\n",
                     "    <tr>\n",
                     "      <th>0</th>\n",
                     "      <td>1</td>\n",
                     "      <td>New York-Newark-Jersey City, NY-NJ-CT-PA MSA</td>\n",
                     "      <td>20140470</td>\n",
                     "    </tr>\n",
                     "    <tr>\n",
                     "      <th>1</th>\n",
                     "      <td>2</td>\n",
                     "      <td>Los Angeles-Long Beach-Anaheim, CA MSA</td>\n",
                     "      <td>13200998</td>\n",
                     "    </tr>\n",
                     "    <tr>\n",
                     "      <th>2</th>\n",
                     "      <td>3</td>\n",
                     "      <td>Chicago-Naperville-Elgin, IL-IN-WI MSA</td>\n",
                     "      <td>9618502</td>\n",
                     "    </tr>\n",
                     "    <tr>\n",
                     "      <th>3</th>\n",
                     "      <td>4</td>\n",
                     "      <td>Dallas-Fort Worth-Arlington, TX MSA</td>\n",
                     "      <td>7637387</td>\n",
                     "    </tr>\n",
                     "    <tr>\n",
                     "      <th>4</th>\n",
                     "      <td>5</td>\n",
                     "      <td>Houston-The Woodlands-Sugar Land, TX MSA</td>\n",
                     "      <td>7122240</td>\n",
                     "    </tr>\n",
                     "    <tr>\n",
                     "      <th>5</th>\n",
                     "      <td>6</td>\n",
                     "      <td>Washington-Arlington-Alexandria, DC-VA-MD-WV MSA</td>\n",
                     "      <td>6385162</td>\n",
                     "    </tr>\n",
                     "  </tbody>\n",
                     "</table>\n",
                     "</div>"
                  ],
                  "text/plain": [
                     "   Rank                                               MSA  population_2020\n",
                     "0     1      New York-Newark-Jersey City, NY-NJ-CT-PA MSA         20140470\n",
                     "1     2            Los Angeles-Long Beach-Anaheim, CA MSA         13200998\n",
                     "2     3            Chicago-Naperville-Elgin, IL-IN-WI MSA          9618502\n",
                     "3     4               Dallas-Fort Worth-Arlington, TX MSA          7637387\n",
                     "4     5          Houston-The Woodlands-Sugar Land, TX MSA          7122240\n",
                     "5     6  Washington-Arlington-Alexandria, DC-VA-MD-WV MSA          6385162"
                  ]
               },
               "execution_count": 26,
               "metadata": {},
               "output_type": "execute_result"
            }
         ],
         "source": [
            "# Since our rows are index by integers, when we can use the .loc method to select rows, \n",
            "# it's the same as .iloc\n",
            "msa_by_pop.loc[0:5,['Rank','MSA','population_2020']]"
         ]
      },
      {
         "cell_type": "markdown",
         "id": "imposed-belgium",
         "metadata": {},
         "source": [
            "You can always leave out the column argument in either `.loc` or `.iloc` in order to select all columns. "
         ]
      },
      {
         "cell_type": "code",
         "execution_count": 27,
         "id": "straight-growing",
         "metadata": {},
         "outputs": [
            {
               "data": {
                  "text/html": [
                     "<div>\n",
                     "<style scoped>\n",
                     "    .dataframe tbody tr th:only-of-type {\n",
                     "        vertical-align: middle;\n",
                     "    }\n",
                     "\n",
                     "    .dataframe tbody tr th {\n",
                     "        vertical-align: top;\n",
                     "    }\n",
                     "\n",
                     "    .dataframe thead th {\n",
                     "        text-align: right;\n",
                     "    }\n",
                     "</style>\n",
                     "<table border=\"1\" class=\"dataframe\">\n",
                     "  <thead>\n",
                     "    <tr style=\"text-align: right;\">\n",
                     "      <th></th>\n",
                     "      <th>Rank</th>\n",
                     "      <th>MSA</th>\n",
                     "      <th>population_2020</th>\n",
                     "    </tr>\n",
                     "  </thead>\n",
                     "  <tbody>\n",
                     "    <tr>\n",
                     "      <th>0</th>\n",
                     "      <td>1</td>\n",
                     "      <td>New York-Newark-Jersey City, NY-NJ-CT-PA MSA</td>\n",
                     "      <td>20140470</td>\n",
                     "    </tr>\n",
                     "    <tr>\n",
                     "      <th>1</th>\n",
                     "      <td>2</td>\n",
                     "      <td>Los Angeles-Long Beach-Anaheim, CA MSA</td>\n",
                     "      <td>13200998</td>\n",
                     "    </tr>\n",
                     "    <tr>\n",
                     "      <th>2</th>\n",
                     "      <td>3</td>\n",
                     "      <td>Chicago-Naperville-Elgin, IL-IN-WI MSA</td>\n",
                     "      <td>9618502</td>\n",
                     "    </tr>\n",
                     "    <tr>\n",
                     "      <th>3</th>\n",
                     "      <td>4</td>\n",
                     "      <td>Dallas-Fort Worth-Arlington, TX MSA</td>\n",
                     "      <td>7637387</td>\n",
                     "    </tr>\n",
                     "    <tr>\n",
                     "      <th>4</th>\n",
                     "      <td>5</td>\n",
                     "      <td>Houston-The Woodlands-Sugar Land, TX MSA</td>\n",
                     "      <td>7122240</td>\n",
                     "    </tr>\n",
                     "  </tbody>\n",
                     "</table>\n",
                     "</div>"
                  ],
                  "text/plain": [
                     "   Rank                                           MSA  population_2020\n",
                     "0     1  New York-Newark-Jersey City, NY-NJ-CT-PA MSA         20140470\n",
                     "1     2        Los Angeles-Long Beach-Anaheim, CA MSA         13200998\n",
                     "2     3        Chicago-Naperville-Elgin, IL-IN-WI MSA          9618502\n",
                     "3     4           Dallas-Fort Worth-Arlington, TX MSA          7637387\n",
                     "4     5      Houston-The Woodlands-Sugar Land, TX MSA          7122240"
                  ]
               },
               "execution_count": 27,
               "metadata": {},
               "output_type": "execute_result"
            }
         ],
         "source": [
            "msa_by_pop.iloc[0:5]"
         ]
      },
      {
         "cell_type": "code",
         "execution_count": 28,
         "id": "corporate-adoption",
         "metadata": {},
         "outputs": [
            {
               "data": {
                  "text/html": [
                     "<div>\n",
                     "<style scoped>\n",
                     "    .dataframe tbody tr th:only-of-type {\n",
                     "        vertical-align: middle;\n",
                     "    }\n",
                     "\n",
                     "    .dataframe tbody tr th {\n",
                     "        vertical-align: top;\n",
                     "    }\n",
                     "\n",
                     "    .dataframe thead th {\n",
                     "        text-align: right;\n",
                     "    }\n",
                     "</style>\n",
                     "<table border=\"1\" class=\"dataframe\">\n",
                     "  <thead>\n",
                     "    <tr style=\"text-align: right;\">\n",
                     "      <th></th>\n",
                     "      <th>Rank</th>\n",
                     "      <th>MSA</th>\n",
                     "      <th>population_2020</th>\n",
                     "    </tr>\n",
                     "  </thead>\n",
                     "  <tbody>\n",
                     "    <tr>\n",
                     "      <th>0</th>\n",
                     "      <td>1</td>\n",
                     "      <td>New York-Newark-Jersey City, NY-NJ-CT-PA MSA</td>\n",
                     "      <td>20140470</td>\n",
                     "    </tr>\n",
                     "    <tr>\n",
                     "      <th>1</th>\n",
                     "      <td>2</td>\n",
                     "      <td>Los Angeles-Long Beach-Anaheim, CA MSA</td>\n",
                     "      <td>13200998</td>\n",
                     "    </tr>\n",
                     "    <tr>\n",
                     "      <th>2</th>\n",
                     "      <td>3</td>\n",
                     "      <td>Chicago-Naperville-Elgin, IL-IN-WI MSA</td>\n",
                     "      <td>9618502</td>\n",
                     "    </tr>\n",
                     "    <tr>\n",
                     "      <th>3</th>\n",
                     "      <td>4</td>\n",
                     "      <td>Dallas-Fort Worth-Arlington, TX MSA</td>\n",
                     "      <td>7637387</td>\n",
                     "    </tr>\n",
                     "    <tr>\n",
                     "      <th>4</th>\n",
                     "      <td>5</td>\n",
                     "      <td>Houston-The Woodlands-Sugar Land, TX MSA</td>\n",
                     "      <td>7122240</td>\n",
                     "    </tr>\n",
                     "    <tr>\n",
                     "      <th>5</th>\n",
                     "      <td>6</td>\n",
                     "      <td>Washington-Arlington-Alexandria, DC-VA-MD-WV MSA</td>\n",
                     "      <td>6385162</td>\n",
                     "    </tr>\n",
                     "  </tbody>\n",
                     "</table>\n",
                     "</div>"
                  ],
                  "text/plain": [
                     "   Rank                                               MSA  population_2020\n",
                     "0     1      New York-Newark-Jersey City, NY-NJ-CT-PA MSA         20140470\n",
                     "1     2            Los Angeles-Long Beach-Anaheim, CA MSA         13200998\n",
                     "2     3            Chicago-Naperville-Elgin, IL-IN-WI MSA          9618502\n",
                     "3     4               Dallas-Fort Worth-Arlington, TX MSA          7637387\n",
                     "4     5          Houston-The Woodlands-Sugar Land, TX MSA          7122240\n",
                     "5     6  Washington-Arlington-Alexandria, DC-VA-MD-WV MSA          6385162"
                  ]
               },
               "execution_count": 28,
               "metadata": {},
               "output_type": "execute_result"
            }
         ],
         "source": [
            "msa_by_pop.loc[0:5]"
         ]
      },
      {
         "cell_type": "markdown",
         "id": "worldwide-regard",
         "metadata": {},
         "source": [
            "But to do the same with columns you'll first have to specify that you want all the rows with `:` . "
         ]
      },
      {
         "cell_type": "code",
         "execution_count": 29,
         "id": "biological-bidder",
         "metadata": {},
         "outputs": [
            {
               "data": {
                  "text/html": [
                     "<div>\n",
                     "<style scoped>\n",
                     "    .dataframe tbody tr th:only-of-type {\n",
                     "        vertical-align: middle;\n",
                     "    }\n",
                     "\n",
                     "    .dataframe tbody tr th {\n",
                     "        vertical-align: top;\n",
                     "    }\n",
                     "\n",
                     "    .dataframe thead th {\n",
                     "        text-align: right;\n",
                     "    }\n",
                     "</style>\n",
                     "<table border=\"1\" class=\"dataframe\">\n",
                     "  <thead>\n",
                     "    <tr style=\"text-align: right;\">\n",
                     "      <th></th>\n",
                     "      <th>Rank</th>\n",
                     "    </tr>\n",
                     "  </thead>\n",
                     "  <tbody>\n",
                     "    <tr>\n",
                     "      <th>0</th>\n",
                     "      <td>1</td>\n",
                     "    </tr>\n",
                     "    <tr>\n",
                     "      <th>1</th>\n",
                     "      <td>2</td>\n",
                     "    </tr>\n",
                     "    <tr>\n",
                     "      <th>2</th>\n",
                     "      <td>3</td>\n",
                     "    </tr>\n",
                     "    <tr>\n",
                     "      <th>3</th>\n",
                     "      <td>4</td>\n",
                     "    </tr>\n",
                     "    <tr>\n",
                     "      <th>4</th>\n",
                     "      <td>5</td>\n",
                     "    </tr>\n",
                     "    <tr>\n",
                     "      <th>...</th>\n",
                     "      <td>...</td>\n",
                     "    </tr>\n",
                     "    <tr>\n",
                     "      <th>379</th>\n",
                     "      <td>380</td>\n",
                     "    </tr>\n",
                     "    <tr>\n",
                     "      <th>380</th>\n",
                     "      <td>381</td>\n",
                     "    </tr>\n",
                     "    <tr>\n",
                     "      <th>381</th>\n",
                     "      <td>382</td>\n",
                     "    </tr>\n",
                     "    <tr>\n",
                     "      <th>382</th>\n",
                     "      <td>383</td>\n",
                     "    </tr>\n",
                     "    <tr>\n",
                     "      <th>383</th>\n",
                     "      <td>384</td>\n",
                     "    </tr>\n",
                     "  </tbody>\n",
                     "</table>\n",
                     "<p>384 rows × 1 columns</p>\n",
                     "</div>"
                  ],
                  "text/plain": [
                     "     Rank\n",
                     "0       1\n",
                     "1       2\n",
                     "2       3\n",
                     "3       4\n",
                     "4       5\n",
                     "..    ...\n",
                     "379   380\n",
                     "380   381\n",
                     "381   382\n",
                     "382   383\n",
                     "383   384\n",
                     "\n",
                     "[384 rows x 1 columns]"
                  ]
               },
               "execution_count": 29,
               "metadata": {},
               "output_type": "execute_result"
            }
         ],
         "source": [
            "msa_by_pop.loc[:,['Rank']]"
         ]
      },
      {
         "cell_type": "code",
         "execution_count": 30,
         "id": "about-intranet",
         "metadata": {},
         "outputs": [
            {
               "data": {
                  "text/html": [
                     "<div>\n",
                     "<style scoped>\n",
                     "    .dataframe tbody tr th:only-of-type {\n",
                     "        vertical-align: middle;\n",
                     "    }\n",
                     "\n",
                     "    .dataframe tbody tr th {\n",
                     "        vertical-align: top;\n",
                     "    }\n",
                     "\n",
                     "    .dataframe thead th {\n",
                     "        text-align: right;\n",
                     "    }\n",
                     "</style>\n",
                     "<table border=\"1\" class=\"dataframe\">\n",
                     "  <thead>\n",
                     "    <tr style=\"text-align: right;\">\n",
                     "      <th></th>\n",
                     "      <th>Rank</th>\n",
                     "    </tr>\n",
                     "  </thead>\n",
                     "  <tbody>\n",
                     "    <tr>\n",
                     "      <th>0</th>\n",
                     "      <td>1</td>\n",
                     "    </tr>\n",
                     "    <tr>\n",
                     "      <th>1</th>\n",
                     "      <td>2</td>\n",
                     "    </tr>\n",
                     "    <tr>\n",
                     "      <th>2</th>\n",
                     "      <td>3</td>\n",
                     "    </tr>\n",
                     "    <tr>\n",
                     "      <th>3</th>\n",
                     "      <td>4</td>\n",
                     "    </tr>\n",
                     "    <tr>\n",
                     "      <th>4</th>\n",
                     "      <td>5</td>\n",
                     "    </tr>\n",
                     "    <tr>\n",
                     "      <th>...</th>\n",
                     "      <td>...</td>\n",
                     "    </tr>\n",
                     "    <tr>\n",
                     "      <th>379</th>\n",
                     "      <td>380</td>\n",
                     "    </tr>\n",
                     "    <tr>\n",
                     "      <th>380</th>\n",
                     "      <td>381</td>\n",
                     "    </tr>\n",
                     "    <tr>\n",
                     "      <th>381</th>\n",
                     "      <td>382</td>\n",
                     "    </tr>\n",
                     "    <tr>\n",
                     "      <th>382</th>\n",
                     "      <td>383</td>\n",
                     "    </tr>\n",
                     "    <tr>\n",
                     "      <th>383</th>\n",
                     "      <td>384</td>\n",
                     "    </tr>\n",
                     "  </tbody>\n",
                     "</table>\n",
                     "<p>384 rows × 1 columns</p>\n",
                     "</div>"
                  ],
                  "text/plain": [
                     "     Rank\n",
                     "0       1\n",
                     "1       2\n",
                     "2       3\n",
                     "3       4\n",
                     "4       5\n",
                     "..    ...\n",
                     "379   380\n",
                     "380   381\n",
                     "381   382\n",
                     "382   383\n",
                     "383   384\n",
                     "\n",
                     "[384 rows x 1 columns]"
                  ]
               },
               "execution_count": 30,
               "metadata": {},
               "output_type": "execute_result"
            }
         ],
         "source": [
            "msa_by_pop.iloc[:,[0]]"
         ]
      },
      {
         "cell_type": "markdown",
         "id": "spread-roots",
         "metadata": {},
         "source": [
            "With the square brackets `[]` you can provide a row or column. "
         ]
      },
      {
         "cell_type": "code",
         "execution_count": 31,
         "id": "7c2e42a8",
         "metadata": {},
         "outputs": [
            {
               "data": {
                  "text/plain": [
                     "0        1\n",
                     "1        2\n",
                     "2        3\n",
                     "3        4\n",
                     "4        5\n",
                     "      ... \n",
                     "379    380\n",
                     "380    381\n",
                     "381    382\n",
                     "382    383\n",
                     "383    384\n",
                     "Name: Rank, Length: 384, dtype: int64"
                  ]
               },
               "execution_count": 31,
               "metadata": {},
               "output_type": "execute_result"
            }
         ],
         "source": [
            "msa_by_pop['Rank']"
         ]
      },
      {
         "cell_type": "markdown",
         "id": "4c34f045",
         "metadata": {},
         "source": [
            "If you put the column name in a list, you get back a dataframe instead of a series. "
         ]
      },
      {
         "cell_type": "code",
         "execution_count": 32,
         "id": "alive-phoenix",
         "metadata": {},
         "outputs": [
            {
               "data": {
                  "text/html": [
                     "<div>\n",
                     "<style scoped>\n",
                     "    .dataframe tbody tr th:only-of-type {\n",
                     "        vertical-align: middle;\n",
                     "    }\n",
                     "\n",
                     "    .dataframe tbody tr th {\n",
                     "        vertical-align: top;\n",
                     "    }\n",
                     "\n",
                     "    .dataframe thead th {\n",
                     "        text-align: right;\n",
                     "    }\n",
                     "</style>\n",
                     "<table border=\"1\" class=\"dataframe\">\n",
                     "  <thead>\n",
                     "    <tr style=\"text-align: right;\">\n",
                     "      <th></th>\n",
                     "      <th>Rank</th>\n",
                     "    </tr>\n",
                     "  </thead>\n",
                     "  <tbody>\n",
                     "    <tr>\n",
                     "      <th>0</th>\n",
                     "      <td>1</td>\n",
                     "    </tr>\n",
                     "    <tr>\n",
                     "      <th>1</th>\n",
                     "      <td>2</td>\n",
                     "    </tr>\n",
                     "    <tr>\n",
                     "      <th>2</th>\n",
                     "      <td>3</td>\n",
                     "    </tr>\n",
                     "    <tr>\n",
                     "      <th>3</th>\n",
                     "      <td>4</td>\n",
                     "    </tr>\n",
                     "    <tr>\n",
                     "      <th>4</th>\n",
                     "      <td>5</td>\n",
                     "    </tr>\n",
                     "    <tr>\n",
                     "      <th>...</th>\n",
                     "      <td>...</td>\n",
                     "    </tr>\n",
                     "    <tr>\n",
                     "      <th>379</th>\n",
                     "      <td>380</td>\n",
                     "    </tr>\n",
                     "    <tr>\n",
                     "      <th>380</th>\n",
                     "      <td>381</td>\n",
                     "    </tr>\n",
                     "    <tr>\n",
                     "      <th>381</th>\n",
                     "      <td>382</td>\n",
                     "    </tr>\n",
                     "    <tr>\n",
                     "      <th>382</th>\n",
                     "      <td>383</td>\n",
                     "    </tr>\n",
                     "    <tr>\n",
                     "      <th>383</th>\n",
                     "      <td>384</td>\n",
                     "    </tr>\n",
                     "  </tbody>\n",
                     "</table>\n",
                     "<p>384 rows × 1 columns</p>\n",
                     "</div>"
                  ],
                  "text/plain": [
                     "     Rank\n",
                     "0       1\n",
                     "1       2\n",
                     "2       3\n",
                     "3       4\n",
                     "4       5\n",
                     "..    ...\n",
                     "379   380\n",
                     "380   381\n",
                     "381   382\n",
                     "382   383\n",
                     "383   384\n",
                     "\n",
                     "[384 rows x 1 columns]"
                  ]
               },
               "execution_count": 32,
               "metadata": {},
               "output_type": "execute_result"
            }
         ],
         "source": [
            "msa_by_pop[['Rank']]"
         ]
      },
      {
         "cell_type": "markdown",
         "id": "b2fb2221",
         "metadata": {},
         "source": [
            "This list can have more than one element, of course. "
         ]
      },
      {
         "cell_type": "code",
         "execution_count": 33,
         "id": "simple-being",
         "metadata": {},
         "outputs": [
            {
               "data": {
                  "text/html": [
                     "<div>\n",
                     "<style scoped>\n",
                     "    .dataframe tbody tr th:only-of-type {\n",
                     "        vertical-align: middle;\n",
                     "    }\n",
                     "\n",
                     "    .dataframe tbody tr th {\n",
                     "        vertical-align: top;\n",
                     "    }\n",
                     "\n",
                     "    .dataframe thead th {\n",
                     "        text-align: right;\n",
                     "    }\n",
                     "</style>\n",
                     "<table border=\"1\" class=\"dataframe\">\n",
                     "  <thead>\n",
                     "    <tr style=\"text-align: right;\">\n",
                     "      <th></th>\n",
                     "      <th>Rank</th>\n",
                     "      <th>population_2020</th>\n",
                     "    </tr>\n",
                     "  </thead>\n",
                     "  <tbody>\n",
                     "    <tr>\n",
                     "      <th>0</th>\n",
                     "      <td>1</td>\n",
                     "      <td>20140470</td>\n",
                     "    </tr>\n",
                     "    <tr>\n",
                     "      <th>1</th>\n",
                     "      <td>2</td>\n",
                     "      <td>13200998</td>\n",
                     "    </tr>\n",
                     "    <tr>\n",
                     "      <th>2</th>\n",
                     "      <td>3</td>\n",
                     "      <td>9618502</td>\n",
                     "    </tr>\n",
                     "    <tr>\n",
                     "      <th>3</th>\n",
                     "      <td>4</td>\n",
                     "      <td>7637387</td>\n",
                     "    </tr>\n",
                     "    <tr>\n",
                     "      <th>4</th>\n",
                     "      <td>5</td>\n",
                     "      <td>7122240</td>\n",
                     "    </tr>\n",
                     "    <tr>\n",
                     "      <th>...</th>\n",
                     "      <td>...</td>\n",
                     "      <td>...</td>\n",
                     "    </tr>\n",
                     "    <tr>\n",
                     "      <th>379</th>\n",
                     "      <td>380</td>\n",
                     "      <td>74188</td>\n",
                     "    </tr>\n",
                     "    <tr>\n",
                     "      <th>380</th>\n",
                     "      <td>381</td>\n",
                     "      <td>64375</td>\n",
                     "    </tr>\n",
                     "    <tr>\n",
                     "      <th>381</th>\n",
                     "      <td>382</td>\n",
                     "      <td>62584</td>\n",
                     "    </tr>\n",
                     "    <tr>\n",
                     "      <th>382</th>\n",
                     "      <td>383</td>\n",
                     "      <td>62846</td>\n",
                     "    </tr>\n",
                     "    <tr>\n",
                     "      <th>383</th>\n",
                     "      <td>384</td>\n",
                     "      <td>58639</td>\n",
                     "    </tr>\n",
                     "  </tbody>\n",
                     "</table>\n",
                     "<p>384 rows × 2 columns</p>\n",
                     "</div>"
                  ],
                  "text/plain": [
                     "     Rank  population_2020\n",
                     "0       1         20140470\n",
                     "1       2         13200998\n",
                     "2       3          9618502\n",
                     "3       4          7637387\n",
                     "4       5          7122240\n",
                     "..    ...              ...\n",
                     "379   380            74188\n",
                     "380   381            64375\n",
                     "381   382            62584\n",
                     "382   383            62846\n",
                     "383   384            58639\n",
                     "\n",
                     "[384 rows x 2 columns]"
                  ]
               },
               "execution_count": 33,
               "metadata": {},
               "output_type": "execute_result"
            }
         ],
         "source": [
            "msa_by_pop[['Rank','population_2020']]"
         ]
      },
      {
         "cell_type": "markdown",
         "id": "beginning-plaza",
         "metadata": {},
         "source": [
            "## 2.5 Filtering\n",
            "We can filter the dataframe by expressions. Filtering in pandas is done with a boolean expression. The expression is evaluated for each row in the dataframe, and only rows where the expression evaluates to `True` are returned."
         ]
      },
      {
         "cell_type": "code",
         "execution_count": 34,
         "id": "killing-trunk",
         "metadata": {},
         "outputs": [
            {
               "data": {
                  "text/html": [
                     "<div>\n",
                     "<style scoped>\n",
                     "    .dataframe tbody tr th:only-of-type {\n",
                     "        vertical-align: middle;\n",
                     "    }\n",
                     "\n",
                     "    .dataframe tbody tr th {\n",
                     "        vertical-align: top;\n",
                     "    }\n",
                     "\n",
                     "    .dataframe thead th {\n",
                     "        text-align: right;\n",
                     "    }\n",
                     "</style>\n",
                     "<table border=\"1\" class=\"dataframe\">\n",
                     "  <thead>\n",
                     "    <tr style=\"text-align: right;\">\n",
                     "      <th></th>\n",
                     "      <th>Rank</th>\n",
                     "      <th>MSA</th>\n",
                     "      <th>population_2020</th>\n",
                     "    </tr>\n",
                     "  </thead>\n",
                     "  <tbody>\n",
                     "    <tr>\n",
                     "      <th>300</th>\n",
                     "      <td>301</td>\n",
                     "      <td>Napa, CA MSA</td>\n",
                     "      <td>138019</td>\n",
                     "    </tr>\n",
                     "    <tr>\n",
                     "      <th>301</th>\n",
                     "      <td>302</td>\n",
                     "      <td>Harrisonburg, VA MSA</td>\n",
                     "      <td>135571</td>\n",
                     "    </tr>\n",
                     "    <tr>\n",
                     "      <th>302</th>\n",
                     "      <td>303</td>\n",
                     "      <td>Sumter, SC MSA</td>\n",
                     "      <td>136700</td>\n",
                     "    </tr>\n",
                     "    <tr>\n",
                     "      <th>303</th>\n",
                     "      <td>304</td>\n",
                     "      <td>The Villages, FL MSA</td>\n",
                     "      <td>129752</td>\n",
                     "    </tr>\n",
                     "    <tr>\n",
                     "      <th>304</th>\n",
                     "      <td>305</td>\n",
                     "      <td>Springfield, OH MSA</td>\n",
                     "      <td>136001</td>\n",
                     "    </tr>\n",
                     "    <tr>\n",
                     "      <th>...</th>\n",
                     "      <td>...</td>\n",
                     "      <td>...</td>\n",
                     "      <td>...</td>\n",
                     "    </tr>\n",
                     "    <tr>\n",
                     "      <th>379</th>\n",
                     "      <td>380</td>\n",
                     "      <td>Danville, IL MSA</td>\n",
                     "      <td>74188</td>\n",
                     "    </tr>\n",
                     "    <tr>\n",
                     "      <th>380</th>\n",
                     "      <td>381</td>\n",
                     "      <td>Lewiston, ID-WA MSA</td>\n",
                     "      <td>64375</td>\n",
                     "    </tr>\n",
                     "    <tr>\n",
                     "      <th>381</th>\n",
                     "      <td>382</td>\n",
                     "      <td>Walla Walla, WA MSA</td>\n",
                     "      <td>62584</td>\n",
                     "    </tr>\n",
                     "    <tr>\n",
                     "      <th>382</th>\n",
                     "      <td>383</td>\n",
                     "      <td>Enid, OK MSA</td>\n",
                     "      <td>62846</td>\n",
                     "    </tr>\n",
                     "    <tr>\n",
                     "      <th>383</th>\n",
                     "      <td>384</td>\n",
                     "      <td>Carson City, NV MSA</td>\n",
                     "      <td>58639</td>\n",
                     "    </tr>\n",
                     "  </tbody>\n",
                     "</table>\n",
                     "<p>84 rows × 3 columns</p>\n",
                     "</div>"
                  ],
                  "text/plain": [
                     "     Rank                   MSA  population_2020\n",
                     "300   301          Napa, CA MSA           138019\n",
                     "301   302  Harrisonburg, VA MSA           135571\n",
                     "302   303        Sumter, SC MSA           136700\n",
                     "303   304  The Villages, FL MSA           129752\n",
                     "304   305   Springfield, OH MSA           136001\n",
                     "..    ...                   ...              ...\n",
                     "379   380      Danville, IL MSA            74188\n",
                     "380   381   Lewiston, ID-WA MSA            64375\n",
                     "381   382   Walla Walla, WA MSA            62584\n",
                     "382   383          Enid, OK MSA            62846\n",
                     "383   384   Carson City, NV MSA            58639\n",
                     "\n",
                     "[84 rows x 3 columns]"
                  ]
               },
               "execution_count": 34,
               "metadata": {},
               "output_type": "execute_result"
            }
         ],
         "source": [
            "# A boolean expression is one that evaluates to either True or False.\n",
            "# Here we are asking if the value in the Rank column is greater than 300.\n",
            "\n",
            "msa_by_pop.loc[msa_by_pop['Rank']>300]\n",
            "# Yes, msa_by_pop['Rank'] does also select the column, \n",
            "# but notice that it gives a Series instead of a dataframe one column."
         ]
      },
      {
         "cell_type": "code",
         "execution_count": 35,
         "id": "7039f9ef",
         "metadata": {},
         "outputs": [
            {
               "data": {
                  "text/plain": [
                     "0      False\n",
                     "1      False\n",
                     "2      False\n",
                     "3      False\n",
                     "4      False\n",
                     "       ...  \n",
                     "379     True\n",
                     "380     True\n",
                     "381     True\n",
                     "382     True\n",
                     "383     True\n",
                     "Name: Rank, Length: 384, dtype: bool"
                  ]
               },
               "execution_count": 35,
               "metadata": {},
               "output_type": "execute_result"
            }
         ],
         "source": [
            "# This expression finds all the rows where the value in the Rank column is greater than 300,\n",
            "msa_by_pop['Rank']>300\n",
            "# "
         ]
      },
      {
         "cell_type": "markdown",
         "id": "undefined-storm",
         "metadata": {},
         "source": [
            "In order to filter by more than one condition, you must: \n",
            "1. Put all conditions in `()`\n",
            "2. Separate the condtions by: \n",
            "\n",
            "    a. `|` if an `OR` condition     \n",
            "    b. `&` if an `AND` condition"
         ]
      },
      {
         "cell_type": "code",
         "execution_count": 36,
         "id": "given-collar",
         "metadata": {},
         "outputs": [
            {
               "data": {
                  "text/html": [
                     "<div>\n",
                     "<style scoped>\n",
                     "    .dataframe tbody tr th:only-of-type {\n",
                     "        vertical-align: middle;\n",
                     "    }\n",
                     "\n",
                     "    .dataframe tbody tr th {\n",
                     "        vertical-align: top;\n",
                     "    }\n",
                     "\n",
                     "    .dataframe thead th {\n",
                     "        text-align: right;\n",
                     "    }\n",
                     "</style>\n",
                     "<table border=\"1\" class=\"dataframe\">\n",
                     "  <thead>\n",
                     "    <tr style=\"text-align: right;\">\n",
                     "      <th></th>\n",
                     "      <th>Rank</th>\n",
                     "      <th>MSA</th>\n",
                     "      <th>population_2020</th>\n",
                     "    </tr>\n",
                     "  </thead>\n",
                     "  <tbody>\n",
                     "    <tr>\n",
                     "      <th>317</th>\n",
                     "      <td>318</td>\n",
                     "      <td>Glens Falls, NY MSA</td>\n",
                     "      <td>127039</td>\n",
                     "    </tr>\n",
                     "    <tr>\n",
                     "      <th>334</th>\n",
                     "      <td>335</td>\n",
                     "      <td>Watertown-Fort Drum, NY MSA</td>\n",
                     "      <td>116721</td>\n",
                     "    </tr>\n",
                     "    <tr>\n",
                     "      <th>346</th>\n",
                     "      <td>347</td>\n",
                     "      <td>Ithaca, NY MSA</td>\n",
                     "      <td>105740</td>\n",
                     "    </tr>\n",
                     "    <tr>\n",
                     "      <th>373</th>\n",
                     "      <td>374</td>\n",
                     "      <td>Elmira, NY MSA</td>\n",
                     "      <td>84148</td>\n",
                     "    </tr>\n",
                     "  </tbody>\n",
                     "</table>\n",
                     "</div>"
                  ],
                  "text/plain": [
                     "     Rank                          MSA  population_2020\n",
                     "317   318          Glens Falls, NY MSA           127039\n",
                     "334   335  Watertown-Fort Drum, NY MSA           116721\n",
                     "346   347               Ithaca, NY MSA           105740\n",
                     "373   374               Elmira, NY MSA            84148"
                  ]
               },
               "execution_count": 36,
               "metadata": {},
               "output_type": "execute_result"
            }
         ],
         "source": [
            "msa_by_pop[(msa_by_pop['Rank']>300) & (msa_by_pop['MSA'].str.contains('NY'))]"
         ]
      },
      {
         "cell_type": "code",
         "execution_count": 37,
         "id": "preceding-travel",
         "metadata": {},
         "outputs": [
            {
               "data": {
                  "text/html": [
                     "<div>\n",
                     "<style scoped>\n",
                     "    .dataframe tbody tr th:only-of-type {\n",
                     "        vertical-align: middle;\n",
                     "    }\n",
                     "\n",
                     "    .dataframe tbody tr th {\n",
                     "        vertical-align: top;\n",
                     "    }\n",
                     "\n",
                     "    .dataframe thead th {\n",
                     "        text-align: right;\n",
                     "    }\n",
                     "</style>\n",
                     "<table border=\"1\" class=\"dataframe\">\n",
                     "  <thead>\n",
                     "    <tr style=\"text-align: right;\">\n",
                     "      <th></th>\n",
                     "      <th>Rank</th>\n",
                     "      <th>MSA</th>\n",
                     "      <th>population_2020</th>\n",
                     "    </tr>\n",
                     "  </thead>\n",
                     "  <tbody>\n",
                     "    <tr>\n",
                     "      <th>0</th>\n",
                     "      <td>1</td>\n",
                     "      <td>New York-Newark-Jersey City, NY-NJ-CT-PA MSA</td>\n",
                     "      <td>20140470</td>\n",
                     "    </tr>\n",
                     "    <tr>\n",
                     "      <th>48</th>\n",
                     "      <td>49</td>\n",
                     "      <td>Buffalo-Niagara Falls, NY MSA</td>\n",
                     "      <td>1166902</td>\n",
                     "    </tr>\n",
                     "    <tr>\n",
                     "      <th>51</th>\n",
                     "      <td>52</td>\n",
                     "      <td>Rochester, NY MSA</td>\n",
                     "      <td>1090135</td>\n",
                     "    </tr>\n",
                     "    <tr>\n",
                     "      <th>62</th>\n",
                     "      <td>63</td>\n",
                     "      <td>Albany-Schenectady-Troy, NY MSA</td>\n",
                     "      <td>899262</td>\n",
                     "    </tr>\n",
                     "    <tr>\n",
                     "      <th>83</th>\n",
                     "      <td>84</td>\n",
                     "      <td>Poughkeepsie-Newburgh-Middletown, NY MSA</td>\n",
                     "      <td>697221</td>\n",
                     "    </tr>\n",
                     "    <tr>\n",
                     "      <th>...</th>\n",
                     "      <td>...</td>\n",
                     "      <td>...</td>\n",
                     "      <td>...</td>\n",
                     "    </tr>\n",
                     "    <tr>\n",
                     "      <th>379</th>\n",
                     "      <td>380</td>\n",
                     "      <td>Danville, IL MSA</td>\n",
                     "      <td>74188</td>\n",
                     "    </tr>\n",
                     "    <tr>\n",
                     "      <th>380</th>\n",
                     "      <td>381</td>\n",
                     "      <td>Lewiston, ID-WA MSA</td>\n",
                     "      <td>64375</td>\n",
                     "    </tr>\n",
                     "    <tr>\n",
                     "      <th>381</th>\n",
                     "      <td>382</td>\n",
                     "      <td>Walla Walla, WA MSA</td>\n",
                     "      <td>62584</td>\n",
                     "    </tr>\n",
                     "    <tr>\n",
                     "      <th>382</th>\n",
                     "      <td>383</td>\n",
                     "      <td>Enid, OK MSA</td>\n",
                     "      <td>62846</td>\n",
                     "    </tr>\n",
                     "    <tr>\n",
                     "      <th>383</th>\n",
                     "      <td>384</td>\n",
                     "      <td>Carson City, NV MSA</td>\n",
                     "      <td>58639</td>\n",
                     "    </tr>\n",
                     "  </tbody>\n",
                     "</table>\n",
                     "<p>93 rows × 3 columns</p>\n",
                     "</div>"
                  ],
                  "text/plain": [
                     "     Rank                                           MSA  population_2020\n",
                     "0       1  New York-Newark-Jersey City, NY-NJ-CT-PA MSA         20140470\n",
                     "48     49                 Buffalo-Niagara Falls, NY MSA          1166902\n",
                     "51     52                             Rochester, NY MSA          1090135\n",
                     "62     63               Albany-Schenectady-Troy, NY MSA           899262\n",
                     "83     84      Poughkeepsie-Newburgh-Middletown, NY MSA           697221\n",
                     "..    ...                                           ...              ...\n",
                     "379   380                              Danville, IL MSA            74188\n",
                     "380   381                           Lewiston, ID-WA MSA            64375\n",
                     "381   382                           Walla Walla, WA MSA            62584\n",
                     "382   383                                  Enid, OK MSA            62846\n",
                     "383   384                           Carson City, NV MSA            58639\n",
                     "\n",
                     "[93 rows x 3 columns]"
                  ]
               },
               "execution_count": 37,
               "metadata": {},
               "output_type": "execute_result"
            }
         ],
         "source": [
            "msa_by_pop[(msa_by_pop['Rank']>300) | (msa_by_pop['MSA'].str.contains('NY'))]"
         ]
      },
      {
         "cell_type": "markdown",
         "id": "systematic-delta",
         "metadata": {},
         "source": [
            "## 2.6 Modifying elements\n",
            "Essentially, in the same way that we can select elements we can also update them using the same logic. "
         ]
      },
      {
         "cell_type": "code",
         "execution_count": 38,
         "id": "controlled-gibraltar",
         "metadata": {},
         "outputs": [
            {
               "data": {
                  "text/plain": [
                     "0    20140470\n",
                     "Name: population_2020, dtype: int64"
                  ]
               },
               "execution_count": 38,
               "metadata": {},
               "output_type": "execute_result"
            }
         ],
         "source": [
            "### Filter for population value\n",
            "msa_by_pop.loc[msa_by_pop['population_2020']==20140470,'population_2020']"
         ]
      },
      {
         "cell_type": "code",
         "execution_count": 39,
         "id": "8459fb72",
         "metadata": {},
         "outputs": [],
         "source": [
            "# This is the same as above, but we are assigning the value 20000000 to the population_2021_est column\n",
            "msa_by_pop.loc[msa_by_pop['population_2020']==20140470,'population_2020'] = 20000000"
         ]
      },
      {
         "cell_type": "markdown",
         "id": "random-fossil",
         "metadata": {},
         "source": [
            "## 2.7 Pandas Arithmetics\n",
            "Pandas arithmetics are vectorized, meaning that the operation is applied to each element in the column."
         ]
      },
      {
         "cell_type": "code",
         "execution_count": 40,
         "id": "06a3ce97",
         "metadata": {},
         "outputs": [
            {
               "data": {
                  "text/plain": [
                     "0      20.000000\n",
                     "1      13.200998\n",
                     "2       9.618502\n",
                     "3       7.637387\n",
                     "4       7.122240\n",
                     "         ...    \n",
                     "379     0.074188\n",
                     "380     0.064375\n",
                     "381     0.062584\n",
                     "382     0.062846\n",
                     "383     0.058639\n",
                     "Name: population_2020, Length: 384, dtype: float64"
                  ]
               },
               "execution_count": 40,
               "metadata": {},
               "output_type": "execute_result"
            }
         ],
         "source": [
            "# Pandas arithmetics are vectorized, meaning that the operation is applied to each element in the column\n",
            "msa_by_pop['population_2020'] / 1000000"
         ]
      },
      {
         "cell_type": "code",
         "execution_count": 41,
         "id": "b0565ac0",
         "metadata": {},
         "outputs": [],
         "source": [
            "# We can assign the result of this operation to a new column\n",
            "msa_by_pop['population_2020_millions'] = msa_by_pop['population_2020'] / 1000000"
         ]
      },
      {
         "cell_type": "code",
         "execution_count": 42,
         "id": "8ff73c9f",
         "metadata": {},
         "outputs": [
            {
               "data": {
                  "text/plain": [
                     "0      40000000\n",
                     "1      26401996\n",
                     "2      19237004\n",
                     "3      15274774\n",
                     "4      14244480\n",
                     "         ...   \n",
                     "379      148376\n",
                     "380      128750\n",
                     "381      125168\n",
                     "382      125692\n",
                     "383      117278\n",
                     "Name: population_2020, Length: 384, dtype: int64"
                  ]
               },
               "execution_count": 42,
               "metadata": {},
               "output_type": "execute_result"
            }
         ],
         "source": [
            "# This multiplies the population_2020 column by 2 \n",
            "msa_by_pop['population_2020'] * 2"
         ]
      },
      {
         "cell_type": "code",
         "execution_count": 43,
         "id": "90096da0",
         "metadata": {},
         "outputs": [
            {
               "data": {
                  "text/plain": [
                     "0      400000000000000\n",
                     "1      174266348196004\n",
                     "2       92515580724004\n",
                     "3       58329680187769\n",
                     "4       50726302617600\n",
                     "            ...       \n",
                     "379         5503859344\n",
                     "380         4144140625\n",
                     "381         3916757056\n",
                     "382         3949619716\n",
                     "383         3438532321\n",
                     "Name: population_2020, Length: 384, dtype: int64"
                  ]
               },
               "execution_count": 43,
               "metadata": {},
               "output_type": "execute_result"
            }
         ],
         "source": [
            "# This takes the square of the population_2020 column\n",
            "msa_by_pop['population_2020'] **2"
         ]
      },
      {
         "cell_type": "markdown",
         "id": "f65db720",
         "metadata": {},
         "source": [
            "We can find the sum by using the sum method. Note that the sum method ignores missing values by default"
         ]
      },
      {
         "cell_type": "code",
         "execution_count": 44,
         "id": "expired-illness",
         "metadata": {},
         "outputs": [
            {
               "data": {
                  "text/plain": [
                     "285964086"
                  ]
               },
               "execution_count": 44,
               "metadata": {},
               "output_type": "execute_result"
            }
         ],
         "source": [
            "msa_by_pop['population_2020'].sum()"
         ]
      },
      {
         "cell_type": "code",
         "execution_count": 45,
         "id": "7088ab49",
         "metadata": {},
         "outputs": [
            {
               "data": {
                  "text/plain": [
                     "744698.140625"
                  ]
               },
               "execution_count": 45,
               "metadata": {},
               "output_type": "execute_result"
            }
         ],
         "source": [
            "msa_by_pop['population_2020'].mean()"
         ]
      },
      {
         "cell_type": "code",
         "execution_count": 46,
         "id": "bcac73e0",
         "metadata": {},
         "outputs": [
            {
               "data": {
                  "text/plain": [
                     "248490.5"
                  ]
               },
               "execution_count": 46,
               "metadata": {},
               "output_type": "execute_result"
            }
         ],
         "source": [
            "msa_by_pop['population_2020'].median()"
         ]
      },
      {
         "cell_type": "code",
         "execution_count": 47,
         "id": "dcf333ed",
         "metadata": {},
         "outputs": [
            {
               "data": {
                  "text/plain": [
                     "1665797.0023611302"
                  ]
               },
               "execution_count": 47,
               "metadata": {},
               "output_type": "execute_result"
            }
         ],
         "source": [
            "msa_by_pop['population_2020'].std()"
         ]
      },
      {
         "cell_type": "markdown",
         "id": "elementary-pattern",
         "metadata": {},
         "source": [
            "# 3. Good Coding Practices\n",
            "\n",
            "The following are some good practices for writing more legible Jupyter notebooks. Often, we don't necessarily realize that code we write isn't immediately interpretable to readers. To make code more easily interpreted, we will often explain through markdown text or comments what we are doing. "
         ]
      },
      {
         "cell_type": "markdown",
         "id": "integrated-gross",
         "metadata": {},
         "source": [
            "## 3.1 Markdown and explanatory cells\n",
            "As you can see in this notebook, there are many \"Markdown\" cells surrounding our actual code. The markdown I have here describes the purpose of each code cell and what I wanted to do with it. \n",
            "\n",
            "I often organize my notebooks by header size `#`, `##` etc, and by numbering the different sections. This can be helpful if you're writing an especially long notebook. \n",
            "\n",
            "Here's a [guide on how to write in Markdown](https://docs.github.com/en/get-started/writing-on-github/getting-started-with-writing-and-formatting-on-github/basic-writing-and-formatting-syntax)."
         ]
      },
      {
         "cell_type": "markdown",
         "id": "adopted-grain",
         "metadata": {},
         "source": [
            "## 3.2 Indents\n",
            "Indents are very important in python. \n"
         ]
      },
      {
         "cell_type": "code",
         "execution_count": 49,
         "id": "50d24ccf",
         "metadata": {},
         "outputs": [
            {
               "name": "stdout",
               "output_type": "stream",
               "text": [
                  "0\n",
                  "1\n",
                  "2\n",
                  "3\n",
                  "4\n",
                  "0\n",
                  "1\n",
                  "2\n",
                  "3\n",
                  "4\n"
               ]
            }
         ],
         "source": [
            "# Indents are important in Python! \n",
            "# They tell Python what code is part of a function or loop.\n",
            "# This is a for loop.\n",
            "for i in range(5):\n",
            "    print(i)\n",
            "# This will give you an error: \n",
            "for i in range(5):\n",
            "    print(i)\n"
         ]
      },
      {
         "cell_type": "markdown",
         "id": "5810c457",
         "metadata": {},
         "source": [
            "## 3.3 Commenting\n",
            "Code comments are lines that start with a #. They are not executed by Python. They are used to explain what the code does."
         ]
      },
      {
         "cell_type": "markdown",
         "id": "sunset-quest",
         "metadata": {},
         "source": [
            "You can see that sometimes I have small notes in there that maybe didn't need to go into the markdown cell. "
         ]
      },
      {
         "cell_type": "code",
         "execution_count": null,
         "id": "beginning-flashing",
         "metadata": {},
         "outputs": [],
         "source": [
            "# This is a code comment\n",
            "msa_by_pop[(msa_by_pop['Rank']>300) & (msa_by_pop['MSA'].str.contains('NY')) & (msa_by_pop['population_2020']>100000)]"
         ]
      },
      {
         "cell_type": "markdown",
         "id": "cooked-berry",
         "metadata": {},
         "source": [
            "## 3.4 Selecting variable names\n",
            "There are two aspects of selecting variable names we're going to go over today: \n",
            "1. What to name your variables or function\n",
            "2. How to name a multi-word variable or function\n",
            "\n",
            "### 3.3.1\n",
            "A good variable name should: \n",
            "- Be clear and concise.\n",
            "- Be written in English. A general coding practice is to write code with variable names in English, as that is the most likely common language between programmers. Thus, variable names such as muuttuja (which is also not a good name on other levels) should be avoided.\n",
            "- Not contain special characters. Python supports use of special characters by way of various encoding options that can be given in a program. That said, it is better to avoid variables such as lämpötila because encoding issues can arise in some cases. Better to stick to the standard printable ASCII character set to be safe.\n",
            "- Not conflict with any Python keywords, such as for, True, False, and, if, or else. These are reserved for special operations in Python and cannot be used as variable names."
         ]
      },
      {
         "cell_type": "code",
         "execution_count": null,
         "id": "above-button",
         "metadata": {},
         "outputs": [],
         "source": [
            "# Do not do this: \n",
            "finnishmeteorlogicalinstituteobservationstationidentificationnumber = \"101533\"\n"
         ]
      },
      {
         "cell_type": "code",
         "execution_count": null,
         "id": "wanted-fields",
         "metadata": {},
         "outputs": [],
         "source": [
            "# Or this: \n",
            "f = \"101533\""
         ]
      },
      {
         "cell_type": "code",
         "execution_count": null,
         "id": "generic-crossing",
         "metadata": {},
         "outputs": [],
         "source": [
            "# Something that is as short as possible while still being descriptive is best\n",
            "sid = \"101533\""
         ]
      },
      {
         "cell_type": "markdown",
         "id": "figured-checklist",
         "metadata": {},
         "source": [
            "### 3.3.2 Snake case and camel case\n",
            "There are two general ways of connecting variable and function names that contain more than one word. \n",
            "\n",
            "You can see from the above exercise that I've named my DataFrame `msa_by_pop`. Connecting words by `_`  is called \"Snake Case\". \n",
            "\n",
            "Another convention is to use capital letters to start new words. `MsaByPop` could be another way to name our variable. "
         ]
      },
      {
         "cell_type": "markdown",
         "id": "extra-sperm",
         "metadata": {},
         "source": [
            "# 4. In-Class Exercises\n",
            "Each week, we will have in-class exercises that give you some pratice on the concepts learned in class.\n"
         ]
      },
      {
         "cell_type": "markdown",
         "id": "undefined-welding",
         "metadata": {},
         "source": [
            "## 4.1. Exercise 1 \n",
            "We are going to use the `msa_by_pop` data frame we created above. "
         ]
      },
      {
         "cell_type": "code",
         "execution_count": 51,
         "id": "typical-system",
         "metadata": {},
         "outputs": [
            {
               "data": {
                  "text/html": [
                     "<div>\n",
                     "<style scoped>\n",
                     "    .dataframe tbody tr th:only-of-type {\n",
                     "        vertical-align: middle;\n",
                     "    }\n",
                     "\n",
                     "    .dataframe tbody tr th {\n",
                     "        vertical-align: top;\n",
                     "    }\n",
                     "\n",
                     "    .dataframe thead th {\n",
                     "        text-align: right;\n",
                     "    }\n",
                     "</style>\n",
                     "<table border=\"1\" class=\"dataframe\">\n",
                     "  <thead>\n",
                     "    <tr style=\"text-align: right;\">\n",
                     "      <th></th>\n",
                     "      <th>Rank</th>\n",
                     "      <th>MSA</th>\n",
                     "      <th>population_2021_est</th>\n",
                     "      <th>population_2020</th>\n",
                     "      <th>perc_change</th>\n",
                     "      <th>Encompassing_combined_statistical_area</th>\n",
                     "    </tr>\n",
                     "  </thead>\n",
                     "  <tbody>\n",
                     "    <tr>\n",
                     "      <th>1</th>\n",
                     "      <td>1</td>\n",
                     "      <td>New York–Newark–Jersey City, NY-NJ MSA</td>\n",
                     "      <td>19557311.0</td>\n",
                     "      <td>20081935.0</td>\n",
                     "      <td>−2.61%</td>\n",
                     "      <td>New York–Newark, NY-NJ-CT-PA CSA</td>\n",
                     "    </tr>\n",
                     "    <tr>\n",
                     "      <th>2</th>\n",
                     "      <td>2</td>\n",
                     "      <td>Los Angeles–Long Beach–Anaheim, CA MSA</td>\n",
                     "      <td>12872322.0</td>\n",
                     "      <td>13200998.0</td>\n",
                     "      <td>−2.49%</td>\n",
                     "      <td>Los Angeles–Long Beach, CA CSA</td>\n",
                     "    </tr>\n",
                     "    <tr>\n",
                     "      <th>3</th>\n",
                     "      <td>3</td>\n",
                     "      <td>Chicago–Naperville–Elgin, IL-IN MSA</td>\n",
                     "      <td>9274140.0</td>\n",
                     "      <td>9449351.0</td>\n",
                     "      <td>−1.85%</td>\n",
                     "      <td>Chicago–Naperville, IL-IN-WI CSA</td>\n",
                     "    </tr>\n",
                     "    <tr>\n",
                     "      <th>4</th>\n",
                     "      <td>4</td>\n",
                     "      <td>Dallas–Fort Worth–Arlington, TX MSA</td>\n",
                     "      <td>7943685.0</td>\n",
                     "      <td>7637387.0</td>\n",
                     "      <td>+4.01%</td>\n",
                     "      <td>Dallas–Fort Worth, TX-OK CSA</td>\n",
                     "    </tr>\n",
                     "    <tr>\n",
                     "      <th>5</th>\n",
                     "      <td>5</td>\n",
                     "      <td>Houston–Pasadena–The Woodlands, TX MSA</td>\n",
                     "      <td>7368466.0</td>\n",
                     "      <td>7149642.0</td>\n",
                     "      <td>+3.06%</td>\n",
                     "      <td>Houston–Pasadena, TX CSA</td>\n",
                     "    </tr>\n",
                     "    <tr>\n",
                     "      <th>...</th>\n",
                     "      <td>...</td>\n",
                     "      <td>...</td>\n",
                     "      <td>...</td>\n",
                     "      <td>...</td>\n",
                     "      <td>...</td>\n",
                     "      <td>...</td>\n",
                     "    </tr>\n",
                     "    <tr>\n",
                     "      <th>383</th>\n",
                     "      <td>383</td>\n",
                     "      <td>Lewiston, ID-WA MSA</td>\n",
                     "      <td>65512.0</td>\n",
                     "      <td>64375.0</td>\n",
                     "      <td>+1.77%</td>\n",
                     "      <td>NaN</td>\n",
                     "    </tr>\n",
                     "    <tr>\n",
                     "      <th>384</th>\n",
                     "      <td>384</td>\n",
                     "      <td>Enid, OK MSA</td>\n",
                     "      <td>61920.0</td>\n",
                     "      <td>62846.0</td>\n",
                     "      <td>−1.47%</td>\n",
                     "      <td>NaN</td>\n",
                     "    </tr>\n",
                     "    <tr>\n",
                     "      <th>385</th>\n",
                     "      <td>385</td>\n",
                     "      <td>Walla Walla, WA MSA</td>\n",
                     "      <td>61890.0</td>\n",
                     "      <td>62584.0</td>\n",
                     "      <td>−1.11%</td>\n",
                     "      <td>Kennewick–Richland-Walla Walla, WA CSA</td>\n",
                     "    </tr>\n",
                     "    <tr>\n",
                     "      <th>386</th>\n",
                     "      <td>386</td>\n",
                     "      <td>Carson City, NV MSA</td>\n",
                     "      <td>58130.0</td>\n",
                     "      <td>58639.0</td>\n",
                     "      <td>−0.87%</td>\n",
                     "      <td>Reno–Carson City–Gardnerville Ranchos, NV-CA CSA</td>\n",
                     "    </tr>\n",
                     "    <tr>\n",
                     "      <th>387</th>\n",
                     "      <td>387</td>\n",
                     "      <td>Eagle Pass, TX</td>\n",
                     "      <td>57843.0</td>\n",
                     "      <td>57887.0</td>\n",
                     "      <td>−0.08%</td>\n",
                     "      <td>NaN</td>\n",
                     "    </tr>\n",
                     "  </tbody>\n",
                     "</table>\n",
                     "<p>387 rows × 6 columns</p>\n",
                     "</div>"
                  ],
                  "text/plain": [
                     "     Rank                                     MSA  population_2021_est  \\\n",
                     "1       1  New York–Newark–Jersey City, NY-NJ MSA           19557311.0   \n",
                     "2       2  Los Angeles–Long Beach–Anaheim, CA MSA           12872322.0   \n",
                     "3       3     Chicago–Naperville–Elgin, IL-IN MSA            9274140.0   \n",
                     "4       4     Dallas–Fort Worth–Arlington, TX MSA            7943685.0   \n",
                     "5       5  Houston–Pasadena–The Woodlands, TX MSA            7368466.0   \n",
                     "..    ...                                     ...                  ...   \n",
                     "383   383                     Lewiston, ID-WA MSA              65512.0   \n",
                     "384   384                            Enid, OK MSA              61920.0   \n",
                     "385   385                     Walla Walla, WA MSA              61890.0   \n",
                     "386   386                     Carson City, NV MSA              58130.0   \n",
                     "387   387                          Eagle Pass, TX              57843.0   \n",
                     "\n",
                     "     population_2020 perc_change  \\\n",
                     "1         20081935.0      −2.61%   \n",
                     "2         13200998.0      −2.49%   \n",
                     "3          9449351.0      −1.85%   \n",
                     "4          7637387.0      +4.01%   \n",
                     "5          7149642.0      +3.06%   \n",
                     "..               ...         ...   \n",
                     "383          64375.0      +1.77%   \n",
                     "384          62846.0      −1.47%   \n",
                     "385          62584.0      −1.11%   \n",
                     "386          58639.0      −0.87%   \n",
                     "387          57887.0      −0.08%   \n",
                     "\n",
                     "               Encompassing_combined_statistical_area  \n",
                     "1                    New York–Newark, NY-NJ-CT-PA CSA  \n",
                     "2                      Los Angeles–Long Beach, CA CSA  \n",
                     "3                    Chicago–Naperville, IL-IN-WI CSA  \n",
                     "4                        Dallas–Fort Worth, TX-OK CSA  \n",
                     "5                            Houston–Pasadena, TX CSA  \n",
                     "..                                                ...  \n",
                     "383                                               NaN  \n",
                     "384                                               NaN  \n",
                     "385            Kennewick–Richland-Walla Walla, WA CSA  \n",
                     "386  Reno–Carson City–Gardnerville Ranchos, NV-CA CSA  \n",
                     "387                                               NaN  \n",
                     "\n",
                     "[387 rows x 6 columns]"
                  ]
               },
               "execution_count": 7,
               "metadata": {},
               "output_type": "execute_result"
            }
         ],
         "source": [
            "import pandas as pd\n",
            "msa_by_pop = pd.read_html(\"https://en.wikipedia.org/wiki/Metropolitan_statistical_area\")[1]\n",
            "msa_by_pop = msa_by_pop.reset_index().iloc[1:, :]\n",
            "msa_by_pop.columns =['Rank', 'MSA', 'population_2021_est', 'population_2020',\n",
            "       'perc_change', 'Encompassing_combined_statistical_area']"
         ]
      },
      {
         "cell_type": "markdown",
         "id": "compatible-curve",
         "metadata": {},
         "source": [
            "Which is the MSA with the 10th largest population for 2020? "
         ]
      },
      {
         "cell_type": "code",
         "execution_count": 71,
         "id": "quarterly-pressure",
         "metadata": {},
         "outputs": [
            {
               "name": "stdout",
               "output_type": "stream",
               "text": [
                  "2021 10th largest population: Phoenix–Mesa–Chandler, AZ MSA\n",
                  "2020 10th largest population: Phoenix–Mesa–Chandler, AZ MSA\n"
               ]
            }
         ],
         "source": [
            "## Insert your code here\n",
            "msa_by_pop_2021_descend=msa_by_pop.sort_values('population_2021_est',ascending=False)\n",
            "print(\"2021 10th largest population:\", msa_by_pop_2021_descend.loc[10, \"MSA\"])\n",
            "\n",
            "msa_by_pop_2020_descend=msa_by_pop.sort_values('population_2020',ascending=False)\n",
            "print(\"2020 10th largest population:\", msa_by_pop_2020_descend.loc[10, \"MSA\"])"
         ]
      },
      {
         "cell_type": "markdown",
         "id": "closing-dispute",
         "metadata": {},
         "source": [
            "Select the smallest 10 MSAs by 2020 Census population"
         ]
      },
      {
         "cell_type": "code",
         "execution_count": 81,
         "id": "viral-sample",
         "metadata": {},
         "outputs": [
            {
               "data": {
                  "text/html": [
                     "<div>\n",
                     "<style scoped>\n",
                     "    .dataframe tbody tr th:only-of-type {\n",
                     "        vertical-align: middle;\n",
                     "    }\n",
                     "\n",
                     "    .dataframe tbody tr th {\n",
                     "        vertical-align: top;\n",
                     "    }\n",
                     "\n",
                     "    .dataframe thead th {\n",
                     "        text-align: right;\n",
                     "    }\n",
                     "</style>\n",
                     "<table border=\"1\" class=\"dataframe\">\n",
                     "  <thead>\n",
                     "    <tr style=\"text-align: right;\">\n",
                     "      <th></th>\n",
                     "      <th>Rank</th>\n",
                     "      <th>MSA</th>\n",
                     "      <th>population_2021_est</th>\n",
                     "      <th>population_2020</th>\n",
                     "      <th>perc_change</th>\n",
                     "      <th>Encompassing_combined_statistical_area</th>\n",
                     "    </tr>\n",
                     "  </thead>\n",
                     "  <tbody>\n",
                     "    <tr>\n",
                     "      <th>387</th>\n",
                     "      <td>387</td>\n",
                     "      <td>Eagle Pass, TX</td>\n",
                     "      <td>57843.0</td>\n",
                     "      <td>57887.0</td>\n",
                     "      <td>−0.08%</td>\n",
                     "      <td>NaN</td>\n",
                     "    </tr>\n",
                     "    <tr>\n",
                     "      <th>386</th>\n",
                     "      <td>386</td>\n",
                     "      <td>Carson City, NV MSA</td>\n",
                     "      <td>58130.0</td>\n",
                     "      <td>58639.0</td>\n",
                     "      <td>−0.87%</td>\n",
                     "      <td>Reno–Carson City–Gardnerville Ranchos, NV-CA CSA</td>\n",
                     "    </tr>\n",
                     "    <tr>\n",
                     "      <th>385</th>\n",
                     "      <td>385</td>\n",
                     "      <td>Walla Walla, WA MSA</td>\n",
                     "      <td>61890.0</td>\n",
                     "      <td>62584.0</td>\n",
                     "      <td>−1.11%</td>\n",
                     "      <td>Kennewick–Richland-Walla Walla, WA CSA</td>\n",
                     "    </tr>\n",
                     "    <tr>\n",
                     "      <th>384</th>\n",
                     "      <td>384</td>\n",
                     "      <td>Enid, OK MSA</td>\n",
                     "      <td>61920.0</td>\n",
                     "      <td>62846.0</td>\n",
                     "      <td>−1.47%</td>\n",
                     "      <td>NaN</td>\n",
                     "    </tr>\n",
                     "    <tr>\n",
                     "      <th>383</th>\n",
                     "      <td>383</td>\n",
                     "      <td>Lewiston, ID-WA MSA</td>\n",
                     "      <td>65512.0</td>\n",
                     "      <td>64375.0</td>\n",
                     "      <td>+1.77%</td>\n",
                     "      <td>NaN</td>\n",
                     "    </tr>\n",
                     "    <tr>\n",
                     "      <th>381</th>\n",
                     "      <td>381</td>\n",
                     "      <td>Grand Island, NE MSA</td>\n",
                     "      <td>76333.0</td>\n",
                     "      <td>77038.0</td>\n",
                     "      <td>−0.92%</td>\n",
                     "      <td>NaN</td>\n",
                     "    </tr>\n",
                     "    <tr>\n",
                     "      <th>382</th>\n",
                     "      <td>382</td>\n",
                     "      <td>Minot, ND MSA</td>\n",
                     "      <td>76279.0</td>\n",
                     "      <td>77546.0</td>\n",
                     "      <td>−1.63%</td>\n",
                     "      <td>NaN</td>\n",
                     "    </tr>\n",
                     "    <tr>\n",
                     "      <th>380</th>\n",
                     "      <td>380</td>\n",
                     "      <td>Casper, WY MSA</td>\n",
                     "      <td>79601.0</td>\n",
                     "      <td>79955.0</td>\n",
                     "      <td>−0.44%</td>\n",
                     "      <td>NaN</td>\n",
                     "    </tr>\n",
                     "    <tr>\n",
                     "      <th>374</th>\n",
                     "      <td>374</td>\n",
                     "      <td>Hinesville, GA MSA</td>\n",
                     "      <td>86378.0</td>\n",
                     "      <td>81424.0</td>\n",
                     "      <td>+6.08%</td>\n",
                     "      <td>Savannah–Hinesville–Statesboro, GA CSA</td>\n",
                     "    </tr>\n",
                     "    <tr>\n",
                     "      <th>378</th>\n",
                     "      <td>378</td>\n",
                     "      <td>Columbus, IN MSA</td>\n",
                     "      <td>83540.0</td>\n",
                     "      <td>82208.0</td>\n",
                     "      <td>+1.62%</td>\n",
                     "      <td>Indianapolis–Carmel–Muncie, IN CSA</td>\n",
                     "    </tr>\n",
                     "  </tbody>\n",
                     "</table>\n",
                     "</div>"
                  ],
                  "text/plain": [
                     "     Rank                   MSA  population_2021_est  population_2020  \\\n",
                     "387   387        Eagle Pass, TX              57843.0          57887.0   \n",
                     "386   386   Carson City, NV MSA              58130.0          58639.0   \n",
                     "385   385   Walla Walla, WA MSA              61890.0          62584.0   \n",
                     "384   384          Enid, OK MSA              61920.0          62846.0   \n",
                     "383   383   Lewiston, ID-WA MSA              65512.0          64375.0   \n",
                     "381   381  Grand Island, NE MSA              76333.0          77038.0   \n",
                     "382   382         Minot, ND MSA              76279.0          77546.0   \n",
                     "380   380        Casper, WY MSA              79601.0          79955.0   \n",
                     "374   374    Hinesville, GA MSA              86378.0          81424.0   \n",
                     "378   378      Columbus, IN MSA              83540.0          82208.0   \n",
                     "\n",
                     "    perc_change            Encompassing_combined_statistical_area  \n",
                     "387      −0.08%                                               NaN  \n",
                     "386      −0.87%  Reno–Carson City–Gardnerville Ranchos, NV-CA CSA  \n",
                     "385      −1.11%            Kennewick–Richland-Walla Walla, WA CSA  \n",
                     "384      −1.47%                                               NaN  \n",
                     "383      +1.77%                                               NaN  \n",
                     "381      −0.92%                                               NaN  \n",
                     "382      −1.63%                                               NaN  \n",
                     "380      −0.44%                                               NaN  \n",
                     "374      +6.08%            Savannah–Hinesville–Statesboro, GA CSA  \n",
                     "378      +1.62%                Indianapolis–Carmel–Muncie, IN CSA  "
                  ]
               },
               "execution_count": 81,
               "metadata": {},
               "output_type": "execute_result"
            }
         ],
         "source": [
            "## Insert your code here\n",
            "msa_by_pop_2020_ascend=msa_by_pop.sort_values('population_2020')\n",
            "msa_by_pop_2020_ascend.iloc[0:10]"
         ]
      },
      {
         "cell_type": "markdown",
         "id": "respective-boulder",
         "metadata": {},
         "source": [
            "Find the total 2020 Census population of these 384 MSAs. "
         ]
      },
      {
         "cell_type": "code",
         "execution_count": 83,
         "id": "numerous-machine",
         "metadata": {},
         "outputs": [
            {
               "data": {
                  "text/plain": [
                     "285649602.0"
                  ]
               },
               "execution_count": 83,
               "metadata": {},
               "output_type": "execute_result"
            }
         ],
         "source": [
            "## Insert your code here\n",
            "msa_by_pop['population_2020'].sum()"
         ]
      },
      {
         "cell_type": "markdown",
         "id": "sharp-egyptian",
         "metadata": {},
         "source": [
            "Based on the population in 2020 and assuming a 2% population increase across all cities, let's estimate the population in 2022 using the following function: \n",
            "\n",
            "$$\n",
            "pop_{year2020+t} =pop_{year2020}*(1+ {\\% change})^t\n",
            "$$\n",
            "\n",
            "\n",
            "where  $\\% change$ is positive 2%. \n"
         ]
      },
      {
         "cell_type": "markdown",
         "id": "d5784a3d",
         "metadata": {},
         "source": [
            "First, what's t? "
         ]
      },
      {
         "cell_type": "code",
         "execution_count": null,
         "id": "roman-softball",
         "metadata": {},
         "outputs": [],
         "source": [
            "## Insert your code here\n",
            "t= 2"
         ]
      },
      {
         "cell_type": "markdown",
         "id": "stable-triangle",
         "metadata": {},
         "source": [
            "Now create another column called `population_2022_estimate` and estimate the 2022 population counts using the formula above. "
         ]
      },
      {
         "cell_type": "code",
         "execution_count": 84,
         "id": "legendary-lodge",
         "metadata": {},
         "outputs": [],
         "source": [
            "## Insert your code here\n",
            "msa_by_pop['population_2022_estimate']= msa_by_pop['population_2020']*(1+0.02)**2"
         ]
      },
      {
         "cell_type": "code",
         "execution_count": 85,
         "id": "dcfdcc65",
         "metadata": {},
         "outputs": [
            {
               "data": {
                  "text/html": [
                     "<div>\n",
                     "<style scoped>\n",
                     "    .dataframe tbody tr th:only-of-type {\n",
                     "        vertical-align: middle;\n",
                     "    }\n",
                     "\n",
                     "    .dataframe tbody tr th {\n",
                     "        vertical-align: top;\n",
                     "    }\n",
                     "\n",
                     "    .dataframe thead th {\n",
                     "        text-align: right;\n",
                     "    }\n",
                     "</style>\n",
                     "<table border=\"1\" class=\"dataframe\">\n",
                     "  <thead>\n",
                     "    <tr style=\"text-align: right;\">\n",
                     "      <th></th>\n",
                     "      <th>Rank</th>\n",
                     "      <th>MSA</th>\n",
                     "      <th>population_2021_est</th>\n",
                     "      <th>population_2020</th>\n",
                     "      <th>perc_change</th>\n",
                     "      <th>Encompassing_combined_statistical_area</th>\n",
                     "      <th>population_2022_estimate</th>\n",
                     "    </tr>\n",
                     "  </thead>\n",
                     "  <tbody>\n",
                     "    <tr>\n",
                     "      <th>1</th>\n",
                     "      <td>1</td>\n",
                     "      <td>New York–Newark–Jersey City, NY-NJ MSA</td>\n",
                     "      <td>19557311.0</td>\n",
                     "      <td>20081935.0</td>\n",
                     "      <td>−2.61%</td>\n",
                     "      <td>New York–Newark, NY-NJ-CT-PA CSA</td>\n",
                     "      <td>2.089325e+07</td>\n",
                     "    </tr>\n",
                     "    <tr>\n",
                     "      <th>2</th>\n",
                     "      <td>2</td>\n",
                     "      <td>Los Angeles–Long Beach–Anaheim, CA MSA</td>\n",
                     "      <td>12872322.0</td>\n",
                     "      <td>13200998.0</td>\n",
                     "      <td>−2.49%</td>\n",
                     "      <td>Los Angeles–Long Beach, CA CSA</td>\n",
                     "      <td>1.373432e+07</td>\n",
                     "    </tr>\n",
                     "    <tr>\n",
                     "      <th>3</th>\n",
                     "      <td>3</td>\n",
                     "      <td>Chicago–Naperville–Elgin, IL-IN MSA</td>\n",
                     "      <td>9274140.0</td>\n",
                     "      <td>9449351.0</td>\n",
                     "      <td>−1.85%</td>\n",
                     "      <td>Chicago–Naperville, IL-IN-WI CSA</td>\n",
                     "      <td>9.831105e+06</td>\n",
                     "    </tr>\n",
                     "    <tr>\n",
                     "      <th>4</th>\n",
                     "      <td>4</td>\n",
                     "      <td>Dallas–Fort Worth–Arlington, TX MSA</td>\n",
                     "      <td>7943685.0</td>\n",
                     "      <td>7637387.0</td>\n",
                     "      <td>+4.01%</td>\n",
                     "      <td>Dallas–Fort Worth, TX-OK CSA</td>\n",
                     "      <td>7.945937e+06</td>\n",
                     "    </tr>\n",
                     "    <tr>\n",
                     "      <th>5</th>\n",
                     "      <td>5</td>\n",
                     "      <td>Houston–Pasadena–The Woodlands, TX MSA</td>\n",
                     "      <td>7368466.0</td>\n",
                     "      <td>7149642.0</td>\n",
                     "      <td>+3.06%</td>\n",
                     "      <td>Houston–Pasadena, TX CSA</td>\n",
                     "      <td>7.438488e+06</td>\n",
                     "    </tr>\n",
                     "    <tr>\n",
                     "      <th>...</th>\n",
                     "      <td>...</td>\n",
                     "      <td>...</td>\n",
                     "      <td>...</td>\n",
                     "      <td>...</td>\n",
                     "      <td>...</td>\n",
                     "      <td>...</td>\n",
                     "      <td>...</td>\n",
                     "    </tr>\n",
                     "    <tr>\n",
                     "      <th>383</th>\n",
                     "      <td>383</td>\n",
                     "      <td>Lewiston, ID-WA MSA</td>\n",
                     "      <td>65512.0</td>\n",
                     "      <td>64375.0</td>\n",
                     "      <td>+1.77%</td>\n",
                     "      <td>NaN</td>\n",
                     "      <td>6.697575e+04</td>\n",
                     "    </tr>\n",
                     "    <tr>\n",
                     "      <th>384</th>\n",
                     "      <td>384</td>\n",
                     "      <td>Enid, OK MSA</td>\n",
                     "      <td>61920.0</td>\n",
                     "      <td>62846.0</td>\n",
                     "      <td>−1.47%</td>\n",
                     "      <td>NaN</td>\n",
                     "      <td>6.538498e+04</td>\n",
                     "    </tr>\n",
                     "    <tr>\n",
                     "      <th>385</th>\n",
                     "      <td>385</td>\n",
                     "      <td>Walla Walla, WA MSA</td>\n",
                     "      <td>61890.0</td>\n",
                     "      <td>62584.0</td>\n",
                     "      <td>−1.11%</td>\n",
                     "      <td>Kennewick–Richland-Walla Walla, WA CSA</td>\n",
                     "      <td>6.511239e+04</td>\n",
                     "    </tr>\n",
                     "    <tr>\n",
                     "      <th>386</th>\n",
                     "      <td>386</td>\n",
                     "      <td>Carson City, NV MSA</td>\n",
                     "      <td>58130.0</td>\n",
                     "      <td>58639.0</td>\n",
                     "      <td>−0.87%</td>\n",
                     "      <td>Reno–Carson City–Gardnerville Ranchos, NV-CA CSA</td>\n",
                     "      <td>6.100802e+04</td>\n",
                     "    </tr>\n",
                     "    <tr>\n",
                     "      <th>387</th>\n",
                     "      <td>387</td>\n",
                     "      <td>Eagle Pass, TX</td>\n",
                     "      <td>57843.0</td>\n",
                     "      <td>57887.0</td>\n",
                     "      <td>−0.08%</td>\n",
                     "      <td>NaN</td>\n",
                     "      <td>6.022563e+04</td>\n",
                     "    </tr>\n",
                     "  </tbody>\n",
                     "</table>\n",
                     "<p>387 rows × 7 columns</p>\n",
                     "</div>"
                  ],
                  "text/plain": [
                     "     Rank                                     MSA  population_2021_est  \\\n",
                     "1       1  New York–Newark–Jersey City, NY-NJ MSA           19557311.0   \n",
                     "2       2  Los Angeles–Long Beach–Anaheim, CA MSA           12872322.0   \n",
                     "3       3     Chicago–Naperville–Elgin, IL-IN MSA            9274140.0   \n",
                     "4       4     Dallas–Fort Worth–Arlington, TX MSA            7943685.0   \n",
                     "5       5  Houston–Pasadena–The Woodlands, TX MSA            7368466.0   \n",
                     "..    ...                                     ...                  ...   \n",
                     "383   383                     Lewiston, ID-WA MSA              65512.0   \n",
                     "384   384                            Enid, OK MSA              61920.0   \n",
                     "385   385                     Walla Walla, WA MSA              61890.0   \n",
                     "386   386                     Carson City, NV MSA              58130.0   \n",
                     "387   387                          Eagle Pass, TX              57843.0   \n",
                     "\n",
                     "     population_2020 perc_change  \\\n",
                     "1         20081935.0      −2.61%   \n",
                     "2         13200998.0      −2.49%   \n",
                     "3          9449351.0      −1.85%   \n",
                     "4          7637387.0      +4.01%   \n",
                     "5          7149642.0      +3.06%   \n",
                     "..               ...         ...   \n",
                     "383          64375.0      +1.77%   \n",
                     "384          62846.0      −1.47%   \n",
                     "385          62584.0      −1.11%   \n",
                     "386          58639.0      −0.87%   \n",
                     "387          57887.0      −0.08%   \n",
                     "\n",
                     "               Encompassing_combined_statistical_area  \\\n",
                     "1                    New York–Newark, NY-NJ-CT-PA CSA   \n",
                     "2                      Los Angeles–Long Beach, CA CSA   \n",
                     "3                    Chicago–Naperville, IL-IN-WI CSA   \n",
                     "4                        Dallas–Fort Worth, TX-OK CSA   \n",
                     "5                            Houston–Pasadena, TX CSA   \n",
                     "..                                                ...   \n",
                     "383                                               NaN   \n",
                     "384                                               NaN   \n",
                     "385            Kennewick–Richland-Walla Walla, WA CSA   \n",
                     "386  Reno–Carson City–Gardnerville Ranchos, NV-CA CSA   \n",
                     "387                                               NaN   \n",
                     "\n",
                     "     population_2022_estimate  \n",
                     "1                2.089325e+07  \n",
                     "2                1.373432e+07  \n",
                     "3                9.831105e+06  \n",
                     "4                7.945937e+06  \n",
                     "5                7.438488e+06  \n",
                     "..                        ...  \n",
                     "383              6.697575e+04  \n",
                     "384              6.538498e+04  \n",
                     "385              6.511239e+04  \n",
                     "386              6.100802e+04  \n",
                     "387              6.022563e+04  \n",
                     "\n",
                     "[387 rows x 7 columns]"
                  ]
               },
               "execution_count": 85,
               "metadata": {},
               "output_type": "execute_result"
            }
         ],
         "source": [
            "msa_by_pop"
         ]
      }
   ],
   "metadata": {
      "kernelspec": {
         "display_name": "Python 3 (ipykernel)",
         "language": "python",
         "name": "python3"
      },
      "language_info": {
         "codemirror_mode": {
            "name": "ipython",
            "version": 3
         },
         "file_extension": ".py",
         "mimetype": "text/x-python",
         "name": "python",
         "nbconvert_exporter": "python",
         "pygments_lexer": "ipython3",
         "version": "3.9.18"
      },
      "vscode": {
         "interpreter": {
            "hash": "cc571d7ca67236538d190807671ab3198970b7d67f23d825ad141ff90f68066a"
         }
      }
   },
   "nbformat": 4,
   "nbformat_minor": 5
}
