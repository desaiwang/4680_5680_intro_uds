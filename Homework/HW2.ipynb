{
 "cells": [
  {
   "cell_type": "markdown",
   "id": "homeless-heart",
   "metadata": {},
   "source": [
    "# HW 2\n",
    "In this homework assignment, **we are going to help Citibike determine where to place more stations across NYC**. \n",
    "\n",
    "The Citi Bike program in New York City is a bike-sharing initiative that provides residents and visitors with access to bicycles for short-term rentals. It was launched in New York City in May 2013, making it one of the oldest and most established bike-sharing programs in the United States. The program caters to a diverse range of users, including commuters, tourists, and residents of New York City. \n",
    "\n",
    "Citi Bike makes siting decisions based on a combination of factors, including **population density**, **transportation needs**, and **input from the community**. The program continually evaluates and adjusts the locations of its bike stations to meet the evolving demand for bike-sharing services. \n",
    "\n",
    "**For this exercise, we are going to consider a simplified version of these factors and help Citibike figure out 10 block groups to put new bike stations in.**\n",
    "\n",
    "\n",
    "#### Deliverables\n",
    "- This notebook, no need to zip"
   ]
  },
  {
   "cell_type": "markdown",
   "id": "65bd6c04",
   "metadata": {},
   "source": [
    "## Part 1: Gathering our data\n",
    "\n",
    "We've done the hard part for you! In this folder, you should find three new datasets \n",
    "- `bike_locations_dec2023.csv`\n",
    "- `nyc_cbg.zip`\n",
    "- `acs_race_cbg.csv`"
   ]
  },
  {
   "cell_type": "code",
   "execution_count": null,
   "id": "596c7946",
   "metadata": {},
   "outputs": [],
   "source": [
    "import pandas as pd\n",
    "import geopandas as gpd"
   ]
  },
  {
   "cell_type": "code",
   "execution_count": null,
   "id": "72ca184c",
   "metadata": {},
   "outputs": [],
   "source": [
    "bike_locations= pd.read_csv('bike_locations_dec2023.csv')"
   ]
  },
  {
   "cell_type": "code",
   "execution_count": null,
   "id": "9eebfea2",
   "metadata": {},
   "outputs": [],
   "source": [
    "bike_locations.head()"
   ]
  },
  {
   "cell_type": "markdown",
   "id": "37eaf1b6",
   "metadata": {},
   "source": [
    "Now turn the bike locations dataframe into a geodataframe (3 pts)"
   ]
  },
  {
   "cell_type": "code",
   "execution_count": null,
   "id": "9b4d100c",
   "metadata": {},
   "outputs": [],
   "source": [
    "# INSERT YOUR CODE HERE"
   ]
  },
  {
   "cell_type": "markdown",
   "id": "enormous-amber",
   "metadata": {},
   "source": [
    "Now calculate a 10 minute walk from the locations in meters and find the 10-min walk buffer for each station. Make sure to turn it into a geodataframe. (5 pts)"
   ]
  },
  {
   "cell_type": "code",
   "execution_count": null,
   "id": "7c471659",
   "metadata": {},
   "outputs": [],
   "source": [
    "# INSERT YOUR CODE HERE"
   ]
  },
  {
   "cell_type": "markdown",
   "id": "64b58ae3",
   "metadata": {},
   "source": [
    "Plot the data (1 pt)"
   ]
  },
  {
   "cell_type": "code",
   "execution_count": null,
   "id": "e9f9a8ba",
   "metadata": {},
   "outputs": [],
   "source": [
    "# INSERT YOUR CODE HERE"
   ]
  },
  {
   "cell_type": "markdown",
   "id": "f4f016ca",
   "metadata": {},
   "source": [
    "Now read in the block group geometries, which are in the `nyc_cbg` zip file (1pt)"
   ]
  },
  {
   "cell_type": "code",
   "execution_count": null,
   "id": "bb2e2494",
   "metadata": {},
   "outputs": [],
   "source": [
    "# INSERT YOUR CODE HERE"
   ]
  },
  {
   "cell_type": "markdown",
   "id": "3def10e3",
   "metadata": {},
   "source": [
    "And read in the block group attribute tables (1pt)"
   ]
  },
  {
   "cell_type": "code",
   "execution_count": null,
   "id": "c50fbaa9",
   "metadata": {},
   "outputs": [],
   "source": [
    "# INSERT YOUR CODE HERE"
   ]
  },
  {
   "cell_type": "markdown",
   "id": "37e603ac",
   "metadata": {},
   "source": [
    "Create a column in your block group geometries geodataframe called `area`, which will have the area of each Block Group (1 pt)"
   ]
  },
  {
   "cell_type": "code",
   "execution_count": null,
   "id": "fae619b6",
   "metadata": {},
   "outputs": [],
   "source": [
    "# INSERT YOUR CODE HERE"
   ]
  },
  {
   "cell_type": "markdown",
   "id": "2f200349",
   "metadata": {},
   "source": [
    "Replace the `NaN` values with 0 (1 pt)"
   ]
  },
  {
   "cell_type": "code",
   "execution_count": null,
   "id": "2022f717",
   "metadata": {},
   "outputs": [],
   "source": [
    "# INSERT YOUR CODE HERE"
   ]
  },
  {
   "cell_type": "markdown",
   "id": "e6b6be1d",
   "metadata": {},
   "source": [
    "Merge the attribute data with the geometries. "
   ]
  },
  {
   "cell_type": "code",
   "execution_count": null,
   "id": "d4c02dc0",
   "metadata": {},
   "outputs": [],
   "source": [
    "# INSERT YOUR CODE HERE"
   ]
  },
  {
   "cell_type": "markdown",
   "id": "75d9cd31",
   "metadata": {},
   "source": [
    "How many rows do you have in your new merged dataframe and how many row did you have originally in the geometry dataframe? (1pt)"
   ]
  },
  {
   "cell_type": "code",
   "execution_count": null,
   "id": "59cca456",
   "metadata": {},
   "outputs": [],
   "source": [
    "# INSERT YOUR CODE HERE"
   ]
  },
  {
   "cell_type": "code",
   "execution_count": null,
   "id": "d56393ce",
   "metadata": {},
   "outputs": [],
   "source": [
    "# INSERT YOUR CODE HERE"
   ]
  },
  {
   "cell_type": "markdown",
   "id": "934d9916",
   "metadata": {},
   "source": [
    "## Part 2 - Analysis\n",
    "Now, Citi Bike says then can put 10 new stations across 10 different block groups not currently within walking distance to a station. \n",
    "\n",
    "\n",
    "Here are the factors important to them (in no order): \n",
    "- **Proportion of block group not covered** (for ex: if a bg is 90% not covered by 10% not covered, they will prioritize the 90%)\n",
    "- **Population density**: They would rather put a station in a block group that has more people per block\n",
    "- **Proximity to the city center**: They know that many people use Citibike to get to work, so they would prefer for these stations to be as close to downtown Manhanttan as possible\n",
    "- **Equity**: They hope to put these stations where the proportion of non-White residents is high. "
   ]
  },
  {
   "cell_type": "markdown",
   "id": "6011790e",
   "metadata": {},
   "source": [
    "First, create a new dataframe of Census block groups not covered by the Citi bike walking buffers. Make sure to check your CRSs. (5pts)"
   ]
  },
  {
   "cell_type": "code",
   "execution_count": null,
   "id": "32e1f877",
   "metadata": {},
   "outputs": [],
   "source": [
    "# INSERT YOUR CODE HERE"
   ]
  },
  {
   "cell_type": "markdown",
   "id": "537abbeb",
   "metadata": {},
   "source": [
    "How many block groups are not covered? (1 pt)"
   ]
  },
  {
   "cell_type": "code",
   "execution_count": null,
   "id": "9bb96422",
   "metadata": {},
   "outputs": [],
   "source": [
    "# INSERT YOUR CODE HERE"
   ]
  },
  {
   "cell_type": "markdown",
   "id": "da265026",
   "metadata": {},
   "source": [
    "Now, let's create the proportion of the block group that hasn't been covered (3 pts)"
   ]
  },
  {
   "cell_type": "code",
   "execution_count": null,
   "id": "c0936e1b",
   "metadata": {},
   "outputs": [],
   "source": [
    "# INSERT YOUR CODE HERE"
   ]
  },
  {
   "cell_type": "markdown",
   "id": "3ac5c716",
   "metadata": {},
   "source": [
    "Next, let's calculate distance from each centroid of the not covered block groups to Manhattan city center. \n",
    "\n",
    "First, what's our current CRS? Let's convert our uncovered block group geodataframe CRS to 3857. (1 pt)"
   ]
  },
  {
   "cell_type": "code",
   "execution_count": null,
   "id": "52bfaee4",
   "metadata": {},
   "outputs": [],
   "source": [
    "# INSERT YOUR CODE HERE"
   ]
  },
  {
   "cell_type": "markdown",
   "id": "3e004089",
   "metadata": {},
   "source": [
    "Next we want to find the distance between each block group and downtown Manhttan. \n",
    "\n",
    "Using chatgpt, find the lat/lng for Downtown Manhattan in EPSG: 3857. Was it correct? (2 pts) By correct, I don't mean whether the location in the city was correct (you can use anywhere below Central Park as \"downtown\"), but whether the format and CRS were correct. "
   ]
  },
  {
   "cell_type": "markdown",
   "id": "92148979",
   "metadata": {},
   "source": [
    "INSERT YOUR TEXT HERE"
   ]
  },
  {
   "cell_type": "markdown",
   "id": "659ce733",
   "metadata": {},
   "source": [
    "Create a geodataframe with one point in Downtown Manhattan with a 3857 CRS (5 pts)"
   ]
  },
  {
   "cell_type": "code",
   "execution_count": null,
   "id": "62e5e7a3",
   "metadata": {},
   "outputs": [],
   "source": [
    "# INSERT YOUR CODE HERE"
   ]
  },
  {
   "cell_type": "markdown",
   "id": "58cde73e",
   "metadata": {},
   "source": [
    "Find the distance between this point and all uncovered block groups (3 pts)"
   ]
  },
  {
   "cell_type": "code",
   "execution_count": null,
   "id": "6b536b45",
   "metadata": {},
   "outputs": [],
   "source": [
    "# INSERT YOUR CODE HERE"
   ]
  },
  {
   "cell_type": "markdown",
   "id": "74ca7d25",
   "metadata": {},
   "source": [
    "We already know the population density."
   ]
  },
  {
   "cell_type": "markdown",
   "id": "4ee8b2b2",
   "metadata": {},
   "source": [
    "Lastly, find the percent non-white residents in each block group (3 pts)"
   ]
  },
  {
   "cell_type": "code",
   "execution_count": null,
   "id": "b67414dd",
   "metadata": {},
   "outputs": [],
   "source": [
    "# INSERT YOUR CODE HERE"
   ]
  },
  {
   "cell_type": "markdown",
   "id": "fcef2fc2",
   "metadata": {},
   "source": [
    "Lastly, create you own method of finding your top 10 block groups based on these criteria. You must you all four criteria from above. Please explain how you decided on your method and which criteria to prioritize. (10 pts) \n",
    "\n",
    "Here are some ideas: \n",
    "- You can create a threshold for each column and find the 10 block groups that fulfill all criteria (for ex: `perc_non_white` has to be greater than 50%, etc etc)\n",
    "- You can create a score that combines all four criteria in some way. \n",
    "\n"
   ]
  },
  {
   "cell_type": "code",
   "execution_count": null,
   "id": "eb6d1e0f",
   "metadata": {},
   "outputs": [],
   "source": [
    "# INSERT YOUR CODE HERE"
   ]
  }
 ],
 "metadata": {
  "kernelspec": {
   "display_name": "Python 3",
   "language": "python",
   "name": "python3"
  },
  "language_info": {
   "codemirror_mode": {
    "name": "ipython",
    "version": 3
   },
   "file_extension": ".py",
   "mimetype": "text/x-python",
   "name": "python",
   "nbconvert_exporter": "python",
   "pygments_lexer": "ipython3",
   "version": "3.9.13"
  },
  "vscode": {
   "interpreter": {
    "hash": "cc571d7ca67236538d190807671ab3198970b7d67f23d825ad141ff90f68066a"
   }
  }
 },
 "nbformat": 4,
 "nbformat_minor": 5
}
