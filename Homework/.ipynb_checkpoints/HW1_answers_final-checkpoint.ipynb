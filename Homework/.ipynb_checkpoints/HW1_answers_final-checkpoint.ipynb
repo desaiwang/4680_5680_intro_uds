{
 "cells": [
  {
   "cell_type": "markdown",
   "id": "european-halloween",
   "metadata": {},
   "source": [
    "# Homework 1\n",
    "\n",
    "In this homework set, we will practice using pandas to clean and prep our data. "
   ]
  },
  {
   "cell_type": "code",
   "execution_count": 3,
   "id": "agreed-ridge",
   "metadata": {},
   "outputs": [],
   "source": [
    "# We are going to start importing the libraries we need\n",
    "# all in one cell. \n",
    "\n",
    "# It is a good practice to keep all the imports in one cell so that\n",
    "# we can easily see what libraries we are using in the notebook.\n",
    "import pandas as pd\n",
    "\n",
    "## There is no need to import libraries more than once!"
   ]
  },
  {
   "cell_type": "markdown",
   "id": "0c3ffcf1",
   "metadata": {},
   "source": [
    "# Household Income and Home Value in NYC\n",
    "In this exercise, you are going to investigate the relationship between household income and home values in New York City. \n",
    "\n",
    "You are given the dataset `acs_nyc.csv`, which was extracted from the IPUMS NHGIS portal. \n"
   ]
  },
  {
   "cell_type": "markdown",
   "id": "e2af11bb",
   "metadata": {},
   "source": [
    "# Data Loading and Initial Exploration"
   ]
  },
  {
   "cell_type": "code",
   "execution_count": 4,
   "id": "fifth-shepherd",
   "metadata": {},
   "outputs": [],
   "source": [
    "acs_nyc = pd.read_csv('acs_nyc.csv')"
   ]
  },
  {
   "cell_type": "markdown",
   "id": "b582bd4f",
   "metadata": {},
   "source": [
    "Display the first 12 rows of the data. (1 pt)"
   ]
  },
  {
   "cell_type": "code",
   "execution_count": 5,
   "id": "156f83b5",
   "metadata": {},
   "outputs": [],
   "source": [
    "## INSERT YOUR CODE HERE"
   ]
  },
  {
   "cell_type": "code",
   "execution_count": 6,
   "id": "35c0f5ea",
   "metadata": {},
   "outputs": [
    {
     "data": {
      "text/html": [
       "<div>\n",
       "<style scoped>\n",
       "    .dataframe tbody tr th:only-of-type {\n",
       "        vertical-align: middle;\n",
       "    }\n",
       "\n",
       "    .dataframe tbody tr th {\n",
       "        vertical-align: top;\n",
       "    }\n",
       "\n",
       "    .dataframe thead th {\n",
       "        text-align: right;\n",
       "    }\n",
       "</style>\n",
       "<table border=\"1\" class=\"dataframe\">\n",
       "  <thead>\n",
       "    <tr style=\"text-align: right;\">\n",
       "      <th></th>\n",
       "      <th>FIPS</th>\n",
       "      <th>hh_income</th>\n",
       "      <th>house_value</th>\n",
       "    </tr>\n",
       "  </thead>\n",
       "  <tbody>\n",
       "    <tr>\n",
       "      <th>0</th>\n",
       "      <td>36005000100</td>\n",
       "      <td>NaN</td>\n",
       "      <td>NaN</td>\n",
       "    </tr>\n",
       "    <tr>\n",
       "      <th>1</th>\n",
       "      <td>36005000200</td>\n",
       "      <td>70867.0</td>\n",
       "      <td>457300.0</td>\n",
       "    </tr>\n",
       "    <tr>\n",
       "      <th>2</th>\n",
       "      <td>36005000400</td>\n",
       "      <td>98090.0</td>\n",
       "      <td>456100.0</td>\n",
       "    </tr>\n",
       "    <tr>\n",
       "      <th>3</th>\n",
       "      <td>36005001600</td>\n",
       "      <td>40033.0</td>\n",
       "      <td>587600.0</td>\n",
       "    </tr>\n",
       "    <tr>\n",
       "      <th>4</th>\n",
       "      <td>36005001901</td>\n",
       "      <td>55924.0</td>\n",
       "      <td>NaN</td>\n",
       "    </tr>\n",
       "    <tr>\n",
       "      <th>5</th>\n",
       "      <td>36005001902</td>\n",
       "      <td>60804.0</td>\n",
       "      <td>425600.0</td>\n",
       "    </tr>\n",
       "    <tr>\n",
       "      <th>6</th>\n",
       "      <td>36005001903</td>\n",
       "      <td>NaN</td>\n",
       "      <td>NaN</td>\n",
       "    </tr>\n",
       "    <tr>\n",
       "      <th>7</th>\n",
       "      <td>36005001904</td>\n",
       "      <td>NaN</td>\n",
       "      <td>NaN</td>\n",
       "    </tr>\n",
       "    <tr>\n",
       "      <th>8</th>\n",
       "      <td>36005002001</td>\n",
       "      <td>20870.0</td>\n",
       "      <td>NaN</td>\n",
       "    </tr>\n",
       "    <tr>\n",
       "      <th>9</th>\n",
       "      <td>36005002002</td>\n",
       "      <td>NaN</td>\n",
       "      <td>441800.0</td>\n",
       "    </tr>\n",
       "    <tr>\n",
       "      <th>10</th>\n",
       "      <td>36005002300</td>\n",
       "      <td>22177.0</td>\n",
       "      <td>NaN</td>\n",
       "    </tr>\n",
       "    <tr>\n",
       "      <th>11</th>\n",
       "      <td>36005002400</td>\n",
       "      <td>NaN</td>\n",
       "      <td>NaN</td>\n",
       "    </tr>\n",
       "  </tbody>\n",
       "</table>\n",
       "</div>"
      ],
      "text/plain": [
       "           FIPS  hh_income  house_value\n",
       "0   36005000100        NaN          NaN\n",
       "1   36005000200    70867.0     457300.0\n",
       "2   36005000400    98090.0     456100.0\n",
       "3   36005001600    40033.0     587600.0\n",
       "4   36005001901    55924.0          NaN\n",
       "5   36005001902    60804.0     425600.0\n",
       "6   36005001903        NaN          NaN\n",
       "7   36005001904        NaN          NaN\n",
       "8   36005002001    20870.0          NaN\n",
       "9   36005002002        NaN     441800.0\n",
       "10  36005002300    22177.0          NaN\n",
       "11  36005002400        NaN          NaN"
      ]
     },
     "execution_count": 6,
     "metadata": {},
     "output_type": "execute_result"
    }
   ],
   "source": [
    "## ANSWER\n",
    "acs_nyc.head(12)"
   ]
  },
  {
   "cell_type": "markdown",
   "id": "96bc0bcd",
   "metadata": {},
   "source": [
    "How many rows and how many columns are in the data? (1pt)"
   ]
  },
  {
   "cell_type": "code",
   "execution_count": 7,
   "id": "44d86ac7",
   "metadata": {},
   "outputs": [],
   "source": [
    "## INSERT YOUR CODE HERE"
   ]
  },
  {
   "cell_type": "code",
   "execution_count": 8,
   "id": "af8d207b",
   "metadata": {},
   "outputs": [
    {
     "data": {
      "text/plain": [
       "(2327, 3)"
      ]
     },
     "execution_count": 8,
     "metadata": {},
     "output_type": "execute_result"
    }
   ],
   "source": [
    "acs_nyc.shape"
   ]
  },
  {
   "cell_type": "markdown",
   "id": "7dde655a",
   "metadata": {},
   "source": [
    "What are the datatypes for each column? (1pt)"
   ]
  },
  {
   "cell_type": "code",
   "execution_count": 9,
   "id": "76611508",
   "metadata": {},
   "outputs": [],
   "source": [
    "## INSERT YOUR CODE HERE"
   ]
  },
  {
   "cell_type": "code",
   "execution_count": 10,
   "id": "ad670397",
   "metadata": {},
   "outputs": [
    {
     "data": {
      "text/plain": [
       "FIPS             int64\n",
       "hh_income      float64\n",
       "house_value    float64\n",
       "dtype: object"
      ]
     },
     "execution_count": 10,
     "metadata": {},
     "output_type": "execute_result"
    }
   ],
   "source": [
    "acs_nyc.dtypes"
   ]
  },
  {
   "cell_type": "markdown",
   "id": "217e1441",
   "metadata": {},
   "source": [
    "Using one function, display the 25th, 50th, 75th percentiles, mean, min, max, count, and standard deviations for the `hh_income` and `house_value` columns. (1 pt)"
   ]
  },
  {
   "cell_type": "code",
   "execution_count": 11,
   "id": "2c41b6e0",
   "metadata": {},
   "outputs": [],
   "source": [
    "## INSERT YOUR CODE HERE"
   ]
  },
  {
   "cell_type": "code",
   "execution_count": 12,
   "id": "0313ebd6",
   "metadata": {},
   "outputs": [
    {
     "data": {
      "text/html": [
       "<div>\n",
       "<style scoped>\n",
       "    .dataframe tbody tr th:only-of-type {\n",
       "        vertical-align: middle;\n",
       "    }\n",
       "\n",
       "    .dataframe tbody tr th {\n",
       "        vertical-align: top;\n",
       "    }\n",
       "\n",
       "    .dataframe thead th {\n",
       "        text-align: right;\n",
       "    }\n",
       "</style>\n",
       "<table border=\"1\" class=\"dataframe\">\n",
       "  <thead>\n",
       "    <tr style=\"text-align: right;\">\n",
       "      <th></th>\n",
       "      <th>FIPS</th>\n",
       "      <th>hh_income</th>\n",
       "      <th>house_value</th>\n",
       "    </tr>\n",
       "  </thead>\n",
       "  <tbody>\n",
       "    <tr>\n",
       "      <th>count</th>\n",
       "      <td>2.327000e+03</td>\n",
       "      <td>2196.000000</td>\n",
       "      <td>1.966000e+03</td>\n",
       "    </tr>\n",
       "    <tr>\n",
       "      <th>mean</th>\n",
       "      <td>3.605504e+10</td>\n",
       "      <td>78730.628871</td>\n",
       "      <td>7.599776e+05</td>\n",
       "    </tr>\n",
       "    <tr>\n",
       "      <th>std</th>\n",
       "      <td>2.597624e+07</td>\n",
       "      <td>38669.599532</td>\n",
       "      <td>3.642487e+05</td>\n",
       "    </tr>\n",
       "    <tr>\n",
       "      <th>min</th>\n",
       "      <td>3.600500e+10</td>\n",
       "      <td>11988.000000</td>\n",
       "      <td>9.999000e+03</td>\n",
       "    </tr>\n",
       "    <tr>\n",
       "      <th>25%</th>\n",
       "      <td>3.604703e+10</td>\n",
       "      <td>53277.250000</td>\n",
       "      <td>5.306750e+05</td>\n",
       "    </tr>\n",
       "    <tr>\n",
       "      <th>50%</th>\n",
       "      <td>3.604715e+10</td>\n",
       "      <td>73199.500000</td>\n",
       "      <td>6.646000e+05</td>\n",
       "    </tr>\n",
       "    <tr>\n",
       "      <th>75%</th>\n",
       "      <td>3.608104e+10</td>\n",
       "      <td>96989.000000</td>\n",
       "      <td>9.087250e+05</td>\n",
       "    </tr>\n",
       "    <tr>\n",
       "      <th>max</th>\n",
       "      <td>3.608599e+10</td>\n",
       "      <td>250001.000000</td>\n",
       "      <td>2.000001e+06</td>\n",
       "    </tr>\n",
       "  </tbody>\n",
       "</table>\n",
       "</div>"
      ],
      "text/plain": [
       "               FIPS      hh_income   house_value\n",
       "count  2.327000e+03    2196.000000  1.966000e+03\n",
       "mean   3.605504e+10   78730.628871  7.599776e+05\n",
       "std    2.597624e+07   38669.599532  3.642487e+05\n",
       "min    3.600500e+10   11988.000000  9.999000e+03\n",
       "25%    3.604703e+10   53277.250000  5.306750e+05\n",
       "50%    3.604715e+10   73199.500000  6.646000e+05\n",
       "75%    3.608104e+10   96989.000000  9.087250e+05\n",
       "max    3.608599e+10  250001.000000  2.000001e+06"
      ]
     },
     "execution_count": 12,
     "metadata": {},
     "output_type": "execute_result"
    }
   ],
   "source": [
    "acs_nyc.describe()"
   ]
  },
  {
   "cell_type": "markdown",
   "id": "collected-control",
   "metadata": {},
   "source": [
    "# Data Manipulation\n",
    "The FIPS code is a unique identifier for each administrative unit in the US. This is how to read a FIPS code. The number of digits in your `FIPS` columns corresponds to whether each row is a state, county, tract, or block. \n",
    "\n",
    "![This is how to read a FIPS code](https://customer.precisely.com/servlet/rtaImage?eid=ka0Vu0000000qGs&feoid=00N6g00000TynF6&refid=0EM6g0000010wuS)\n",
    "\n"
   ]
  },
  {
   "cell_type": "markdown",
   "id": "34c00e4e",
   "metadata": {},
   "source": [
    "1. What administrative unit is our dataset, based on how many FIPS digits in the `FIPS` column? (1 pt)\n",
    "\n",
    "You can write your answer in this cell. "
   ]
  },
  {
   "cell_type": "raw",
   "id": "4a403251-55b8-46de-89cd-3f2929c23069",
   "metadata": {},
   "source": [
    "##ANSWER\n",
    "TRACTS"
   ]
  },
  {
   "cell_type": "markdown",
   "id": "0a724995",
   "metadata": {},
   "source": [
    "2. Using the FIPS code, create the following columns: (5 pts)\n",
    "- State\n",
    "- County: \n",
    "    - Bronx County: 36005\n",
    "    - Brooklyn County: 36047\n",
    "    - Manhattan County: 36061\n",
    "    - Queens County: 36081\n",
    "    - Staten Island: 36085\n",
    "- Tract_ID"
   ]
  },
  {
   "cell_type": "code",
   "execution_count": 13,
   "id": "c5d03b05",
   "metadata": {},
   "outputs": [],
   "source": [
    "## INSERT YOUR CODE HERE"
   ]
  },
  {
   "cell_type": "code",
   "execution_count": 14,
   "id": "23f3a3be",
   "metadata": {},
   "outputs": [],
   "source": [
    "## ANSWER\n",
    "acs_nyc['State'] = 'NY'\n",
    "acs_nyc['FIPS'] = acs_nyc['FIPS'].astype(str)\n",
    "\n",
    "acs_nyc['County'] = 'Bronx'\n",
    "acs_nyc.loc[(acs_nyc['FIPS'].str.contains('36005')), 'County'] = 'Bronx'\n",
    "acs_nyc.loc[(acs_nyc['FIPS'].str.contains('36047')), 'County'] = 'Brooklyn'\n",
    "acs_nyc.loc[(acs_nyc['FIPS'].str.contains('36061')), 'County'] = 'Manhattan'\n",
    "acs_nyc.loc[(acs_nyc['FIPS'].str.contains('36081')), 'County'] = 'Queens'\n",
    "acs_nyc.loc[(acs_nyc['FIPS'].str.contains('36085')), 'County'] = 'Staten Island'\n",
    "\n",
    "acs_nyc['Tract_ID'] = acs_nyc['FIPS'].str[-6:]"
   ]
  },
  {
   "cell_type": "markdown",
   "id": "b186605d",
   "metadata": {},
   "source": [
    "3. Check for null values in the `hh_income` and `house_value` columns. Remove any rows with both hh_income and house_value missing. With the rest of the missing values, replace missing values in these columns with the mean value of their respective columns. (5 pts)"
   ]
  },
  {
   "cell_type": "code",
   "execution_count": 15,
   "id": "a4c8db06",
   "metadata": {},
   "outputs": [],
   "source": [
    "## INSERT YOUR CODE HERE"
   ]
  },
  {
   "cell_type": "code",
   "execution_count": 20,
   "id": "a246b21b",
   "metadata": {},
   "outputs": [
    {
     "data": {
      "text/html": [
       "<div>\n",
       "<style scoped>\n",
       "    .dataframe tbody tr th:only-of-type {\n",
       "        vertical-align: middle;\n",
       "    }\n",
       "\n",
       "    .dataframe tbody tr th {\n",
       "        vertical-align: top;\n",
       "    }\n",
       "\n",
       "    .dataframe thead th {\n",
       "        text-align: right;\n",
       "    }\n",
       "</style>\n",
       "<table border=\"1\" class=\"dataframe\">\n",
       "  <thead>\n",
       "    <tr style=\"text-align: right;\">\n",
       "      <th></th>\n",
       "      <th>FIPS</th>\n",
       "      <th>hh_income</th>\n",
       "      <th>house_value</th>\n",
       "      <th>State</th>\n",
       "      <th>County</th>\n",
       "      <th>Tract_ID</th>\n",
       "    </tr>\n",
       "  </thead>\n",
       "  <tbody>\n",
       "    <tr>\n",
       "      <th>0</th>\n",
       "      <td>36005000200</td>\n",
       "      <td>70867.000000</td>\n",
       "      <td>457300.00000</td>\n",
       "      <td>NY</td>\n",
       "      <td>Bronx</td>\n",
       "      <td>000200</td>\n",
       "    </tr>\n",
       "    <tr>\n",
       "      <th>1</th>\n",
       "      <td>36005000400</td>\n",
       "      <td>98090.000000</td>\n",
       "      <td>456100.00000</td>\n",
       "      <td>NY</td>\n",
       "      <td>Bronx</td>\n",
       "      <td>000400</td>\n",
       "    </tr>\n",
       "    <tr>\n",
       "      <th>2</th>\n",
       "      <td>36005001600</td>\n",
       "      <td>40033.000000</td>\n",
       "      <td>587600.00000</td>\n",
       "      <td>NY</td>\n",
       "      <td>Bronx</td>\n",
       "      <td>001600</td>\n",
       "    </tr>\n",
       "    <tr>\n",
       "      <th>3</th>\n",
       "      <td>36005001901</td>\n",
       "      <td>55924.000000</td>\n",
       "      <td>759977.64649</td>\n",
       "      <td>NY</td>\n",
       "      <td>Bronx</td>\n",
       "      <td>001901</td>\n",
       "    </tr>\n",
       "    <tr>\n",
       "      <th>4</th>\n",
       "      <td>36005001902</td>\n",
       "      <td>60804.000000</td>\n",
       "      <td>425600.00000</td>\n",
       "      <td>NY</td>\n",
       "      <td>Bronx</td>\n",
       "      <td>001902</td>\n",
       "    </tr>\n",
       "    <tr>\n",
       "      <th>...</th>\n",
       "      <td>...</td>\n",
       "      <td>...</td>\n",
       "      <td>...</td>\n",
       "      <td>...</td>\n",
       "      <td>...</td>\n",
       "      <td>...</td>\n",
       "    </tr>\n",
       "    <tr>\n",
       "      <th>2207</th>\n",
       "      <td>36085030301</td>\n",
       "      <td>95913.000000</td>\n",
       "      <td>457600.00000</td>\n",
       "      <td>NY</td>\n",
       "      <td>Staten Island</td>\n",
       "      <td>030301</td>\n",
       "    </tr>\n",
       "    <tr>\n",
       "      <th>2208</th>\n",
       "      <td>36085030302</td>\n",
       "      <td>85842.000000</td>\n",
       "      <td>420500.00000</td>\n",
       "      <td>NY</td>\n",
       "      <td>Staten Island</td>\n",
       "      <td>030302</td>\n",
       "    </tr>\n",
       "    <tr>\n",
       "      <th>2209</th>\n",
       "      <td>36085031901</td>\n",
       "      <td>78730.628871</td>\n",
       "      <td>288300.00000</td>\n",
       "      <td>NY</td>\n",
       "      <td>Staten Island</td>\n",
       "      <td>031901</td>\n",
       "    </tr>\n",
       "    <tr>\n",
       "      <th>2210</th>\n",
       "      <td>36085031902</td>\n",
       "      <td>76066.000000</td>\n",
       "      <td>381600.00000</td>\n",
       "      <td>NY</td>\n",
       "      <td>Staten Island</td>\n",
       "      <td>031902</td>\n",
       "    </tr>\n",
       "    <tr>\n",
       "      <th>2211</th>\n",
       "      <td>36085032300</td>\n",
       "      <td>86471.000000</td>\n",
       "      <td>237100.00000</td>\n",
       "      <td>NY</td>\n",
       "      <td>Staten Island</td>\n",
       "      <td>032300</td>\n",
       "    </tr>\n",
       "  </tbody>\n",
       "</table>\n",
       "<p>2212 rows × 6 columns</p>\n",
       "</div>"
      ],
      "text/plain": [
       "             FIPS     hh_income   house_value State         County Tract_ID\n",
       "0     36005000200  70867.000000  457300.00000    NY          Bronx   000200\n",
       "1     36005000400  98090.000000  456100.00000    NY          Bronx   000400\n",
       "2     36005001600  40033.000000  587600.00000    NY          Bronx   001600\n",
       "3     36005001901  55924.000000  759977.64649    NY          Bronx   001901\n",
       "4     36005001902  60804.000000  425600.00000    NY          Bronx   001902\n",
       "...           ...           ...           ...   ...            ...      ...\n",
       "2207  36085030301  95913.000000  457600.00000    NY  Staten Island   030301\n",
       "2208  36085030302  85842.000000  420500.00000    NY  Staten Island   030302\n",
       "2209  36085031901  78730.628871  288300.00000    NY  Staten Island   031901\n",
       "2210  36085031902  76066.000000  381600.00000    NY  Staten Island   031902\n",
       "2211  36085032300  86471.000000  237100.00000    NY  Staten Island   032300\n",
       "\n",
       "[2212 rows x 6 columns]"
      ]
     },
     "execution_count": 20,
     "metadata": {},
     "output_type": "execute_result"
    }
   ],
   "source": [
    "acs_nyc_new = acs_nyc[(acs_nyc.hh_income.isna()==False)| (acs_nyc.house_value.isna()==False)]\n",
    "acs_nyc_new.loc[acs_nyc_new['hh_income'].isna(), 'hh_income'] = acs_nyc_new['hh_income'].mean()\n",
    "acs_nyc_new.loc[acs_nyc_new['house_value'].isna(), 'house_value'] = acs_nyc_new['house_value'].mean()\n",
    "acs_nyc_new = acs_nyc_new.reset_index(drop=True) #to reset the index of a DataFrame\n",
    "acs_nyc_new"
   ]
  },
  {
   "cell_type": "markdown",
   "id": "8bef7b85",
   "metadata": {},
   "source": [
    "Verify that there are no more null values in these columns. (1 pt)"
   ]
  },
  {
   "cell_type": "code",
   "execution_count": 21,
   "id": "fde8ed2f",
   "metadata": {},
   "outputs": [],
   "source": [
    "## INSERT YOUR CODE HERE"
   ]
  },
  {
   "cell_type": "code",
   "execution_count": 22,
   "id": "4429d21c",
   "metadata": {},
   "outputs": [
    {
     "data": {
      "text/html": [
       "<div>\n",
       "<style scoped>\n",
       "    .dataframe tbody tr th:only-of-type {\n",
       "        vertical-align: middle;\n",
       "    }\n",
       "\n",
       "    .dataframe tbody tr th {\n",
       "        vertical-align: top;\n",
       "    }\n",
       "\n",
       "    .dataframe thead th {\n",
       "        text-align: right;\n",
       "    }\n",
       "</style>\n",
       "<table border=\"1\" class=\"dataframe\">\n",
       "  <thead>\n",
       "    <tr style=\"text-align: right;\">\n",
       "      <th></th>\n",
       "      <th>FIPS</th>\n",
       "      <th>hh_income</th>\n",
       "      <th>house_value</th>\n",
       "      <th>State</th>\n",
       "      <th>County</th>\n",
       "      <th>Tract_ID</th>\n",
       "    </tr>\n",
       "  </thead>\n",
       "  <tbody>\n",
       "  </tbody>\n",
       "</table>\n",
       "</div>"
      ],
      "text/plain": [
       "Empty DataFrame\n",
       "Columns: [FIPS, hh_income, house_value, State, County, Tract_ID]\n",
       "Index: []"
      ]
     },
     "execution_count": 22,
     "metadata": {},
     "output_type": "execute_result"
    }
   ],
   "source": [
    "acs_nyc_new[acs_nyc_new['hh_income'].isna()]"
   ]
  },
  {
   "cell_type": "code",
   "execution_count": 23,
   "id": "d28693bb",
   "metadata": {},
   "outputs": [
    {
     "data": {
      "text/html": [
       "<div>\n",
       "<style scoped>\n",
       "    .dataframe tbody tr th:only-of-type {\n",
       "        vertical-align: middle;\n",
       "    }\n",
       "\n",
       "    .dataframe tbody tr th {\n",
       "        vertical-align: top;\n",
       "    }\n",
       "\n",
       "    .dataframe thead th {\n",
       "        text-align: right;\n",
       "    }\n",
       "</style>\n",
       "<table border=\"1\" class=\"dataframe\">\n",
       "  <thead>\n",
       "    <tr style=\"text-align: right;\">\n",
       "      <th></th>\n",
       "      <th>FIPS</th>\n",
       "      <th>hh_income</th>\n",
       "      <th>house_value</th>\n",
       "      <th>State</th>\n",
       "      <th>County</th>\n",
       "      <th>Tract_ID</th>\n",
       "    </tr>\n",
       "  </thead>\n",
       "  <tbody>\n",
       "  </tbody>\n",
       "</table>\n",
       "</div>"
      ],
      "text/plain": [
       "Empty DataFrame\n",
       "Columns: [FIPS, hh_income, house_value, State, County, Tract_ID]\n",
       "Index: []"
      ]
     },
     "execution_count": 23,
     "metadata": {},
     "output_type": "execute_result"
    }
   ],
   "source": [
    "acs_nyc_new[acs_nyc_new['house_value'].isna()]"
   ]
  },
  {
   "cell_type": "markdown",
   "id": "simple-freeware",
   "metadata": {},
   "source": [
    "# Data analysis\n",
    "\n",
    "Group the data by `County` and find the median household income and house value. Which county has the lowest median house income and house value? Show this through sorting the dataframe's rows by lowest median household income to highest and only displaying the first row. (5pt)"
   ]
  },
  {
   "cell_type": "code",
   "execution_count": 24,
   "id": "permanent-spotlight",
   "metadata": {},
   "outputs": [],
   "source": [
    "## INSERT YOUR CODE HERE"
   ]
  },
  {
   "cell_type": "code",
   "execution_count": 26,
   "id": "925f10cd",
   "metadata": {},
   "outputs": [
    {
     "data": {
      "text/html": [
       "<div>\n",
       "<style scoped>\n",
       "    .dataframe tbody tr th:only-of-type {\n",
       "        vertical-align: middle;\n",
       "    }\n",
       "\n",
       "    .dataframe tbody tr th {\n",
       "        vertical-align: top;\n",
       "    }\n",
       "\n",
       "    .dataframe thead th {\n",
       "        text-align: right;\n",
       "    }\n",
       "</style>\n",
       "<table border=\"1\" class=\"dataframe\">\n",
       "  <thead>\n",
       "    <tr style=\"text-align: right;\">\n",
       "      <th></th>\n",
       "      <th>hh_income</th>\n",
       "    </tr>\n",
       "    <tr>\n",
       "      <th>County</th>\n",
       "      <th></th>\n",
       "    </tr>\n",
       "  </thead>\n",
       "  <tbody>\n",
       "    <tr>\n",
       "      <th>Bronx</th>\n",
       "      <td>44444.0</td>\n",
       "    </tr>\n",
       "  </tbody>\n",
       "</table>\n",
       "</div>"
      ],
      "text/plain": [
       "        hh_income\n",
       "County           \n",
       "Bronx     44444.0"
      ]
     },
     "execution_count": 26,
     "metadata": {},
     "output_type": "execute_result"
    }
   ],
   "source": [
    "sort_by_income = acs_nyc_new.groupby('County')[['hh_income']].median().sort_values('hh_income',ascending=True)\n",
    "sort_by_income.head(1)"
   ]
  },
  {
   "cell_type": "code",
   "execution_count": 27,
   "id": "8a69b409-8534-4839-a8e8-9134ead4ad56",
   "metadata": {},
   "outputs": [
    {
     "data": {
      "text/html": [
       "<div>\n",
       "<style scoped>\n",
       "    .dataframe tbody tr th:only-of-type {\n",
       "        vertical-align: middle;\n",
       "    }\n",
       "\n",
       "    .dataframe tbody tr th {\n",
       "        vertical-align: top;\n",
       "    }\n",
       "\n",
       "    .dataframe thead th {\n",
       "        text-align: right;\n",
       "    }\n",
       "</style>\n",
       "<table border=\"1\" class=\"dataframe\">\n",
       "  <thead>\n",
       "    <tr style=\"text-align: right;\">\n",
       "      <th></th>\n",
       "      <th>house_value</th>\n",
       "    </tr>\n",
       "    <tr>\n",
       "      <th>County</th>\n",
       "      <th></th>\n",
       "    </tr>\n",
       "  </thead>\n",
       "  <tbody>\n",
       "    <tr>\n",
       "      <th>Bronx</th>\n",
       "      <td>550000.0</td>\n",
       "    </tr>\n",
       "  </tbody>\n",
       "</table>\n",
       "</div>"
      ],
      "text/plain": [
       "        house_value\n",
       "County             \n",
       "Bronx      550000.0"
      ]
     },
     "execution_count": 27,
     "metadata": {},
     "output_type": "execute_result"
    }
   ],
   "source": [
    "sort_by_value = acs_nyc_new.groupby('County')[['house_value']].median().sort_values('house_value',ascending=True)\n",
    "sort_by_value.head(1)"
   ]
  },
  {
   "cell_type": "markdown",
   "id": "191833ae",
   "metadata": {},
   "source": [
    "Which county has largest standard deviation in house income and house value? Show this through sorting the dataframe's rows by highest household income variance to lowest and only displaying the first row.(5pt)"
   ]
  },
  {
   "cell_type": "code",
   "execution_count": 20,
   "id": "b75a33bc",
   "metadata": {},
   "outputs": [],
   "source": [
    "## INSERT YOUR CODE HERE"
   ]
  },
  {
   "cell_type": "code",
   "execution_count": 28,
   "id": "abf09d62",
   "metadata": {},
   "outputs": [
    {
     "data": {
      "text/html": [
       "<div>\n",
       "<style scoped>\n",
       "    .dataframe tbody tr th:only-of-type {\n",
       "        vertical-align: middle;\n",
       "    }\n",
       "\n",
       "    .dataframe tbody tr th {\n",
       "        vertical-align: top;\n",
       "    }\n",
       "\n",
       "    .dataframe thead th {\n",
       "        text-align: right;\n",
       "    }\n",
       "</style>\n",
       "<table border=\"1\" class=\"dataframe\">\n",
       "  <thead>\n",
       "    <tr style=\"text-align: right;\">\n",
       "      <th></th>\n",
       "      <th>std</th>\n",
       "    </tr>\n",
       "    <tr>\n",
       "      <th>County</th>\n",
       "      <th></th>\n",
       "    </tr>\n",
       "  </thead>\n",
       "  <tbody>\n",
       "    <tr>\n",
       "      <th>Manhattan</th>\n",
       "      <td>58547.942749</td>\n",
       "    </tr>\n",
       "  </tbody>\n",
       "</table>\n",
       "</div>"
      ],
      "text/plain": [
       "                    std\n",
       "County                 \n",
       "Manhattan  58547.942749"
      ]
     },
     "execution_count": 28,
     "metadata": {},
     "output_type": "execute_result"
    }
   ],
   "source": [
    "sort_by_std_income = acs_nyc_new.groupby('County')['hh_income'].describe().sort_values('std',ascending=False)\n",
    "sort_by_std_income[['std']].head(1)"
   ]
  },
  {
   "cell_type": "code",
   "execution_count": 29,
   "id": "9da6a54b-63b3-458d-975f-244faf16f7cf",
   "metadata": {},
   "outputs": [
    {
     "data": {
      "text/html": [
       "<div>\n",
       "<style scoped>\n",
       "    .dataframe tbody tr th:only-of-type {\n",
       "        vertical-align: middle;\n",
       "    }\n",
       "\n",
       "    .dataframe tbody tr th {\n",
       "        vertical-align: top;\n",
       "    }\n",
       "\n",
       "    .dataframe thead th {\n",
       "        text-align: right;\n",
       "    }\n",
       "</style>\n",
       "<table border=\"1\" class=\"dataframe\">\n",
       "  <thead>\n",
       "    <tr style=\"text-align: right;\">\n",
       "      <th></th>\n",
       "      <th>std</th>\n",
       "    </tr>\n",
       "    <tr>\n",
       "      <th>County</th>\n",
       "      <th></th>\n",
       "    </tr>\n",
       "  </thead>\n",
       "  <tbody>\n",
       "    <tr>\n",
       "      <th>Manhattan</th>\n",
       "      <td>485595.141937</td>\n",
       "    </tr>\n",
       "  </tbody>\n",
       "</table>\n",
       "</div>"
      ],
      "text/plain": [
       "                     std\n",
       "County                  \n",
       "Manhattan  485595.141937"
      ]
     },
     "execution_count": 29,
     "metadata": {},
     "output_type": "execute_result"
    }
   ],
   "source": [
    "sort_by_std_value = acs_nyc_new.groupby('County')['house_value'].describe().sort_values(by='std',ascending=False)\n",
    "sort_by_std_value[['std']].head(1)"
   ]
  },
  {
   "cell_type": "markdown",
   "id": "ae336678",
   "metadata": {},
   "source": [
    "# Bonus (3 pts)\n",
    "Take our original `acs_nyc.csv` and ask Chatgpt to clean it. What was the prompt that you gave it? Attach the dataset that it returned as a csv. "
   ]
  },
  {
   "cell_type": "code",
   "execution_count": 22,
   "id": "c71f1719",
   "metadata": {},
   "outputs": [],
   "source": [
    "## INSERT YOUR CODE HERE"
   ]
  }
 ],
 "metadata": {
  "kernelspec": {
   "display_name": "Python 3 (ipykernel)",
   "language": "python",
   "name": "python3"
  },
  "language_info": {
   "codemirror_mode": {
    "name": "ipython",
    "version": 3
   },
   "file_extension": ".py",
   "mimetype": "text/x-python",
   "name": "python",
   "nbconvert_exporter": "python",
   "pygments_lexer": "ipython3",
   "version": "3.9.15"
  },
  "vscode": {
   "interpreter": {
    "hash": "cc571d7ca67236538d190807671ab3198970b7d67f23d825ad141ff90f68066a"
   }
  }
 },
 "nbformat": 4,
 "nbformat_minor": 5
}
