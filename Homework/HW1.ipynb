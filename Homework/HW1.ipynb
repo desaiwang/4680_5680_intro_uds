{
 "cells": [
  {
   "cell_type": "markdown",
   "id": "european-halloween",
   "metadata": {},
   "source": [
    "# Homework 1\n",
    "\n",
    "In this homework set, we will practice using pandas to clean and prep our data. \n",
    "\n",
    "### Deliverables: \n",
    "1. Pandas notebook with outputs\n",
    "2. The `acs_nyc.csv` file you used\n",
    "3. (Optional) The chatgpt output as a csv. "
   ]
  },
  {
   "cell_type": "code",
   "execution_count": 1,
   "id": "agreed-ridge",
   "metadata": {},
   "outputs": [
    {
     "name": "stderr",
     "output_type": "stream",
     "text": [
      "c:\\Users\\desai\\miniforge3\\envs\\crp4680\\lib\\site-packages\\pandas\\core\\computation\\expressions.py:21: UserWarning: Pandas requires version '2.8.4' or newer of 'numexpr' (version '2.7.3' currently installed).\n",
      "  from pandas.core.computation.check import NUMEXPR_INSTALLED\n"
     ]
    }
   ],
   "source": [
    "# We are going to start importing the libraries we need\n",
    "# all in one cell. \n",
    "\n",
    "# It is a good practice to keep all the imports in one cell so that\n",
    "# we can easily see what libraries we are using in the notebook.\n",
    "import pandas as pd\n",
    "\n",
    "## There is no need to import libraries more than once!"
   ]
  },
  {
   "cell_type": "markdown",
   "id": "0c3ffcf1",
   "metadata": {},
   "source": [
    "# Household Income and Home Value in NYC\n",
    "In this exercise, you are going to investigate the relationship between household income and home values in New York City. \n",
    "\n",
    "You are given the dataset `acs_nyc.csv`, which was extracted from the IPUMS NHGIS portal. \n"
   ]
  },
  {
   "cell_type": "markdown",
   "id": "e2af11bb",
   "metadata": {},
   "source": [
    "# Data Loading and Initial Exploration"
   ]
  },
  {
   "cell_type": "code",
   "execution_count": 2,
   "id": "fifth-shepherd",
   "metadata": {},
   "outputs": [],
   "source": [
    "acs_nyc = pd.read_csv('acs_nyc.csv')\n"
   ]
  },
  {
   "cell_type": "markdown",
   "id": "b582bd4f",
   "metadata": {},
   "source": [
    "Display the first 12 rows of the data. (1 pt)"
   ]
  },
  {
   "cell_type": "code",
   "execution_count": 4,
   "id": "156f83b5",
   "metadata": {},
   "outputs": [
    {
     "data": {
      "text/html": [
       "<div>\n",
       "<style scoped>\n",
       "    .dataframe tbody tr th:only-of-type {\n",
       "        vertical-align: middle;\n",
       "    }\n",
       "\n",
       "    .dataframe tbody tr th {\n",
       "        vertical-align: top;\n",
       "    }\n",
       "\n",
       "    .dataframe thead th {\n",
       "        text-align: right;\n",
       "    }\n",
       "</style>\n",
       "<table border=\"1\" class=\"dataframe\">\n",
       "  <thead>\n",
       "    <tr style=\"text-align: right;\">\n",
       "      <th></th>\n",
       "      <th>FIPS</th>\n",
       "      <th>hh_income</th>\n",
       "      <th>house_value</th>\n",
       "    </tr>\n",
       "  </thead>\n",
       "  <tbody>\n",
       "    <tr>\n",
       "      <th>0</th>\n",
       "      <td>36005000100</td>\n",
       "      <td>NaN</td>\n",
       "      <td>NaN</td>\n",
       "    </tr>\n",
       "    <tr>\n",
       "      <th>1</th>\n",
       "      <td>36005000200</td>\n",
       "      <td>70867.0</td>\n",
       "      <td>457300.0</td>\n",
       "    </tr>\n",
       "    <tr>\n",
       "      <th>2</th>\n",
       "      <td>36005000400</td>\n",
       "      <td>98090.0</td>\n",
       "      <td>456100.0</td>\n",
       "    </tr>\n",
       "    <tr>\n",
       "      <th>3</th>\n",
       "      <td>36005001600</td>\n",
       "      <td>40033.0</td>\n",
       "      <td>587600.0</td>\n",
       "    </tr>\n",
       "    <tr>\n",
       "      <th>4</th>\n",
       "      <td>36005001901</td>\n",
       "      <td>55924.0</td>\n",
       "      <td>NaN</td>\n",
       "    </tr>\n",
       "    <tr>\n",
       "      <th>5</th>\n",
       "      <td>36005001902</td>\n",
       "      <td>60804.0</td>\n",
       "      <td>425600.0</td>\n",
       "    </tr>\n",
       "    <tr>\n",
       "      <th>6</th>\n",
       "      <td>36005001903</td>\n",
       "      <td>NaN</td>\n",
       "      <td>NaN</td>\n",
       "    </tr>\n",
       "    <tr>\n",
       "      <th>7</th>\n",
       "      <td>36005001904</td>\n",
       "      <td>NaN</td>\n",
       "      <td>NaN</td>\n",
       "    </tr>\n",
       "    <tr>\n",
       "      <th>8</th>\n",
       "      <td>36005002001</td>\n",
       "      <td>20870.0</td>\n",
       "      <td>NaN</td>\n",
       "    </tr>\n",
       "    <tr>\n",
       "      <th>9</th>\n",
       "      <td>36005002002</td>\n",
       "      <td>NaN</td>\n",
       "      <td>441800.0</td>\n",
       "    </tr>\n",
       "    <tr>\n",
       "      <th>10</th>\n",
       "      <td>36005002300</td>\n",
       "      <td>22177.0</td>\n",
       "      <td>NaN</td>\n",
       "    </tr>\n",
       "    <tr>\n",
       "      <th>11</th>\n",
       "      <td>36005002400</td>\n",
       "      <td>NaN</td>\n",
       "      <td>NaN</td>\n",
       "    </tr>\n",
       "  </tbody>\n",
       "</table>\n",
       "</div>"
      ],
      "text/plain": [
       "           FIPS  hh_income  house_value\n",
       "0   36005000100        NaN          NaN\n",
       "1   36005000200    70867.0     457300.0\n",
       "2   36005000400    98090.0     456100.0\n",
       "3   36005001600    40033.0     587600.0\n",
       "4   36005001901    55924.0          NaN\n",
       "5   36005001902    60804.0     425600.0\n",
       "6   36005001903        NaN          NaN\n",
       "7   36005001904        NaN          NaN\n",
       "8   36005002001    20870.0          NaN\n",
       "9   36005002002        NaN     441800.0\n",
       "10  36005002300    22177.0          NaN\n",
       "11  36005002400        NaN          NaN"
      ]
     },
     "execution_count": 4,
     "metadata": {},
     "output_type": "execute_result"
    }
   ],
   "source": [
    "acs_nyc.head(12)"
   ]
  },
  {
   "cell_type": "markdown",
   "id": "96bc0bcd",
   "metadata": {},
   "source": [
    "How many rows and how many columns are in the data? (1pt)"
   ]
  },
  {
   "cell_type": "code",
   "execution_count": 11,
   "id": "44d86ac7",
   "metadata": {},
   "outputs": [
    {
     "name": "stdout",
     "output_type": "stream",
     "text": [
      "there are 2327 rows and 3 columns\n"
     ]
    }
   ],
   "source": [
    "rows, columns = acs_nyc.shape\n",
    "\n",
    "print(f\"there are {rows} rows and {columns} columns\")"
   ]
  },
  {
   "cell_type": "markdown",
   "id": "7dde655a",
   "metadata": {},
   "source": [
    "What are the datatypes for each column? (1pt)\n",
    "\n",
    "FIPS has type int64, and hh_income and house_value have type float64."
   ]
  },
  {
   "cell_type": "code",
   "execution_count": 13,
   "id": "76611508",
   "metadata": {},
   "outputs": [
    {
     "data": {
      "text/plain": [
       "FIPS             int64\n",
       "hh_income      float64\n",
       "house_value    float64\n",
       "dtype: object"
      ]
     },
     "execution_count": 13,
     "metadata": {},
     "output_type": "execute_result"
    }
   ],
   "source": [
    "acs_nyc.dtypes"
   ]
  },
  {
   "cell_type": "markdown",
   "id": "217e1441",
   "metadata": {},
   "source": [
    "Using one function, display the 25th, 50th, 75th percentiles, mean, min, max, count, and standard deviations for the `hh_income` and `house_value` columns. (1 pt)"
   ]
  },
  {
   "cell_type": "code",
   "execution_count": 23,
   "id": "2c41b6e0",
   "metadata": {},
   "outputs": [
    {
     "data": {
      "text/html": [
       "<div>\n",
       "<style scoped>\n",
       "    .dataframe tbody tr th:only-of-type {\n",
       "        vertical-align: middle;\n",
       "    }\n",
       "\n",
       "    .dataframe tbody tr th {\n",
       "        vertical-align: top;\n",
       "    }\n",
       "\n",
       "    .dataframe thead th {\n",
       "        text-align: right;\n",
       "    }\n",
       "</style>\n",
       "<table border=\"1\" class=\"dataframe\">\n",
       "  <thead>\n",
       "    <tr style=\"text-align: right;\">\n",
       "      <th></th>\n",
       "      <th>hh_income</th>\n",
       "      <th>house_value</th>\n",
       "    </tr>\n",
       "  </thead>\n",
       "  <tbody>\n",
       "    <tr>\n",
       "      <th>count</th>\n",
       "      <td>2196.000000</td>\n",
       "      <td>1.966000e+03</td>\n",
       "    </tr>\n",
       "    <tr>\n",
       "      <th>mean</th>\n",
       "      <td>78730.628871</td>\n",
       "      <td>7.599776e+05</td>\n",
       "    </tr>\n",
       "    <tr>\n",
       "      <th>std</th>\n",
       "      <td>38669.599532</td>\n",
       "      <td>3.642487e+05</td>\n",
       "    </tr>\n",
       "    <tr>\n",
       "      <th>min</th>\n",
       "      <td>11988.000000</td>\n",
       "      <td>9.999000e+03</td>\n",
       "    </tr>\n",
       "    <tr>\n",
       "      <th>25%</th>\n",
       "      <td>53277.250000</td>\n",
       "      <td>5.306750e+05</td>\n",
       "    </tr>\n",
       "    <tr>\n",
       "      <th>50%</th>\n",
       "      <td>73199.500000</td>\n",
       "      <td>6.646000e+05</td>\n",
       "    </tr>\n",
       "    <tr>\n",
       "      <th>75%</th>\n",
       "      <td>96989.000000</td>\n",
       "      <td>9.087250e+05</td>\n",
       "    </tr>\n",
       "    <tr>\n",
       "      <th>max</th>\n",
       "      <td>250001.000000</td>\n",
       "      <td>2.000001e+06</td>\n",
       "    </tr>\n",
       "  </tbody>\n",
       "</table>\n",
       "</div>"
      ],
      "text/plain": [
       "           hh_income   house_value\n",
       "count    2196.000000  1.966000e+03\n",
       "mean    78730.628871  7.599776e+05\n",
       "std     38669.599532  3.642487e+05\n",
       "min     11988.000000  9.999000e+03\n",
       "25%     53277.250000  5.306750e+05\n",
       "50%     73199.500000  6.646000e+05\n",
       "75%     96989.000000  9.087250e+05\n",
       "max    250001.000000  2.000001e+06"
      ]
     },
     "execution_count": 23,
     "metadata": {},
     "output_type": "execute_result"
    }
   ],
   "source": [
    "acs_nyc[[\"hh_income\", \"house_value\"]].describe()"
   ]
  },
  {
   "cell_type": "markdown",
   "id": "collected-control",
   "metadata": {},
   "source": [
    "# Data Manipulation\n",
    "The FIPS code is a unique identifier for each administrative unit in the US. This is how to read a FIPS code. The number of digits in your `FIPS` columns corresponds to whether each row is a state, county, tract, or block. \n",
    "\n",
    "![This is how to read a FIPS code](https://customer.precisely.com/servlet/rtaImage?eid=ka0Vu0000000qGs&feoid=00N6g00000TynF6&refid=0EM6g0000010wuS)\n",
    "\n"
   ]
  },
  {
   "cell_type": "markdown",
   "id": "34c00e4e",
   "metadata": {},
   "source": [
    "1. What administrative unit is our dataset, based on how many FIPS digits in the `FIPS` column? (1 pt)\n",
    "\n",
    "You can write your answer in this cell. "
   ]
  },
  {
   "cell_type": "markdown",
   "id": "c9a1adc0",
   "metadata": {},
   "source": [
    "##ANSWER<br>\n",
    "There are 11 digits for each entry in the FIPS column, which means that the administrative unit is **tracts**."
   ]
  },
  {
   "cell_type": "markdown",
   "id": "0a724995",
   "metadata": {},
   "source": [
    "2. Using the FIPS code, create the following columns: (5 pts)\n",
    "- State\n",
    "- County: \n",
    "    - Bronx County: 36005\n",
    "    - Brooklyn County: 36047\n",
    "    - Manhattan County: 36061\n",
    "    - Queens County: 36081\n",
    "    - Staten Island: 36085\n",
    "- Tract_ID"
   ]
  },
  {
   "cell_type": "code",
   "execution_count": 25,
   "id": "c5d03b05",
   "metadata": {},
   "outputs": [
    {
     "data": {
      "text/plain": [
       "5"
      ]
     },
     "execution_count": 25,
     "metadata": {},
     "output_type": "execute_result"
    }
   ],
   "source": [
    "## INSERT YOUR CODE HERE\n",
    "\n",
    "int(str(36005000400)[:2])\n",
    "int(str(36005000400)[2:5])"
   ]
  },
  {
   "cell_type": "markdown",
   "id": "b186605d",
   "metadata": {},
   "source": [
    "3. Check for null values in the `hh_income` and `house_value` columns. Remove any rows with both hh_income and house_value missing. With the rest of the missing values, replace missing values in these columns with the mean value of their respective columns. (5 pts)"
   ]
  },
  {
   "cell_type": "code",
   "execution_count": 31,
   "id": "a4c8db06",
   "metadata": {},
   "outputs": [
    {
     "data": {
      "text/html": [
       "<div>\n",
       "<style scoped>\n",
       "    .dataframe tbody tr th:only-of-type {\n",
       "        vertical-align: middle;\n",
       "    }\n",
       "\n",
       "    .dataframe tbody tr th {\n",
       "        vertical-align: top;\n",
       "    }\n",
       "\n",
       "    .dataframe thead th {\n",
       "        text-align: right;\n",
       "    }\n",
       "</style>\n",
       "<table border=\"1\" class=\"dataframe\">\n",
       "  <thead>\n",
       "    <tr style=\"text-align: right;\">\n",
       "      <th></th>\n",
       "      <th>FIPS</th>\n",
       "      <th>hh_income</th>\n",
       "      <th>house_value</th>\n",
       "    </tr>\n",
       "  </thead>\n",
       "  <tbody>\n",
       "    <tr>\n",
       "      <th>1</th>\n",
       "      <td>36005000200</td>\n",
       "      <td>70867.0</td>\n",
       "      <td>457300.0</td>\n",
       "    </tr>\n",
       "    <tr>\n",
       "      <th>2</th>\n",
       "      <td>36005000400</td>\n",
       "      <td>98090.0</td>\n",
       "      <td>456100.0</td>\n",
       "    </tr>\n",
       "    <tr>\n",
       "      <th>3</th>\n",
       "      <td>36005001600</td>\n",
       "      <td>40033.0</td>\n",
       "      <td>587600.0</td>\n",
       "    </tr>\n",
       "    <tr>\n",
       "      <th>4</th>\n",
       "      <td>36005001901</td>\n",
       "      <td>55924.0</td>\n",
       "      <td>NaN</td>\n",
       "    </tr>\n",
       "    <tr>\n",
       "      <th>5</th>\n",
       "      <td>36005001902</td>\n",
       "      <td>60804.0</td>\n",
       "      <td>425600.0</td>\n",
       "    </tr>\n",
       "    <tr>\n",
       "      <th>...</th>\n",
       "      <td>...</td>\n",
       "      <td>...</td>\n",
       "      <td>...</td>\n",
       "    </tr>\n",
       "    <tr>\n",
       "      <th>2321</th>\n",
       "      <td>36085030301</td>\n",
       "      <td>95913.0</td>\n",
       "      <td>457600.0</td>\n",
       "    </tr>\n",
       "    <tr>\n",
       "      <th>2322</th>\n",
       "      <td>36085030302</td>\n",
       "      <td>85842.0</td>\n",
       "      <td>420500.0</td>\n",
       "    </tr>\n",
       "    <tr>\n",
       "      <th>2323</th>\n",
       "      <td>36085031901</td>\n",
       "      <td>NaN</td>\n",
       "      <td>288300.0</td>\n",
       "    </tr>\n",
       "    <tr>\n",
       "      <th>2324</th>\n",
       "      <td>36085031902</td>\n",
       "      <td>76066.0</td>\n",
       "      <td>381600.0</td>\n",
       "    </tr>\n",
       "    <tr>\n",
       "      <th>2325</th>\n",
       "      <td>36085032300</td>\n",
       "      <td>86471.0</td>\n",
       "      <td>237100.0</td>\n",
       "    </tr>\n",
       "  </tbody>\n",
       "</table>\n",
       "<p>2212 rows × 3 columns</p>\n",
       "</div>"
      ],
      "text/plain": [
       "             FIPS  hh_income  house_value\n",
       "1     36005000200    70867.0     457300.0\n",
       "2     36005000400    98090.0     456100.0\n",
       "3     36005001600    40033.0     587600.0\n",
       "4     36005001901    55924.0          NaN\n",
       "5     36005001902    60804.0     425600.0\n",
       "...           ...        ...          ...\n",
       "2321  36085030301    95913.0     457600.0\n",
       "2322  36085030302    85842.0     420500.0\n",
       "2323  36085031901        NaN     288300.0\n",
       "2324  36085031902    76066.0     381600.0\n",
       "2325  36085032300    86471.0     237100.0\n",
       "\n",
       "[2212 rows x 3 columns]"
      ]
     },
     "execution_count": 31,
     "metadata": {},
     "output_type": "execute_result"
    }
   ],
   "source": [
    "## first I apply a mask that takes out rows where both columns are null\n",
    "acs_nyc=acs_nyc[~(acs_nyc['hh_income'].isna() & acs_nyc['house_value'].isna())]\n",
    "\n",
    "##replace missing income with mean\n",
    "\n",
    "##replace missing "
   ]
  },
  {
   "cell_type": "markdown",
   "id": "8bef7b85",
   "metadata": {},
   "source": [
    "Verify that there are no more null values in these columns. (1 pt)"
   ]
  },
  {
   "cell_type": "code",
   "execution_count": null,
   "id": "fde8ed2f",
   "metadata": {},
   "outputs": [],
   "source": [
    "## INSERT YOUR CODE HERE"
   ]
  },
  {
   "cell_type": "markdown",
   "id": "simple-freeware",
   "metadata": {},
   "source": [
    "# Data analysis\n",
    "\n",
    "Group the data by `County` and find the median household income and house value. Which county has the lowest median house income and house value? Show this through sorting the dataframe's rows by lowest median household income to highest and only displaying the first row. (5pt)"
   ]
  },
  {
   "cell_type": "code",
   "execution_count": null,
   "id": "permanent-spotlight",
   "metadata": {},
   "outputs": [],
   "source": [
    "## INSERT YOUR CODE HERE"
   ]
  },
  {
   "cell_type": "markdown",
   "id": "191833ae",
   "metadata": {},
   "source": [
    "Which county has largest standard deviation in house income and house value? Show this through sorting the dataframe's rows by highest household income variance to lowest and only displaying the first row.(5pt)"
   ]
  },
  {
   "cell_type": "code",
   "execution_count": null,
   "id": "b75a33bc",
   "metadata": {},
   "outputs": [],
   "source": [
    "## INSERT YOUR CODE HERE"
   ]
  },
  {
   "cell_type": "markdown",
   "id": "ae336678",
   "metadata": {},
   "source": [
    "# Bonus (3 pts)\n",
    "Take our original `acs_nyc.csv` and ask Chatgpt to clean it. What was the prompt that you gave it? Attach the dataset that it returned as a csv and read it into the cell below."
   ]
  },
  {
   "cell_type": "markdown",
   "id": "33ca8599",
   "metadata": {},
   "source": [
    "INSERT YOUR PROMPT HERE."
   ]
  },
  {
   "cell_type": "code",
   "execution_count": null,
   "id": "c71f1719",
   "metadata": {},
   "outputs": [],
   "source": [
    "## INSERT YOUR CODE HERE"
   ]
  }
 ],
 "metadata": {
  "kernelspec": {
   "display_name": "Python 3",
   "language": "python",
   "name": "python3"
  },
  "language_info": {
   "codemirror_mode": {
    "name": "ipython",
    "version": 3
   },
   "file_extension": ".py",
   "mimetype": "text/x-python",
   "name": "python",
   "nbconvert_exporter": "python",
   "pygments_lexer": "ipython3",
   "version": "3.9.18"
  },
  "vscode": {
   "interpreter": {
    "hash": "cc571d7ca67236538d190807671ab3198970b7d67f23d825ad141ff90f68066a"
   }
  }
 },
 "nbformat": 4,
 "nbformat_minor": 5
}
