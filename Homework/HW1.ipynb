{
 "cells": [
  {
   "cell_type": "markdown",
   "id": "european-halloween",
   "metadata": {},
   "source": [
    "# Homework 1\n",
    "\n",
    "In this homework set, we will practice using pandas to clean and prep our data. \n",
    "\n",
    "### Deliverables: \n",
    "1. Pandas notebook with outputs\n",
    "2. The `acs_nyc.csv` file you used\n",
    "3. (Optional) The chatgpt output as a csv. "
   ]
  },
  {
   "cell_type": "code",
   "execution_count": 179,
   "id": "agreed-ridge",
   "metadata": {},
   "outputs": [],
   "source": [
    "# We are going to start importing the libraries we need\n",
    "# all in one cell. \n",
    "\n",
    "# It is a good practice to keep all the imports in one cell so that\n",
    "# we can easily see what libraries we are using in the notebook.\n",
    "import pandas as pd\n",
    "\n",
    "## There is no need to import libraries more than once!"
   ]
  },
  {
   "cell_type": "markdown",
   "id": "0c3ffcf1",
   "metadata": {},
   "source": [
    "# Household Income and Home Value in NYC\n",
    "In this exercise, you are going to investigate the relationship between household income and home values in New York City. \n",
    "\n",
    "You are given the dataset `acs_nyc.csv`, which was extracted from the IPUMS NHGIS portal. \n"
   ]
  },
  {
   "cell_type": "markdown",
   "id": "e2af11bb",
   "metadata": {},
   "source": [
    "# Data Loading and Initial Exploration"
   ]
  },
  {
   "cell_type": "code",
   "execution_count": 180,
   "id": "fifth-shepherd",
   "metadata": {},
   "outputs": [],
   "source": [
    "acs_nyc = pd.read_csv('acs_nyc.csv')\n"
   ]
  },
  {
   "cell_type": "markdown",
   "id": "b582bd4f",
   "metadata": {},
   "source": [
    "Display the first 12 rows of the data. (1 pt)"
   ]
  },
  {
   "cell_type": "code",
   "execution_count": 181,
   "id": "156f83b5",
   "metadata": {},
   "outputs": [
    {
     "data": {
      "text/html": [
       "<div>\n",
       "<style scoped>\n",
       "    .dataframe tbody tr th:only-of-type {\n",
       "        vertical-align: middle;\n",
       "    }\n",
       "\n",
       "    .dataframe tbody tr th {\n",
       "        vertical-align: top;\n",
       "    }\n",
       "\n",
       "    .dataframe thead th {\n",
       "        text-align: right;\n",
       "    }\n",
       "</style>\n",
       "<table border=\"1\" class=\"dataframe\">\n",
       "  <thead>\n",
       "    <tr style=\"text-align: right;\">\n",
       "      <th></th>\n",
       "      <th>FIPS</th>\n",
       "      <th>hh_income</th>\n",
       "      <th>house_value</th>\n",
       "    </tr>\n",
       "  </thead>\n",
       "  <tbody>\n",
       "    <tr>\n",
       "      <th>0</th>\n",
       "      <td>36005000100</td>\n",
       "      <td>NaN</td>\n",
       "      <td>NaN</td>\n",
       "    </tr>\n",
       "    <tr>\n",
       "      <th>1</th>\n",
       "      <td>36005000200</td>\n",
       "      <td>70867.0</td>\n",
       "      <td>457300.0</td>\n",
       "    </tr>\n",
       "    <tr>\n",
       "      <th>2</th>\n",
       "      <td>36005000400</td>\n",
       "      <td>98090.0</td>\n",
       "      <td>456100.0</td>\n",
       "    </tr>\n",
       "    <tr>\n",
       "      <th>3</th>\n",
       "      <td>36005001600</td>\n",
       "      <td>40033.0</td>\n",
       "      <td>587600.0</td>\n",
       "    </tr>\n",
       "    <tr>\n",
       "      <th>4</th>\n",
       "      <td>36005001901</td>\n",
       "      <td>55924.0</td>\n",
       "      <td>NaN</td>\n",
       "    </tr>\n",
       "    <tr>\n",
       "      <th>5</th>\n",
       "      <td>36005001902</td>\n",
       "      <td>60804.0</td>\n",
       "      <td>425600.0</td>\n",
       "    </tr>\n",
       "    <tr>\n",
       "      <th>6</th>\n",
       "      <td>36005001903</td>\n",
       "      <td>NaN</td>\n",
       "      <td>NaN</td>\n",
       "    </tr>\n",
       "    <tr>\n",
       "      <th>7</th>\n",
       "      <td>36005001904</td>\n",
       "      <td>NaN</td>\n",
       "      <td>NaN</td>\n",
       "    </tr>\n",
       "    <tr>\n",
       "      <th>8</th>\n",
       "      <td>36005002001</td>\n",
       "      <td>20870.0</td>\n",
       "      <td>NaN</td>\n",
       "    </tr>\n",
       "    <tr>\n",
       "      <th>9</th>\n",
       "      <td>36005002002</td>\n",
       "      <td>NaN</td>\n",
       "      <td>441800.0</td>\n",
       "    </tr>\n",
       "    <tr>\n",
       "      <th>10</th>\n",
       "      <td>36005002300</td>\n",
       "      <td>22177.0</td>\n",
       "      <td>NaN</td>\n",
       "    </tr>\n",
       "    <tr>\n",
       "      <th>11</th>\n",
       "      <td>36005002400</td>\n",
       "      <td>NaN</td>\n",
       "      <td>NaN</td>\n",
       "    </tr>\n",
       "  </tbody>\n",
       "</table>\n",
       "</div>"
      ],
      "text/plain": [
       "           FIPS  hh_income  house_value\n",
       "0   36005000100        NaN          NaN\n",
       "1   36005000200    70867.0     457300.0\n",
       "2   36005000400    98090.0     456100.0\n",
       "3   36005001600    40033.0     587600.0\n",
       "4   36005001901    55924.0          NaN\n",
       "5   36005001902    60804.0     425600.0\n",
       "6   36005001903        NaN          NaN\n",
       "7   36005001904        NaN          NaN\n",
       "8   36005002001    20870.0          NaN\n",
       "9   36005002002        NaN     441800.0\n",
       "10  36005002300    22177.0          NaN\n",
       "11  36005002400        NaN          NaN"
      ]
     },
     "execution_count": 181,
     "metadata": {},
     "output_type": "execute_result"
    }
   ],
   "source": [
    "acs_nyc.head(12)"
   ]
  },
  {
   "cell_type": "markdown",
   "id": "96bc0bcd",
   "metadata": {},
   "source": [
    "How many rows and how many columns are in the data? (1pt)"
   ]
  },
  {
   "cell_type": "code",
   "execution_count": 182,
   "id": "44d86ac7",
   "metadata": {},
   "outputs": [
    {
     "name": "stdout",
     "output_type": "stream",
     "text": [
      "there are 2327 rows and 3 columns\n"
     ]
    }
   ],
   "source": [
    "rows, columns = acs_nyc.shape\n",
    "\n",
    "print(f\"there are {rows} rows and {columns} columns\")"
   ]
  },
  {
   "cell_type": "markdown",
   "id": "7dde655a",
   "metadata": {},
   "source": [
    "What are the datatypes for each column? (1pt)\n",
    "\n",
    "FIPS has type int64, and hh_income and house_value have type float64."
   ]
  },
  {
   "cell_type": "code",
   "execution_count": 183,
   "id": "76611508",
   "metadata": {},
   "outputs": [
    {
     "data": {
      "text/plain": [
       "FIPS             int64\n",
       "hh_income      float64\n",
       "house_value    float64\n",
       "dtype: object"
      ]
     },
     "execution_count": 183,
     "metadata": {},
     "output_type": "execute_result"
    }
   ],
   "source": [
    "acs_nyc.dtypes"
   ]
  },
  {
   "cell_type": "markdown",
   "id": "217e1441",
   "metadata": {},
   "source": [
    "Using one function, display the 25th, 50th, 75th percentiles, mean, min, max, count, and standard deviations for the `hh_income` and `house_value` columns. (1 pt)"
   ]
  },
  {
   "cell_type": "code",
   "execution_count": 184,
   "id": "2c41b6e0",
   "metadata": {},
   "outputs": [
    {
     "data": {
      "text/html": [
       "<div>\n",
       "<style scoped>\n",
       "    .dataframe tbody tr th:only-of-type {\n",
       "        vertical-align: middle;\n",
       "    }\n",
       "\n",
       "    .dataframe tbody tr th {\n",
       "        vertical-align: top;\n",
       "    }\n",
       "\n",
       "    .dataframe thead th {\n",
       "        text-align: right;\n",
       "    }\n",
       "</style>\n",
       "<table border=\"1\" class=\"dataframe\">\n",
       "  <thead>\n",
       "    <tr style=\"text-align: right;\">\n",
       "      <th></th>\n",
       "      <th>hh_income</th>\n",
       "      <th>house_value</th>\n",
       "    </tr>\n",
       "  </thead>\n",
       "  <tbody>\n",
       "    <tr>\n",
       "      <th>count</th>\n",
       "      <td>2196.000000</td>\n",
       "      <td>1.966000e+03</td>\n",
       "    </tr>\n",
       "    <tr>\n",
       "      <th>mean</th>\n",
       "      <td>78730.628871</td>\n",
       "      <td>7.599776e+05</td>\n",
       "    </tr>\n",
       "    <tr>\n",
       "      <th>std</th>\n",
       "      <td>38669.599532</td>\n",
       "      <td>3.642487e+05</td>\n",
       "    </tr>\n",
       "    <tr>\n",
       "      <th>min</th>\n",
       "      <td>11988.000000</td>\n",
       "      <td>9.999000e+03</td>\n",
       "    </tr>\n",
       "    <tr>\n",
       "      <th>25%</th>\n",
       "      <td>53277.250000</td>\n",
       "      <td>5.306750e+05</td>\n",
       "    </tr>\n",
       "    <tr>\n",
       "      <th>50%</th>\n",
       "      <td>73199.500000</td>\n",
       "      <td>6.646000e+05</td>\n",
       "    </tr>\n",
       "    <tr>\n",
       "      <th>75%</th>\n",
       "      <td>96989.000000</td>\n",
       "      <td>9.087250e+05</td>\n",
       "    </tr>\n",
       "    <tr>\n",
       "      <th>max</th>\n",
       "      <td>250001.000000</td>\n",
       "      <td>2.000001e+06</td>\n",
       "    </tr>\n",
       "  </tbody>\n",
       "</table>\n",
       "</div>"
      ],
      "text/plain": [
       "           hh_income   house_value\n",
       "count    2196.000000  1.966000e+03\n",
       "mean    78730.628871  7.599776e+05\n",
       "std     38669.599532  3.642487e+05\n",
       "min     11988.000000  9.999000e+03\n",
       "25%     53277.250000  5.306750e+05\n",
       "50%     73199.500000  6.646000e+05\n",
       "75%     96989.000000  9.087250e+05\n",
       "max    250001.000000  2.000001e+06"
      ]
     },
     "execution_count": 184,
     "metadata": {},
     "output_type": "execute_result"
    }
   ],
   "source": [
    "acs_nyc[[\"hh_income\", \"house_value\"]].describe()"
   ]
  },
  {
   "cell_type": "markdown",
   "id": "collected-control",
   "metadata": {},
   "source": [
    "# Data Manipulation\n",
    "The FIPS code is a unique identifier for each administrative unit in the US. This is how to read a FIPS code. The number of digits in your `FIPS` columns corresponds to whether each row is a state, county, tract, or block. \n",
    "\n",
    "![This is how to read a FIPS code](https://customer.precisely.com/servlet/rtaImage?eid=ka0Vu0000000qGs&feoid=00N6g00000TynF6&refid=0EM6g0000010wuS)\n",
    "\n"
   ]
  },
  {
   "cell_type": "markdown",
   "id": "34c00e4e",
   "metadata": {},
   "source": [
    "1. What administrative unit is our dataset, based on how many FIPS digits in the `FIPS` column? (1 pt)\n",
    "\n",
    "**ANSWER**<br>\n",
    "There are 11 digits for each entry in the FIPS column, which means that the administrative unit is **tracts**."
   ]
  },
  {
   "cell_type": "markdown",
   "id": "0a724995",
   "metadata": {},
   "source": [
    "2. Using the FIPS code, create the following columns: (5 pts)\n",
    "- State\n",
    "- County: \n",
    "    - Bronx County: 36005\n",
    "    - Brooklyn County: 36047\n",
    "    - Manhattan County: 36061\n",
    "    - Queens County: 36081\n",
    "    - Staten Island: 36085\n",
    "- Tract_ID"
   ]
  },
  {
   "cell_type": "code",
   "execution_count": 185,
   "id": "c5d03b05",
   "metadata": {},
   "outputs": [],
   "source": [
    "#since I know the data is from NYC, I will not try to parse the first digits and match to all the statecodes\n",
    "#this reduces the amount of work I have to do\n",
    "\n",
    "#but I first check this is true (NEW YORK state code is 36)\n",
    "assert acs_nyc[\"FIPS\"].apply(lambda x: str(x)[:2] != \"36\").sum()==0\n",
    "\n",
    "#now I set all the states to NEW YORK\n",
    "acs_nyc[\"State\"] = \"NEW YORK\"\n",
    "\n",
    "#and create a small custom function that matches code to county\n",
    "def county_from_FIPS(FIPS):\n",
    "  county_code = str(FIPS)[:5]\n",
    "  if county_code==\"36005\":\n",
    "    return \"Bronx County\"\n",
    "  elif county_code == \"36047\":\n",
    "    return \"Brooklyn County\"\n",
    "  elif county_code == \"36061\":\n",
    "    return \"Manhattan County\"\n",
    "  elif county_code == \"36081\":\n",
    "    return \"Queens County\"\n",
    "  elif county_code == \"36085\":\n",
    "    return \"Staten Island\"\n",
    "  else:\n",
    "    return \"\" \n",
    "\n",
    "#apply the function\n",
    "acs_nyc[\"County\"] = acs_nyc[\"FIPS\"].apply(county_from_FIPS)\n",
    "\n",
    "\n",
    "#also checked that all conversions were successful (there's no county outside the expected ones)\n",
    "assert (acs_nyc[\"County\"]==\"\").sum()==0\n",
    "\n",
    "#now we add the tract number, this has to be a string to preserve leading zeros\n",
    "#we index the last six digits\n",
    "\n",
    "acs_nyc[\"Tract_ID\"] = acs_nyc[\"FIPS\"].apply(lambda x: str(x)[-6:])"
   ]
  },
  {
   "cell_type": "code",
   "execution_count": 186,
   "id": "42d31e95",
   "metadata": {},
   "outputs": [
    {
     "data": {
      "text/html": [
       "<div>\n",
       "<style scoped>\n",
       "    .dataframe tbody tr th:only-of-type {\n",
       "        vertical-align: middle;\n",
       "    }\n",
       "\n",
       "    .dataframe tbody tr th {\n",
       "        vertical-align: top;\n",
       "    }\n",
       "\n",
       "    .dataframe thead th {\n",
       "        text-align: right;\n",
       "    }\n",
       "</style>\n",
       "<table border=\"1\" class=\"dataframe\">\n",
       "  <thead>\n",
       "    <tr style=\"text-align: right;\">\n",
       "      <th></th>\n",
       "      <th>FIPS</th>\n",
       "      <th>hh_income</th>\n",
       "      <th>house_value</th>\n",
       "      <th>State</th>\n",
       "      <th>County</th>\n",
       "      <th>Tract_ID</th>\n",
       "    </tr>\n",
       "  </thead>\n",
       "  <tbody>\n",
       "    <tr>\n",
       "      <th>0</th>\n",
       "      <td>36005000100</td>\n",
       "      <td>NaN</td>\n",
       "      <td>NaN</td>\n",
       "      <td>NEW YORK</td>\n",
       "      <td>Bronx County</td>\n",
       "      <td>000100</td>\n",
       "    </tr>\n",
       "    <tr>\n",
       "      <th>1</th>\n",
       "      <td>36005000200</td>\n",
       "      <td>70867.0</td>\n",
       "      <td>457300.0</td>\n",
       "      <td>NEW YORK</td>\n",
       "      <td>Bronx County</td>\n",
       "      <td>000200</td>\n",
       "    </tr>\n",
       "    <tr>\n",
       "      <th>2</th>\n",
       "      <td>36005000400</td>\n",
       "      <td>98090.0</td>\n",
       "      <td>456100.0</td>\n",
       "      <td>NEW YORK</td>\n",
       "      <td>Bronx County</td>\n",
       "      <td>000400</td>\n",
       "    </tr>\n",
       "    <tr>\n",
       "      <th>3</th>\n",
       "      <td>36005001600</td>\n",
       "      <td>40033.0</td>\n",
       "      <td>587600.0</td>\n",
       "      <td>NEW YORK</td>\n",
       "      <td>Bronx County</td>\n",
       "      <td>001600</td>\n",
       "    </tr>\n",
       "    <tr>\n",
       "      <th>4</th>\n",
       "      <td>36005001901</td>\n",
       "      <td>55924.0</td>\n",
       "      <td>NaN</td>\n",
       "      <td>NEW YORK</td>\n",
       "      <td>Bronx County</td>\n",
       "      <td>001901</td>\n",
       "    </tr>\n",
       "    <tr>\n",
       "      <th>...</th>\n",
       "      <td>...</td>\n",
       "      <td>...</td>\n",
       "      <td>...</td>\n",
       "      <td>...</td>\n",
       "      <td>...</td>\n",
       "      <td>...</td>\n",
       "    </tr>\n",
       "    <tr>\n",
       "      <th>2322</th>\n",
       "      <td>36085030302</td>\n",
       "      <td>85842.0</td>\n",
       "      <td>420500.0</td>\n",
       "      <td>NEW YORK</td>\n",
       "      <td>Staten Island</td>\n",
       "      <td>030302</td>\n",
       "    </tr>\n",
       "    <tr>\n",
       "      <th>2323</th>\n",
       "      <td>36085031901</td>\n",
       "      <td>NaN</td>\n",
       "      <td>288300.0</td>\n",
       "      <td>NEW YORK</td>\n",
       "      <td>Staten Island</td>\n",
       "      <td>031901</td>\n",
       "    </tr>\n",
       "    <tr>\n",
       "      <th>2324</th>\n",
       "      <td>36085031902</td>\n",
       "      <td>76066.0</td>\n",
       "      <td>381600.0</td>\n",
       "      <td>NEW YORK</td>\n",
       "      <td>Staten Island</td>\n",
       "      <td>031902</td>\n",
       "    </tr>\n",
       "    <tr>\n",
       "      <th>2325</th>\n",
       "      <td>36085032300</td>\n",
       "      <td>86471.0</td>\n",
       "      <td>237100.0</td>\n",
       "      <td>NEW YORK</td>\n",
       "      <td>Staten Island</td>\n",
       "      <td>032300</td>\n",
       "    </tr>\n",
       "    <tr>\n",
       "      <th>2326</th>\n",
       "      <td>36085990100</td>\n",
       "      <td>NaN</td>\n",
       "      <td>NaN</td>\n",
       "      <td>NEW YORK</td>\n",
       "      <td>Staten Island</td>\n",
       "      <td>990100</td>\n",
       "    </tr>\n",
       "  </tbody>\n",
       "</table>\n",
       "<p>2327 rows × 6 columns</p>\n",
       "</div>"
      ],
      "text/plain": [
       "             FIPS  hh_income  house_value     State         County Tract_ID\n",
       "0     36005000100        NaN          NaN  NEW YORK   Bronx County   000100\n",
       "1     36005000200    70867.0     457300.0  NEW YORK   Bronx County   000200\n",
       "2     36005000400    98090.0     456100.0  NEW YORK   Bronx County   000400\n",
       "3     36005001600    40033.0     587600.0  NEW YORK   Bronx County   001600\n",
       "4     36005001901    55924.0          NaN  NEW YORK   Bronx County   001901\n",
       "...           ...        ...          ...       ...            ...      ...\n",
       "2322  36085030302    85842.0     420500.0  NEW YORK  Staten Island   030302\n",
       "2323  36085031901        NaN     288300.0  NEW YORK  Staten Island   031901\n",
       "2324  36085031902    76066.0     381600.0  NEW YORK  Staten Island   031902\n",
       "2325  36085032300    86471.0     237100.0  NEW YORK  Staten Island   032300\n",
       "2326  36085990100        NaN          NaN  NEW YORK  Staten Island   990100\n",
       "\n",
       "[2327 rows x 6 columns]"
      ]
     },
     "execution_count": 186,
     "metadata": {},
     "output_type": "execute_result"
    }
   ],
   "source": [
    "acs_nyc"
   ]
  },
  {
   "cell_type": "markdown",
   "id": "b186605d",
   "metadata": {},
   "source": [
    "3. Check for null values in the `hh_income` and `house_value` columns. Remove any rows with both hh_income and house_value missing. With the rest of the missing values, replace missing values in these columns with the mean value of their respective columns. (5 pts)"
   ]
  },
  {
   "cell_type": "code",
   "execution_count": 187,
   "id": "a4c8db06",
   "metadata": {},
   "outputs": [],
   "source": [
    "## first I apply a mask that takes out rows where both columns are null\n",
    "acs_nyc=acs_nyc[~(acs_nyc['hh_income'].isna() & acs_nyc['house_value'].isna())]\n",
    "\n",
    "##replace missing income with mean\n",
    "mean_income = acs_nyc['hh_income'].mean()\n",
    "acs_nyc.loc[acs_nyc['hh_income'].isna(), 'hh_income'] = mean_income\n",
    "\n",
    "##replace missing house value\n",
    "mean_house_value = acs_nyc['house_value'].mean()\n",
    "acs_nyc.loc[acs_nyc['house_value'].isna(), 'house_value'] = mean_house_value"
   ]
  },
  {
   "cell_type": "markdown",
   "id": "8bef7b85",
   "metadata": {},
   "source": [
    "Verify that there are no more null values in these columns. (1 pt)"
   ]
  },
  {
   "cell_type": "code",
   "execution_count": 188,
   "id": "fde8ed2f",
   "metadata": {},
   "outputs": [],
   "source": [
    "##double check there are no null values\n",
    "assert len(acs_nyc[acs_nyc['hh_income'].isna() | acs_nyc['house_value'].isna()])==0"
   ]
  },
  {
   "cell_type": "markdown",
   "id": "simple-freeware",
   "metadata": {},
   "source": [
    "# Data analysis\n",
    "\n",
    "Group the data by `County` and find the median household income and house value. Which county has the lowest median house income and house value? Show this through sorting the dataframe's rows by lowest median household income to highest and only displaying the first row. (5pt)\n",
    "\n",
    "**Bronx County does, see below for analysis**"
   ]
  },
  {
   "cell_type": "code",
   "execution_count": 189,
   "id": "permanent-spotlight",
   "metadata": {},
   "outputs": [
    {
     "data": {
      "text/html": [
       "<div>\n",
       "<style scoped>\n",
       "    .dataframe tbody tr th:only-of-type {\n",
       "        vertical-align: middle;\n",
       "    }\n",
       "\n",
       "    .dataframe tbody tr th {\n",
       "        vertical-align: top;\n",
       "    }\n",
       "\n",
       "    .dataframe thead th {\n",
       "        text-align: right;\n",
       "    }\n",
       "</style>\n",
       "<table border=\"1\" class=\"dataframe\">\n",
       "  <thead>\n",
       "    <tr style=\"text-align: right;\">\n",
       "      <th></th>\n",
       "      <th>County</th>\n",
       "      <th>hh_income</th>\n",
       "      <th>house_value</th>\n",
       "    </tr>\n",
       "  </thead>\n",
       "  <tbody>\n",
       "    <tr>\n",
       "      <th>0</th>\n",
       "      <td>Bronx County</td>\n",
       "      <td>44444.0</td>\n",
       "      <td>550000.0</td>\n",
       "    </tr>\n",
       "  </tbody>\n",
       "</table>\n",
       "</div>"
      ],
      "text/plain": [
       "         County  hh_income  house_value\n",
       "0  Bronx County    44444.0     550000.0"
      ]
     },
     "execution_count": 189,
     "metadata": {},
     "output_type": "execute_result"
    }
   ],
   "source": [
    "# first we group the data by county and get medians for income and house value in each\n",
    "# (FIPS and other texts ignored because they cannot be used for median, and are different in each tract)\n",
    "county_medians = acs_nyc.groupby(\"County\")[['hh_income', 'house_value']].median().reset_index()\n",
    "\n",
    "#we sort by income and display the first row (lowest median household income) of resulting df\n",
    "county_medians.sort_values('hh_income').head(1)"
   ]
  },
  {
   "cell_type": "markdown",
   "id": "191833ae",
   "metadata": {},
   "source": [
    "Which county has largest standard deviation in house income and house value? Show this through sorting the dataframe's rows by highest household income variance to lowest and only displaying the first row.(5pt)"
   ]
  },
  {
   "cell_type": "code",
   "execution_count": 190,
   "id": "b75a33bc",
   "metadata": {},
   "outputs": [],
   "source": [
    "# first we get standard deviations for income and house value in each county\n",
    "county_stds = acs_nyc.groupby(\"County\")[['hh_income', 'house_value']].std().reset_index()\n",
    "\n",
    "#and then we sort it by income\n",
    "county_stds = county_stds.sort_values('hh_income', ascending=False)"
   ]
  },
  {
   "cell_type": "code",
   "execution_count": 191,
   "id": "65f4eb81",
   "metadata": {},
   "outputs": [
    {
     "data": {
      "text/html": [
       "<div>\n",
       "<style scoped>\n",
       "    .dataframe tbody tr th:only-of-type {\n",
       "        vertical-align: middle;\n",
       "    }\n",
       "\n",
       "    .dataframe tbody tr th {\n",
       "        vertical-align: top;\n",
       "    }\n",
       "\n",
       "    .dataframe thead th {\n",
       "        text-align: right;\n",
       "    }\n",
       "</style>\n",
       "<table border=\"1\" class=\"dataframe\">\n",
       "  <thead>\n",
       "    <tr style=\"text-align: right;\">\n",
       "      <th></th>\n",
       "      <th>County</th>\n",
       "      <th>hh_income</th>\n",
       "      <th>house_value</th>\n",
       "    </tr>\n",
       "  </thead>\n",
       "  <tbody>\n",
       "    <tr>\n",
       "      <th>2</th>\n",
       "      <td>Manhattan County</td>\n",
       "      <td>58547.942749</td>\n",
       "      <td>485595.141937</td>\n",
       "    </tr>\n",
       "  </tbody>\n",
       "</table>\n",
       "</div>"
      ],
      "text/plain": [
       "             County     hh_income    house_value\n",
       "2  Manhattan County  58547.942749  485595.141937"
      ]
     },
     "execution_count": 191,
     "metadata": {},
     "output_type": "execute_result"
    }
   ],
   "source": [
    "#highest standard deviation in household income and highest standard deviation in house value are both in Manhattan\n",
    "#so we diplay the first row:\n",
    "county_stds.head(1)"
   ]
  },
  {
   "cell_type": "markdown",
   "id": "ae336678",
   "metadata": {},
   "source": [
    "# Bonus (3 pts)\n",
    "Take our original `acs_nyc.csv` and ask Chatgpt to clean it. What was the prompt that you gave it? Attach the dataset that it returned as a csv and read it into the cell below."
   ]
  },
  {
   "cell_type": "markdown",
   "id": "33ca8599",
   "metadata": {},
   "source": [
    "My prompt:\n",
    "\n",
    "This is a dataset of household income (hh_income) and home values (house_value) in New York City. There are missing values in hh_income, as well as house_value. Can you remove the rows where both hh_income and house_value are missing, and then replace the rows where only one of the values is missing with the mean value of the columns. \n",
    "Also, FIPS is a unique identifier for administrative units, and these are census tracts for New York (hence the first 2 digits are 36, the next 3 digits are of the county, and the last 6 are the TRACT_ID). Can you add three columns, one for the state (all NEW YORK), one for the county (you should use the first 5 digits to find the county using this mapping:\n",
    "    - Bronx County: 36005\n",
    "    - Brooklyn County: 36047\n",
    "    - Manhattan County: 36061\n",
    "    - Queens County: 36081\n",
    "    - Staten Island: 36085), and then parse the last 6 digits as strings and put them in the county column?"
   ]
  },
  {
   "cell_type": "markdown",
   "id": "1f4f5668",
   "metadata": {},
   "source": [
    "Since I don't have chatgpt4, I instead asked chatgpt 3.5 for the code to do the manipulation I want (Rifqi said this is ok).<br>\n",
    "Below is the code it gave me, and I ran it locally and then saved the .csv"
   ]
  },
  {
   "cell_type": "code",
   "execution_count": 192,
   "id": "80be8158",
   "metadata": {},
   "outputs": [
    {
     "name": "stderr",
     "output_type": "stream",
     "text": [
      "C:\\Users\\desai\\AppData\\Local\\Temp\\ipykernel_17860\\4242076350.py:8: FutureWarning: A value is trying to be set on a copy of a DataFrame or Series through chained assignment using an inplace method.\n",
      "The behavior will change in pandas 3.0. This inplace method will never work because the intermediate object on which we are setting values always behaves as a copy.\n",
      "\n",
      "For example, when doing 'df[col].method(value, inplace=True)', try using 'df.method({col: value}, inplace=True)' or df[col] = df[col].method(value) instead, to perform the operation inplace on the original object.\n",
      "\n",
      "\n",
      "  df['hh_income'].fillna(df['hh_income'].mean(), inplace=True)\n",
      "C:\\Users\\desai\\AppData\\Local\\Temp\\ipykernel_17860\\4242076350.py:9: FutureWarning: A value is trying to be set on a copy of a DataFrame or Series through chained assignment using an inplace method.\n",
      "The behavior will change in pandas 3.0. This inplace method will never work because the intermediate object on which we are setting values always behaves as a copy.\n",
      "\n",
      "For example, when doing 'df[col].method(value, inplace=True)', try using 'df.method({col: value}, inplace=True)' or df[col] = df[col].method(value) instead, to perform the operation inplace on the original object.\n",
      "\n",
      "\n",
      "  df['house_value'].fillna(df['house_value'].mean(), inplace=True)\n"
     ]
    }
   ],
   "source": [
    "# Assuming your dataset is loaded into a DataFrame named df\n",
    "df = pd.read_csv('acs_nyc.csv')\n",
    "\n",
    "# Remove rows where both hh_income and house_value are missing\n",
    "df = df.dropna(subset=['hh_income', 'house_value'], how='all')\n",
    "\n",
    "# Replace missing values with the mean of the respective columns\n",
    "df['hh_income'].fillna(df['hh_income'].mean(), inplace=True)\n",
    "df['house_value'].fillna(df['house_value'].mean(), inplace=True)\n",
    "\n",
    "# Add columns for State and County\n",
    "df['State'] = 'NEW YORK'\n",
    "\n",
    "# Mapping for County based on the first 5 digits of FIPS\n",
    "county_mapping = {\n",
    "    36005: 'Bronx County',\n",
    "    36047: 'Brooklyn County',\n",
    "    36061: 'Manhattan County',\n",
    "    36081: 'Queens County',\n",
    "    36085: 'Staten Island'\n",
    "}\n",
    "\n",
    "# Parse the last 6 digits of FIPS and add to the County column\n",
    "df['County'] = df['FIPS'].astype(str).str[:5].astype(int).map(county_mapping)\n",
    "\n",
    "# Parse the last 6 digits and put them in the Tract_ID column\n",
    "df['Tract_ID'] = df['FIPS'].astype(str).str[5:]\n",
    "\n",
    "# If you want to save the modified DataFrame to a new CSV file\n",
    "# df.to_csv(\"acs_nyc_chatgpt.csv\") #I commented this out so it doesn't write to your computer"
   ]
  },
  {
   "cell_type": "code",
   "execution_count": 193,
   "id": "c71f1719",
   "metadata": {},
   "outputs": [
    {
     "data": {
      "text/html": [
       "<div>\n",
       "<style scoped>\n",
       "    .dataframe tbody tr th:only-of-type {\n",
       "        vertical-align: middle;\n",
       "    }\n",
       "\n",
       "    .dataframe tbody tr th {\n",
       "        vertical-align: top;\n",
       "    }\n",
       "\n",
       "    .dataframe thead th {\n",
       "        text-align: right;\n",
       "    }\n",
       "</style>\n",
       "<table border=\"1\" class=\"dataframe\">\n",
       "  <thead>\n",
       "    <tr style=\"text-align: right;\">\n",
       "      <th></th>\n",
       "      <th>FIPS</th>\n",
       "      <th>hh_income</th>\n",
       "      <th>house_value</th>\n",
       "      <th>State</th>\n",
       "      <th>County</th>\n",
       "      <th>Tract_ID</th>\n",
       "    </tr>\n",
       "  </thead>\n",
       "  <tbody>\n",
       "    <tr>\n",
       "      <th>1</th>\n",
       "      <td>36005000200</td>\n",
       "      <td>70867.000000</td>\n",
       "      <td>457300.00000</td>\n",
       "      <td>NEW YORK</td>\n",
       "      <td>Bronx County</td>\n",
       "      <td>000200</td>\n",
       "    </tr>\n",
       "    <tr>\n",
       "      <th>2</th>\n",
       "      <td>36005000400</td>\n",
       "      <td>98090.000000</td>\n",
       "      <td>456100.00000</td>\n",
       "      <td>NEW YORK</td>\n",
       "      <td>Bronx County</td>\n",
       "      <td>000400</td>\n",
       "    </tr>\n",
       "    <tr>\n",
       "      <th>3</th>\n",
       "      <td>36005001600</td>\n",
       "      <td>40033.000000</td>\n",
       "      <td>587600.00000</td>\n",
       "      <td>NEW YORK</td>\n",
       "      <td>Bronx County</td>\n",
       "      <td>001600</td>\n",
       "    </tr>\n",
       "    <tr>\n",
       "      <th>4</th>\n",
       "      <td>36005001901</td>\n",
       "      <td>55924.000000</td>\n",
       "      <td>759977.64649</td>\n",
       "      <td>NEW YORK</td>\n",
       "      <td>Bronx County</td>\n",
       "      <td>001901</td>\n",
       "    </tr>\n",
       "    <tr>\n",
       "      <th>5</th>\n",
       "      <td>36005001902</td>\n",
       "      <td>60804.000000</td>\n",
       "      <td>425600.00000</td>\n",
       "      <td>NEW YORK</td>\n",
       "      <td>Bronx County</td>\n",
       "      <td>001902</td>\n",
       "    </tr>\n",
       "    <tr>\n",
       "      <th>...</th>\n",
       "      <td>...</td>\n",
       "      <td>...</td>\n",
       "      <td>...</td>\n",
       "      <td>...</td>\n",
       "      <td>...</td>\n",
       "      <td>...</td>\n",
       "    </tr>\n",
       "    <tr>\n",
       "      <th>2321</th>\n",
       "      <td>36085030301</td>\n",
       "      <td>95913.000000</td>\n",
       "      <td>457600.00000</td>\n",
       "      <td>NEW YORK</td>\n",
       "      <td>Staten Island</td>\n",
       "      <td>030301</td>\n",
       "    </tr>\n",
       "    <tr>\n",
       "      <th>2322</th>\n",
       "      <td>36085030302</td>\n",
       "      <td>85842.000000</td>\n",
       "      <td>420500.00000</td>\n",
       "      <td>NEW YORK</td>\n",
       "      <td>Staten Island</td>\n",
       "      <td>030302</td>\n",
       "    </tr>\n",
       "    <tr>\n",
       "      <th>2323</th>\n",
       "      <td>36085031901</td>\n",
       "      <td>78730.628871</td>\n",
       "      <td>288300.00000</td>\n",
       "      <td>NEW YORK</td>\n",
       "      <td>Staten Island</td>\n",
       "      <td>031901</td>\n",
       "    </tr>\n",
       "    <tr>\n",
       "      <th>2324</th>\n",
       "      <td>36085031902</td>\n",
       "      <td>76066.000000</td>\n",
       "      <td>381600.00000</td>\n",
       "      <td>NEW YORK</td>\n",
       "      <td>Staten Island</td>\n",
       "      <td>031902</td>\n",
       "    </tr>\n",
       "    <tr>\n",
       "      <th>2325</th>\n",
       "      <td>36085032300</td>\n",
       "      <td>86471.000000</td>\n",
       "      <td>237100.00000</td>\n",
       "      <td>NEW YORK</td>\n",
       "      <td>Staten Island</td>\n",
       "      <td>032300</td>\n",
       "    </tr>\n",
       "  </tbody>\n",
       "</table>\n",
       "<p>2212 rows × 6 columns</p>\n",
       "</div>"
      ],
      "text/plain": [
       "             FIPS     hh_income   house_value     State         County  \\\n",
       "1     36005000200  70867.000000  457300.00000  NEW YORK   Bronx County   \n",
       "2     36005000400  98090.000000  456100.00000  NEW YORK   Bronx County   \n",
       "3     36005001600  40033.000000  587600.00000  NEW YORK   Bronx County   \n",
       "4     36005001901  55924.000000  759977.64649  NEW YORK   Bronx County   \n",
       "5     36005001902  60804.000000  425600.00000  NEW YORK   Bronx County   \n",
       "...           ...           ...           ...       ...            ...   \n",
       "2321  36085030301  95913.000000  457600.00000  NEW YORK  Staten Island   \n",
       "2322  36085030302  85842.000000  420500.00000  NEW YORK  Staten Island   \n",
       "2323  36085031901  78730.628871  288300.00000  NEW YORK  Staten Island   \n",
       "2324  36085031902  76066.000000  381600.00000  NEW YORK  Staten Island   \n",
       "2325  36085032300  86471.000000  237100.00000  NEW YORK  Staten Island   \n",
       "\n",
       "     Tract_ID  \n",
       "1      000200  \n",
       "2      000400  \n",
       "3      001600  \n",
       "4      001901  \n",
       "5      001902  \n",
       "...       ...  \n",
       "2321   030301  \n",
       "2322   030302  \n",
       "2323   031901  \n",
       "2324   031902  \n",
       "2325   032300  \n",
       "\n",
       "[2212 rows x 6 columns]"
      ]
     },
     "execution_count": 193,
     "metadata": {},
     "output_type": "execute_result"
    }
   ],
   "source": [
    "## INSERT YOUR CODE HERE\n",
    "df = pd.DataFrame(pd.read_csv(\"acs_nyc_chatgpt.csv\",index_col=0, dtype={\"Tract_ID\": object}))\n",
    "\n",
    "df"
   ]
  },
  {
   "cell_type": "code",
   "execution_count": 194,
   "id": "f60749fc",
   "metadata": {},
   "outputs": [],
   "source": [
    "#everything in df is the same as acs_nyc, so chatGPT did this perfectly!\n",
    "#very cool!\n",
    "assert (df!=acs_nyc).sum().sum()==0"
   ]
  }
 ],
 "metadata": {
  "kernelspec": {
   "display_name": "Python 3",
   "language": "python",
   "name": "python3"
  },
  "language_info": {
   "codemirror_mode": {
    "name": "ipython",
    "version": 3
   },
   "file_extension": ".py",
   "mimetype": "text/x-python",
   "name": "python",
   "nbconvert_exporter": "python",
   "pygments_lexer": "ipython3",
   "version": "3.9.18"
  },
  "vscode": {
   "interpreter": {
    "hash": "cc571d7ca67236538d190807671ab3198970b7d67f23d825ad141ff90f68066a"
   }
  }
 },
 "nbformat": 4,
 "nbformat_minor": 5
}
