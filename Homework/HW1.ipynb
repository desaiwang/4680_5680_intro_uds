{
 "cells": [
  {
   "cell_type": "markdown",
   "id": "european-halloween",
   "metadata": {},
   "source": [
    "# Homework 1\n",
    "\n",
    "In this homework set, we will practice using pandas to clean and prep our data. \n",
    "\n",
    "### Deliverables: \n",
    "1. Pandas notebook with outputs\n",
    "2. The `acs_nyc.csv` file you used\n",
    "3. (Optional) The chatgpt output as a csv. "
   ]
  },
  {
   "cell_type": "code",
   "execution_count": 2,
   "id": "agreed-ridge",
   "metadata": {},
   "outputs": [],
   "source": [
    "# We are going to start importing the libraries we need\n",
    "# all in one cell. \n",
    "\n",
    "# It is a good practice to keep all the imports in one cell so that\n",
    "# we can easily see what libraries we are using in the notebook.\n",
    "import pandas as pd\n",
    "\n",
    "## There is no need to import libraries more than once!"
   ]
  },
  {
   "cell_type": "markdown",
   "id": "0c3ffcf1",
   "metadata": {},
   "source": [
    "# Household Income and Home Value in NYC\n",
    "In this exercise, you are going to investigate the relationship between household income and home values in New York City. \n",
    "\n",
    "You are given the dataset `acs_nyc.csv`, which was extracted from the IPUMS NHGIS portal. \n"
   ]
  },
  {
   "cell_type": "markdown",
   "id": "e2af11bb",
   "metadata": {},
   "source": [
    "# Data Loading and Initial Exploration"
   ]
  },
  {
   "cell_type": "code",
   "execution_count": 3,
   "id": "fifth-shepherd",
   "metadata": {},
   "outputs": [],
   "source": [
    "acs_nyc = pd.read_csv('acs_nyc.csv')\n"
   ]
  },
  {
   "cell_type": "markdown",
   "id": "b582bd4f",
   "metadata": {},
   "source": [
    "Display the first 12 rows of the data. (1 pt)"
   ]
  },
  {
   "cell_type": "code",
   "execution_count": 4,
   "id": "156f83b5",
   "metadata": {},
   "outputs": [],
   "source": [
    "## INSERT YOUR CODE HERE"
   ]
  },
  {
   "cell_type": "markdown",
   "id": "96bc0bcd",
   "metadata": {},
   "source": [
    "How many rows and how many columns are in the data? (1pt)"
   ]
  },
  {
   "cell_type": "code",
   "execution_count": 30,
   "id": "44d86ac7",
   "metadata": {},
   "outputs": [],
   "source": [
    "## INSERT YOUR CODE HERE"
   ]
  },
  {
   "cell_type": "markdown",
   "id": "7dde655a",
   "metadata": {},
   "source": [
    "What are the datatypes for each column? (1pt)"
   ]
  },
  {
   "cell_type": "code",
   "execution_count": 33,
   "id": "76611508",
   "metadata": {},
   "outputs": [],
   "source": [
    "## INSERT YOUR CODE HERE"
   ]
  },
  {
   "cell_type": "markdown",
   "id": "217e1441",
   "metadata": {},
   "source": [
    "Using one function, display the 25th, 50th, 75th percentiles, mean, min, max, count, and standard deviations for the `hh_income` and `house_value` columns. (1 pt)"
   ]
  },
  {
   "cell_type": "code",
   "execution_count": 36,
   "id": "2c41b6e0",
   "metadata": {},
   "outputs": [],
   "source": [
    "## INSERT YOUR CODE HERE"
   ]
  },
  {
   "cell_type": "markdown",
   "id": "collected-control",
   "metadata": {},
   "source": [
    "# Data Manipulation\n",
    "The FIPS code is a unique identifier for each administrative unit in the US. This is how to read a FIPS code. The number of digits in your `FIPS` columns corresponds to whether each row is a state, county, tract, or block. \n",
    "\n",
    "![This is how to read a FIPS code](https://customer.precisely.com/servlet/rtaImage?eid=ka0Vu0000000qGs&feoid=00N6g00000TynF6&refid=0EM6g0000010wuS)\n",
    "\n"
   ]
  },
  {
   "cell_type": "markdown",
   "id": "34c00e4e",
   "metadata": {},
   "source": [
    "1. What administrative unit is our dataset, based on how many FIPS digits in the `FIPS` column? (1 pt)\n",
    "\n",
    "You can write your answer in this cell. "
   ]
  },
  {
   "cell_type": "markdown",
   "id": "c9a1adc0",
   "metadata": {},
   "source": [
    "##ANSWER\n",
    "TRACTS"
   ]
  },
  {
   "cell_type": "markdown",
   "id": "0a724995",
   "metadata": {},
   "source": [
    "2. Using the FIPS code, create the following columns: (5 pts)\n",
    "- State\n",
    "- County: \n",
    "    - Bronx County: 36005\n",
    "    - Brooklyn County: 36047\n",
    "    - Manhattan County: 36061\n",
    "    - Queens County: 36081\n",
    "    - Staten Island: 36085\n",
    "- Tract_ID"
   ]
  },
  {
   "cell_type": "code",
   "execution_count": 9,
   "id": "c5d03b05",
   "metadata": {},
   "outputs": [],
   "source": [
    "## INSERT YOUR CODE HERE"
   ]
  },
  {
   "cell_type": "markdown",
   "id": "b186605d",
   "metadata": {},
   "source": [
    "3. Check for null values in the `hh_income` and `house_value` columns. Remove any rows with both hh_income and house_value missing. With the rest of the missing values, replace missing values in these columns with the mean value of their respective columns. (5 pts)"
   ]
  },
  {
   "cell_type": "code",
   "execution_count": null,
   "id": "a4c8db06",
   "metadata": {},
   "outputs": [],
   "source": [
    "## INSERT YOUR CODE HERE"
   ]
  },
  {
   "cell_type": "markdown",
   "id": "8bef7b85",
   "metadata": {},
   "source": [
    "Verify that there are no more null values in these columns. (1 pt)"
   ]
  },
  {
   "cell_type": "code",
   "execution_count": null,
   "id": "fde8ed2f",
   "metadata": {},
   "outputs": [],
   "source": [
    "## INSERT YOUR CODE HERE"
   ]
  },
  {
   "cell_type": "markdown",
   "id": "simple-freeware",
   "metadata": {},
   "source": [
    "# Data analysis\n",
    "\n",
    "Group the data by `County` and find the median household income and house value. Which county has the lowest median house income and house value? Show this through sorting the dataframe's rows by lowest median household income to highest and only displaying the first row. (5pt)"
   ]
  },
  {
   "cell_type": "code",
   "execution_count": null,
   "id": "permanent-spotlight",
   "metadata": {},
   "outputs": [],
   "source": [
    "## INSERT YOUR CODE HERE"
   ]
  },
  {
   "cell_type": "markdown",
   "id": "191833ae",
   "metadata": {},
   "source": [
    "Which county has largest standard deviation in house income and house value? Show this through sorting the dataframe's rows by highest household income variance to lowest and only displaying the first row.(5pt)"
   ]
  },
  {
   "cell_type": "code",
   "execution_count": null,
   "id": "b75a33bc",
   "metadata": {},
   "outputs": [],
   "source": [
    "## INSERT YOUR CODE HERE"
   ]
  },
  {
   "cell_type": "markdown",
   "id": "ae336678",
   "metadata": {},
   "source": [
    "# Bonus (3 pts)\n",
    "Take our original `acs_nyc.csv` and ask Chatgpt to clean it. What was the prompt that you gave it? Attach the dataset that it returned as a csv and read it into the cell below."
   ]
  },
  {
   "cell_type": "markdown",
   "id": "33ca8599",
   "metadata": {},
   "source": [
    "INSERT YOUR PROMPT HERE."
   ]
  },
  {
   "cell_type": "code",
   "execution_count": null,
   "id": "c71f1719",
   "metadata": {},
   "outputs": [],
   "source": [
    "## INSERT YOUR CODE HERE"
   ]
  }
 ],
 "metadata": {
  "kernelspec": {
   "display_name": "Python 3",
   "language": "python",
   "name": "python3"
  },
  "language_info": {
   "codemirror_mode": {
    "name": "ipython",
    "version": 3
   },
   "file_extension": ".py",
   "mimetype": "text/x-python",
   "name": "python",
   "nbconvert_exporter": "python",
   "pygments_lexer": "ipython3",
   "version": "3.9.13"
  },
  "vscode": {
   "interpreter": {
    "hash": "cc571d7ca67236538d190807671ab3198970b7d67f23d825ad141ff90f68066a"
   }
  }
 },
 "nbformat": 4,
 "nbformat_minor": 5
}
